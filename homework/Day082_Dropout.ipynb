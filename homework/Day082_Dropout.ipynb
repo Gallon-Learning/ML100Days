{
 "cells": [
  {
   "cell_type": "markdown",
   "metadata": {},
   "source": [
    "## 範例重點\n",
    "* 知道如何在 keras 中加入 dropout\n",
    "* 了解 dropout 中 ratio 的意義與對訓練的影響"
   ]
  },
  {
   "cell_type": "code",
   "execution_count": 2,
   "metadata": {},
   "outputs": [],
   "source": [
    "import os\n",
    "import keras\n",
    "\n",
    "# 本範例不需使用 GPU, 將 GPU 設定為 \"無\"\n",
    "os.environ[\"CUDA_VISIBLE_DEVICES\"] = \"\""
   ]
  },
  {
   "cell_type": "code",
   "execution_count": 3,
   "metadata": {},
   "outputs": [],
   "source": [
    "train, test = keras.datasets.cifar10.load_data()"
   ]
  },
  {
   "cell_type": "code",
   "execution_count": 4,
   "metadata": {},
   "outputs": [],
   "source": [
    "## 資料前處理\n",
    "def preproc_x(x, flatten=True):\n",
    "    x = x / 255.\n",
    "    if flatten:\n",
    "        x = x.reshape((len(x), -1))\n",
    "    return x\n",
    "\n",
    "def preproc_y(y, num_classes=10):\n",
    "    if y.shape[-1] == 1:\n",
    "        y = keras.utils.to_categorical(y, num_classes)\n",
    "    return y    "
   ]
  },
  {
   "cell_type": "code",
   "execution_count": 5,
   "metadata": {},
   "outputs": [],
   "source": [
    "x_train, y_train = train\n",
    "x_test, y_test = test\n",
    "\n",
    "# 資料前處理 - X 標準化\n",
    "x_train = preproc_x(x_train)\n",
    "x_test = preproc_x(x_test)\n",
    "\n",
    "# 資料前處理 -Y 轉成 onehot\n",
    "y_train = preproc_y(y_train)\n",
    "y_test = preproc_y(y_test)"
   ]
  },
  {
   "cell_type": "code",
   "execution_count": 6,
   "metadata": {},
   "outputs": [],
   "source": [
    "from keras.layers import Dropout\n",
    "\n",
    "\"\"\"\n",
    "建立神經網路，並加入 dropout layer\n",
    "\"\"\"\n",
    "def build_mlp(input_shape, output_units=10, num_neurons=[512, 256, 128], drp_ratio=0.2):\n",
    "    input_layer = keras.layers.Input(input_shape)\n",
    "    \n",
    "    for i, n_units in enumerate(num_neurons):\n",
    "        if i == 0:\n",
    "            x = keras.layers.Dense(units=n_units, \n",
    "                                   activation=\"relu\", \n",
    "                                   name=\"hidden_layer\"+str(i+1))(input_layer)\n",
    "            x = Dropout(drp_ratio)(x)\n",
    "        else:\n",
    "            x = keras.layers.Dense(units=n_units, \n",
    "                                   activation=\"relu\", \n",
    "                                   name=\"hidden_layer\"+str(i+1))(x)\n",
    "            x = Dropout(drp_ratio)(x)\n",
    "    \n",
    "    out = keras.layers.Dense(units=output_units, activation=\"softmax\", name=\"output\")(x)\n",
    "    \n",
    "    model = keras.models.Model(inputs=[input_layer], outputs=[out])\n",
    "    return model"
   ]
  },
  {
   "cell_type": "code",
   "execution_count": 7,
   "metadata": {},
   "outputs": [],
   "source": [
    "## 超參數設定\n",
    "LEARNING_RATE = 1e-3\n",
    "EPOCHS = 50\n",
    "BATCH_SIZE = 256\n",
    "MOMENTUM = 0.95\n",
    "Dropout_EXP = 0.25"
   ]
  },
  {
   "cell_type": "code",
   "execution_count": 8,
   "metadata": {
    "scrolled": true
   },
   "outputs": [
    {
     "name": "stdout",
     "output_type": "stream",
     "text": [
      "Model: \"model_1\"\n",
      "_________________________________________________________________\n",
      "Layer (type)                 Output Shape              Param #   \n",
      "=================================================================\n",
      "input_1 (InputLayer)         (None, 3072)              0         \n",
      "_________________________________________________________________\n",
      "hidden_layer1 (Dense)        (None, 512)               1573376   \n",
      "_________________________________________________________________\n",
      "dropout_1 (Dropout)          (None, 512)               0         \n",
      "_________________________________________________________________\n",
      "hidden_layer2 (Dense)        (None, 256)               131328    \n",
      "_________________________________________________________________\n",
      "dropout_2 (Dropout)          (None, 256)               0         \n",
      "_________________________________________________________________\n",
      "hidden_layer3 (Dense)        (None, 128)               32896     \n",
      "_________________________________________________________________\n",
      "dropout_3 (Dropout)          (None, 128)               0         \n",
      "_________________________________________________________________\n",
      "output (Dense)               (None, 10)                1290      \n",
      "=================================================================\n",
      "Total params: 1,738,890\n",
      "Trainable params: 1,738,890\n",
      "Non-trainable params: 0\n",
      "_________________________________________________________________\n",
      "WARNING:tensorflow:From C:\\ProgramData\\Anaconda3\\lib\\site-packages\\keras\\backend\\tensorflow_backend.py:422: The name tf.global_variables is deprecated. Please use tf.compat.v1.global_variables instead.\n",
      "\n",
      "Train on 50000 samples, validate on 10000 samples\n",
      "Epoch 1/50\n",
      "50000/50000 [==============================] - 7s 143us/step - loss: 2.1791 - accuracy: 0.1890 - val_loss: 1.9885 - val_accuracy: 0.2929\n",
      "Epoch 2/50\n",
      "50000/50000 [==============================] - 7s 130us/step - loss: 1.9918 - accuracy: 0.2715 - val_loss: 1.8641 - val_accuracy: 0.3451\n",
      "Epoch 3/50\n",
      "50000/50000 [==============================] - 7s 136us/step - loss: 1.9046 - accuracy: 0.3132 - val_loss: 1.7914 - val_accuracy: 0.3764\n",
      "Epoch 4/50\n",
      "50000/50000 [==============================] - 8s 156us/step - loss: 1.8483 - accuracy: 0.3349 - val_loss: 1.7386 - val_accuracy: 0.3931\n",
      "Epoch 5/50\n",
      "50000/50000 [==============================] - 8s 155us/step - loss: 1.8059 - accuracy: 0.3489 - val_loss: 1.6978 - val_accuracy: 0.3998\n",
      "Epoch 6/50\n",
      "50000/50000 [==============================] - 8s 159us/step - loss: 1.7701 - accuracy: 0.3655 - val_loss: 1.6616 - val_accuracy: 0.4122\n",
      "Epoch 7/50\n",
      "50000/50000 [==============================] - 8s 160us/step - loss: 1.7371 - accuracy: 0.3775 - val_loss: 1.6289 - val_accuracy: 0.4235\n",
      "Epoch 8/50\n",
      "50000/50000 [==============================] - 8s 153us/step - loss: 1.7145 - accuracy: 0.3877 - val_loss: 1.6150 - val_accuracy: 0.4312\n",
      "Epoch 9/50\n",
      "50000/50000 [==============================] - 8s 156us/step - loss: 1.6897 - accuracy: 0.3969 - val_loss: 1.6014 - val_accuracy: 0.4351\n",
      "Epoch 10/50\n",
      "50000/50000 [==============================] - 8s 155us/step - loss: 1.6729 - accuracy: 0.4040 - val_loss: 1.5701 - val_accuracy: 0.4426\n",
      "Epoch 11/50\n",
      "50000/50000 [==============================] - 7s 149us/step - loss: 1.6512 - accuracy: 0.4120 - val_loss: 1.5520 - val_accuracy: 0.4516\n",
      "Epoch 12/50\n",
      "50000/50000 [==============================] - 7s 149us/step - loss: 1.6358 - accuracy: 0.4185 - val_loss: 1.5483 - val_accuracy: 0.4488\n",
      "Epoch 13/50\n",
      "50000/50000 [==============================] - 8s 158us/step - loss: 1.6199 - accuracy: 0.4247 - val_loss: 1.5291 - val_accuracy: 0.4556\n",
      "Epoch 14/50\n",
      "50000/50000 [==============================] - 8s 159us/step - loss: 1.6026 - accuracy: 0.4300 - val_loss: 1.5050 - val_accuracy: 0.4621\n",
      "Epoch 15/50\n",
      "50000/50000 [==============================] - 8s 153us/step - loss: 1.5866 - accuracy: 0.4339 - val_loss: 1.5002 - val_accuracy: 0.4626\n",
      "Epoch 16/50\n",
      "50000/50000 [==============================] - 8s 161us/step - loss: 1.5707 - accuracy: 0.4414 - val_loss: 1.4900 - val_accuracy: 0.4698\n",
      "Epoch 17/50\n",
      "50000/50000 [==============================] - 8s 151us/step - loss: 1.5600 - accuracy: 0.4453 - val_loss: 1.4750 - val_accuracy: 0.4755\n",
      "Epoch 18/50\n",
      "50000/50000 [==============================] - 7s 145us/step - loss: 1.5435 - accuracy: 0.4495 - val_loss: 1.4645 - val_accuracy: 0.4770\n",
      "Epoch 19/50\n",
      "50000/50000 [==============================] - 7s 150us/step - loss: 1.5351 - accuracy: 0.4549 - val_loss: 1.4565 - val_accuracy: 0.4787\n",
      "Epoch 20/50\n",
      "50000/50000 [==============================] - 7s 149us/step - loss: 1.5203 - accuracy: 0.4588 - val_loss: 1.4501 - val_accuracy: 0.4807\n",
      "Epoch 21/50\n",
      "50000/50000 [==============================] - 7s 148us/step - loss: 1.5099 - accuracy: 0.4637 - val_loss: 1.4392 - val_accuracy: 0.4825\n",
      "Epoch 22/50\n",
      "50000/50000 [==============================] - 7s 148us/step - loss: 1.4985 - accuracy: 0.4657 - val_loss: 1.4338 - val_accuracy: 0.4902\n",
      "Epoch 23/50\n",
      "50000/50000 [==============================] - 8s 152us/step - loss: 1.4912 - accuracy: 0.4696 - val_loss: 1.4198 - val_accuracy: 0.4922\n",
      "Epoch 24/50\n",
      "50000/50000 [==============================] - 7s 145us/step - loss: 1.4815 - accuracy: 0.4729 - val_loss: 1.4108 - val_accuracy: 0.4973\n",
      "Epoch 25/50\n",
      "50000/50000 [==============================] - 8s 150us/step - loss: 1.4708 - accuracy: 0.4777 - val_loss: 1.4152 - val_accuracy: 0.4970\n",
      "Epoch 26/50\n",
      "50000/50000 [==============================] - 8s 155us/step - loss: 1.4602 - accuracy: 0.4815 - val_loss: 1.4081 - val_accuracy: 0.4989\n",
      "Epoch 27/50\n",
      "50000/50000 [==============================] - 8s 154us/step - loss: 1.4479 - accuracy: 0.4826 - val_loss: 1.3941 - val_accuracy: 0.4982\n",
      "Epoch 28/50\n",
      "50000/50000 [==============================] - 8s 160us/step - loss: 1.4379 - accuracy: 0.4865 - val_loss: 1.3922 - val_accuracy: 0.5027\n",
      "Epoch 29/50\n",
      "50000/50000 [==============================] - 8s 156us/step - loss: 1.4334 - accuracy: 0.4910 - val_loss: 1.3889 - val_accuracy: 0.5003\n",
      "Epoch 30/50\n",
      "50000/50000 [==============================] - 7s 148us/step - loss: 1.4171 - accuracy: 0.4957 - val_loss: 1.3815 - val_accuracy: 0.5030\n",
      "Epoch 31/50\n",
      "50000/50000 [==============================] - 8s 157us/step - loss: 1.4138 - accuracy: 0.4964 - val_loss: 1.3762 - val_accuracy: 0.5089\n",
      "Epoch 32/50\n",
      "50000/50000 [==============================] - 8s 151us/step - loss: 1.4087 - accuracy: 0.4992 - val_loss: 1.3774 - val_accuracy: 0.5049\n",
      "Epoch 33/50\n",
      "50000/50000 [==============================] - 7s 150us/step - loss: 1.3988 - accuracy: 0.5005 - val_loss: 1.3773 - val_accuracy: 0.5082\n",
      "Epoch 34/50\n",
      "50000/50000 [==============================] - 8s 151us/step - loss: 1.3914 - accuracy: 0.5030 - val_loss: 1.3790 - val_accuracy: 0.5038\n",
      "Epoch 35/50\n",
      "50000/50000 [==============================] - 8s 161us/step - loss: 1.3833 - accuracy: 0.5057 - val_loss: 1.3518 - val_accuracy: 0.5156\n",
      "Epoch 36/50\n",
      "50000/50000 [==============================] - 8s 152us/step - loss: 1.3766 - accuracy: 0.5095 - val_loss: 1.3512 - val_accuracy: 0.5151\n",
      "Epoch 37/50\n",
      "50000/50000 [==============================] - 8s 154us/step - loss: 1.3658 - accuracy: 0.5134 - val_loss: 1.3469 - val_accuracy: 0.5205\n",
      "Epoch 38/50\n",
      "50000/50000 [==============================] - 8s 160us/step - loss: 1.3551 - accuracy: 0.5165 - val_loss: 1.3559 - val_accuracy: 0.5154\n",
      "Epoch 39/50\n",
      "50000/50000 [==============================] - 8s 152us/step - loss: 1.3527 - accuracy: 0.5161 - val_loss: 1.3353 - val_accuracy: 0.5246\n",
      "Epoch 40/50\n",
      "50000/50000 [==============================] - 7s 149us/step - loss: 1.3492 - accuracy: 0.5214 - val_loss: 1.3269 - val_accuracy: 0.5235\n",
      "Epoch 41/50\n",
      "50000/50000 [==============================] - 8s 162us/step - loss: 1.3372 - accuracy: 0.5226 - val_loss: 1.3262 - val_accuracy: 0.5269\n",
      "Epoch 42/50\n",
      "50000/50000 [==============================] - 8s 154us/step - loss: 1.3311 - accuracy: 0.5251 - val_loss: 1.3272 - val_accuracy: 0.5270\n",
      "Epoch 43/50\n",
      "50000/50000 [==============================] - 8s 154us/step - loss: 1.3252 - accuracy: 0.5285 - val_loss: 1.3227 - val_accuracy: 0.5279\n",
      "Epoch 44/50\n",
      "50000/50000 [==============================] - 8s 170us/step - loss: 1.3155 - accuracy: 0.5285 - val_loss: 1.3205 - val_accuracy: 0.5276\n"
     ]
    },
    {
     "name": "stdout",
     "output_type": "stream",
     "text": [
      "Epoch 45/50\n",
      "50000/50000 [==============================] - 8s 163us/step - loss: 1.3105 - accuracy: 0.5323 - val_loss: 1.3190 - val_accuracy: 0.5308\n",
      "Epoch 46/50\n",
      "50000/50000 [==============================] - 8s 151us/step - loss: 1.3044 - accuracy: 0.5363 - val_loss: 1.3157 - val_accuracy: 0.5322\n",
      "Epoch 47/50\n",
      "50000/50000 [==============================] - 7s 149us/step - loss: 1.3035 - accuracy: 0.5356 - val_loss: 1.3134 - val_accuracy: 0.5288\n",
      "Epoch 48/50\n",
      "50000/50000 [==============================] - 8s 156us/step - loss: 1.2869 - accuracy: 0.5408 - val_loss: 1.3088 - val_accuracy: 0.5323\n",
      "Epoch 49/50\n",
      "50000/50000 [==============================] - 8s 163us/step - loss: 1.2866 - accuracy: 0.5411 - val_loss: 1.3164 - val_accuracy: 0.5297\n",
      "Epoch 50/50\n",
      "50000/50000 [==============================] - 9s 172us/step - loss: 1.2814 - accuracy: 0.5414 - val_loss: 1.3053 - val_accuracy: 0.5363\n"
     ]
    }
   ],
   "source": [
    "model = build_mlp(input_shape=x_train.shape[1:], drp_ratio=Dropout_EXP)\n",
    "model.summary()\n",
    "optimizer = keras.optimizers.SGD(lr=LEARNING_RATE, nesterov=True, momentum=MOMENTUM)\n",
    "model.compile(loss=\"categorical_crossentropy\", metrics=[\"accuracy\"], optimizer=optimizer)\n",
    "\n",
    "model.fit(x_train, y_train, \n",
    "          epochs=EPOCHS, \n",
    "          batch_size=BATCH_SIZE, \n",
    "          validation_data=(x_test, y_test), \n",
    "          shuffle=True)\n",
    "\n",
    "# Collect results\n",
    "train_loss = model.history.history[\"loss\"]\n",
    "valid_loss = model.history.history[\"val_loss\"]\n",
    "train_acc = model.history.history[\"accuracy\"]\n",
    "valid_acc = model.history.history[\"val_accuracy\"]"
   ]
  },
  {
   "cell_type": "code",
   "execution_count": 9,
   "metadata": {},
   "outputs": [
    {
     "data": {
      "image/png": "[encoded data removed]",
      "text/plain": [
       "<Figure size 432x288 with 1 Axes>"
      ]
     },
     "metadata": {
      "needs_background": "light"
     },
     "output_type": "display_data"
    },
    {
     "data": {
      "image/png": "[encoded data removed]",
      "text/plain": [
       "<Figure size 432x288 with 1 Axes>"
      ]
     },
     "metadata": {
      "needs_background": "light"
     },
     "output_type": "display_data"
    }
   ],
   "source": [
    "import matplotlib.pyplot as plt\n",
    "%matplotlib inline\n",
    "\n",
    "plt.plot(range(len(train_loss)), train_loss, label=\"train loss\")\n",
    "plt.plot(range(len(valid_loss)), valid_loss, label=\"valid loss\")\n",
    "plt.legend()\n",
    "plt.title(\"Loss\")\n",
    "plt.show()\n",
    "\n",
    "plt.plot(range(len(train_acc)), train_acc, label=\"train accuracy\")\n",
    "plt.plot(range(len(valid_acc)), valid_acc, label=\"valid accuracy\")\n",
    "plt.legend()\n",
    "plt.title(\"Accuracy\")\n",
    "plt.show()"
   ]
  },
  {
   "cell_type": "markdown",
   "metadata": {},
   "source": [
    "## Work\n",
    "1. 請比較使用不同層數以及不同 Dropout rate 對訓練的效果\n",
    "2. 將 optimizer 改成使用 Adam 並加上適當的 dropout rate 檢視結果"
   ]
  }
 ],
 "metadata": {
  "kernelspec": {
   "display_name": "Python 3",
   "language": "python",
   "name": "python3"
  },
  "language_info": {
   "codemirror_mode": {
    "name": "ipython",
    "version": 3
   },
   "file_extension": ".py",
   "mimetype": "text/x-python",
   "name": "python",
   "nbconvert_exporter": "python",
   "pygments_lexer": "ipython3",
   "version": "3.7.6"
  }
 },
 "nbformat": 4,
 "nbformat_minor": 2
}
