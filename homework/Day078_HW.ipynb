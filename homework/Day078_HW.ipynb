{
 "cells": [
  {
   "cell_type": "markdown",
   "metadata": {},
   "source": [
    "## Work\n",
    "1. 請嘗試將 preproc_x 替換成以每筆資料的 min/max 進行標準化至 -1 ~ 1 間，再進行訓練\n",
    "2. 請嘗試將 mlp 疊更深 (e.g 5~10 層)，進行訓練後觀察 learning curve 的走勢\n",
    "3. (optional) 請改用 GPU 進行訓練 (如果你有 GPU 的話)，比較使用 CPU 與 GPU 的訓練速度"
   ]
  },
  {
   "cell_type": "code",
   "execution_count": 1,
   "metadata": {},
   "outputs": [],
   "source": [
    "## \n",
    "\"\"\"\n",
    "Your code here (optional)\n",
    "確認硬體資源\n",
    "\"\"\"\n"
   ]
  },
  {
   "cell_type": "code",
   "execution_count": 2,
   "metadata": {},
   "outputs": [],
   "source": [
    "import os\n",
    "import keras\n",
    "\n",
    "# 請嘗試設定 GPU：os.environ\n"
   ]
  },
  {
   "cell_type": "code",
   "execution_count": 30,
   "metadata": {},
   "outputs": [],
   "source": [
    "train, test = keras.datasets.cifar10.load_data()"
   ]
  },
  {
   "cell_type": "code",
   "execution_count": 31,
   "metadata": {},
   "outputs": [],
   "source": [
    "from sklearn.preprocessing import MinMaxScaler\n",
    "## 資料前處理\n",
    "\"\"\"\n",
    "Your code here\n",
    "\"\"\"\n",
    "def preproc_x(x, flatten=True):    \n",
    "    if flatten:\n",
    "        scaler = MinMaxScaler(feature_range = (-1, 1))\n",
    "        x = x.reshape((len(x), -1))\n",
    "        scaler.fit(x)\n",
    "        x=scaler.transform(x)\n",
    "    return x\n",
    "\n",
    "def preproc_y(y, num_classes=10):\n",
    "    if y.shape[-1] == 1:\n",
    "        y = keras.utils.to_categorical(y, num_classes)\n",
    "    return y    "
   ]
  },
  {
   "cell_type": "code",
   "execution_count": 33,
   "metadata": {},
   "outputs": [],
   "source": [
    "x_train, y_train = train\n",
    "x_test, y_test = test\n",
    "\n",
    "# Preproc the inputs\n",
    "x_train = preproc_x(x_train)\n",
    "x_test = preproc_x(x_test)\n",
    "\n",
    "# Preprc the outputs\n",
    "y_train = preproc_y(y_train)\n",
    "y_test = preproc_y(y_test)"
   ]
  },
  {
   "cell_type": "code",
   "execution_count": 34,
   "metadata": {},
   "outputs": [
    {
     "name": "stdout",
     "output_type": "stream",
     "text": [
      "Model: \"model_1\"\n",
      "_________________________________________________________________\n",
      "Layer (type)                 Output Shape              Param #   \n",
      "=================================================================\n",
      "input_1 (InputLayer)         (None, 3072)              0         \n",
      "_________________________________________________________________\n",
      "hidden_layer1 (Dense)        (None, 512)               1573376   \n",
      "_________________________________________________________________\n",
      "hidden_layer2 (Dense)        (None, 256)               131328    \n",
      "_________________________________________________________________\n",
      "hidden_layer3 (Dense)        (None, 128)               32896     \n",
      "_________________________________________________________________\n",
      "hidden_layer4 (Dense)        (None, 64)                8256      \n",
      "_________________________________________________________________\n",
      "hidden_layer5 (Dense)        (None, 32)                2080      \n",
      "_________________________________________________________________\n",
      "hidden_layer6 (Dense)        (None, 16)                528       \n",
      "_________________________________________________________________\n",
      "output (Dense)               (None, 10)                170       \n",
      "=================================================================\n",
      "Total params: 1,748,634\n",
      "Trainable params: 1,748,634\n",
      "Non-trainable params: 0\n",
      "_________________________________________________________________\n"
     ]
    }
   ],
   "source": [
    "\"\"\"Code Here\n",
    "建立你的神經網路\n",
    "\"\"\"\n",
    "def build_mlp(input_shape, output_units=10, num_neurons=[512, 256, 128, 64, 32, 16]):\n",
    "    input_layer = keras.layers.Input(input_shape)\n",
    "    \n",
    "    for i, n_units in enumerate(num_neurons):\n",
    "        if i == 0:\n",
    "            x = keras.layers.Dense(units=n_units, activation=\"relu\", name=\"hidden_layer\"+str(i+1))(input_layer)\n",
    "        else:\n",
    "            x = keras.layers.Dense(units=n_units, activation=\"relu\", name=\"hidden_layer\"+str(i+1))(x)\n",
    "    \n",
    "    out = keras.layers.Dense(units=output_units, activation=\"softmax\", name=\"output\")(x)\n",
    "    \n",
    "    model = keras.models.Model(inputs=[input_layer], outputs=[out])\n",
    "    return model\n",
    "model = build_mlp(input_shape=x_train.shape[1:])\n",
    "model.summary()"
   ]
  },
  {
   "cell_type": "code",
   "execution_count": 35,
   "metadata": {},
   "outputs": [],
   "source": [
    "## 超參數設定\n",
    "LEARNING_RATE = 0.001\n",
    "EPOCHS = 100\n",
    "BATCH_SIZE = 256"
   ]
  },
  {
   "cell_type": "code",
   "execution_count": 36,
   "metadata": {},
   "outputs": [],
   "source": [
    "optimizer = keras.optimizers.Adam(lr=LEARNING_RATE)\n",
    "model.compile(loss=\"categorical_crossentropy\", metrics=[\"accuracy\"], optimizer=optimizer)"
   ]
  },
  {
   "cell_type": "code",
   "execution_count": 37,
   "metadata": {},
   "outputs": [
    {
     "name": "stdout",
     "output_type": "stream",
     "text": [
      "WARNING:tensorflow:From C:\\ProgramData\\Anaconda3\\lib\\site-packages\\keras\\backend\\tensorflow_backend.py:422: The name tf.global_variables is deprecated. Please use tf.compat.v1.global_variables instead.\n",
      "\n",
      "Train on 50000 samples, validate on 10000 samples\n",
      "Epoch 1/100\n",
      "50000/50000 [==============================] - 8s 167us/step - loss: 1.8328 - accuracy: 0.3531 - val_loss: 1.5840 - val_accuracy: 0.4433\n",
      "Epoch 2/100\n",
      "50000/50000 [==============================] - 8s 166us/step - loss: 1.5163 - accuracy: 0.4654 - val_loss: 1.4715 - val_accuracy: 0.4816\n",
      "Epoch 3/100\n",
      "50000/50000 [==============================] - 8s 163us/step - loss: 1.3861 - accuracy: 0.5124 - val_loss: 1.4282 - val_accuracy: 0.4973\n",
      "Epoch 4/100\n",
      "50000/50000 [==============================] - 8s 163us/step - loss: 1.2964 - accuracy: 0.5439 - val_loss: 1.3826 - val_accuracy: 0.5143\n",
      "Epoch 5/100\n",
      "50000/50000 [==============================] - 9s 171us/step - loss: 1.2066 - accuracy: 0.5753 - val_loss: 1.3741 - val_accuracy: 0.5235\n",
      "Epoch 6/100\n",
      "50000/50000 [==============================] - 9s 171us/step - loss: 1.1288 - accuracy: 0.6022 - val_loss: 1.3547 - val_accuracy: 0.5315\n",
      "Epoch 7/100\n",
      "50000/50000 [==============================] - 9s 173us/step - loss: 1.0571 - accuracy: 0.6263 - val_loss: 1.3784 - val_accuracy: 0.5236\n",
      "Epoch 8/100\n",
      "50000/50000 [==============================] - 8s 169us/step - loss: 0.9804 - accuracy: 0.6545 - val_loss: 1.3728 - val_accuracy: 0.5381\n",
      "Epoch 9/100\n",
      "50000/50000 [==============================] - 9s 173us/step - loss: 0.9138 - accuracy: 0.6756 - val_loss: 1.3932 - val_accuracy: 0.5320\n",
      "Epoch 10/100\n",
      "50000/50000 [==============================] - 9s 171us/step - loss: 0.8523 - accuracy: 0.7006 - val_loss: 1.4493 - val_accuracy: 0.5306\n",
      "Epoch 11/100\n",
      "50000/50000 [==============================] - 9s 173us/step - loss: 0.7841 - accuracy: 0.7220 - val_loss: 1.5275 - val_accuracy: 0.5361\n",
      "Epoch 12/100\n",
      "50000/50000 [==============================] - 8s 169us/step - loss: 0.7157 - accuracy: 0.7455 - val_loss: 1.5691 - val_accuracy: 0.5253\n",
      "Epoch 13/100\n",
      "50000/50000 [==============================] - 9s 173us/step - loss: 0.6534 - accuracy: 0.7688 - val_loss: 1.6324 - val_accuracy: 0.5347\n",
      "Epoch 14/100\n",
      "50000/50000 [==============================] - 9s 171us/step - loss: 0.6129 - accuracy: 0.7827 - val_loss: 1.6892 - val_accuracy: 0.5297\n",
      "Epoch 15/100\n",
      "50000/50000 [==============================] - 9s 174us/step - loss: 0.5452 - accuracy: 0.8070 - val_loss: 1.7610 - val_accuracy: 0.5323\n",
      "Epoch 16/100\n",
      "50000/50000 [==============================] - 8s 169us/step - loss: 0.5082 - accuracy: 0.8205 - val_loss: 1.8475 - val_accuracy: 0.5350\n",
      "Epoch 17/100\n",
      "50000/50000 [==============================] - 9s 173us/step - loss: 0.4596 - accuracy: 0.8390 - val_loss: 2.0076 - val_accuracy: 0.5314\n",
      "Epoch 18/100\n",
      "50000/50000 [==============================] - 8s 170us/step - loss: 0.4329 - accuracy: 0.8487 - val_loss: 2.0740 - val_accuracy: 0.5323\n",
      "Epoch 19/100\n",
      "50000/50000 [==============================] - 9s 172us/step - loss: 0.3914 - accuracy: 0.8629 - val_loss: 2.1180 - val_accuracy: 0.5340\n",
      "Epoch 20/100\n",
      "50000/50000 [==============================] - 9s 172us/step - loss: 0.3625 - accuracy: 0.8705 - val_loss: 2.2486 - val_accuracy: 0.5344\n",
      "Epoch 21/100\n",
      "50000/50000 [==============================] - 9s 170us/step - loss: 0.3349 - accuracy: 0.8835 - val_loss: 2.3071 - val_accuracy: 0.5229\n",
      "Epoch 22/100\n",
      "50000/50000 [==============================] - 9s 173us/step - loss: 0.3103 - accuracy: 0.8923 - val_loss: 2.4566 - val_accuracy: 0.5344\n",
      "Epoch 23/100\n",
      "50000/50000 [==============================] - 9s 171us/step - loss: 0.2881 - accuracy: 0.8992 - val_loss: 2.5328 - val_accuracy: 0.5306\n",
      "Epoch 24/100\n",
      "50000/50000 [==============================] - 9s 172us/step - loss: 0.2721 - accuracy: 0.9055 - val_loss: 2.6449 - val_accuracy: 0.5180\n",
      "Epoch 25/100\n",
      "50000/50000 [==============================] - 8s 170us/step - loss: 0.2555 - accuracy: 0.9093 - val_loss: 2.6468 - val_accuracy: 0.5366\n",
      "Epoch 26/100\n",
      "50000/50000 [==============================] - 9s 173us/step - loss: 0.2425 - accuracy: 0.9147 - val_loss: 2.7805 - val_accuracy: 0.5358\n",
      "Epoch 27/100\n",
      "50000/50000 [==============================] - 9s 173us/step - loss: 0.2394 - accuracy: 0.9174 - val_loss: 2.8119 - val_accuracy: 0.5298\n",
      "Epoch 28/100\n",
      "50000/50000 [==============================] - 10s 194us/step - loss: 0.2170 - accuracy: 0.9248 - val_loss: 2.9948 - val_accuracy: 0.5287\n",
      "Epoch 29/100\n",
      "50000/50000 [==============================] - 10s 199us/step - loss: 0.1908 - accuracy: 0.9351 - val_loss: 3.0611 - val_accuracy: 0.5312\n",
      "Epoch 30/100\n",
      "50000/50000 [==============================] - 9s 185us/step - loss: 0.2180 - accuracy: 0.9242 - val_loss: 2.9713 - val_accuracy: 0.5281\n",
      "Epoch 31/100\n",
      "50000/50000 [==============================] - 9s 185us/step - loss: 0.1966 - accuracy: 0.9331 - val_loss: 3.0837 - val_accuracy: 0.5236\n",
      "Epoch 32/100\n",
      "50000/50000 [==============================] - 9s 177us/step - loss: 0.1769 - accuracy: 0.9389 - val_loss: 3.1481 - val_accuracy: 0.5317\n",
      "Epoch 33/100\n",
      "50000/50000 [==============================] - 9s 177us/step - loss: 0.1847 - accuracy: 0.9367 - val_loss: 3.2185 - val_accuracy: 0.5303\n",
      "Epoch 34/100\n",
      "50000/50000 [==============================] - 9s 177us/step - loss: 0.1777 - accuracy: 0.9386 - val_loss: 3.2349 - val_accuracy: 0.5289\n",
      "Epoch 35/100\n",
      "50000/50000 [==============================] - 9s 177us/step - loss: 0.1631 - accuracy: 0.9432 - val_loss: 3.3375 - val_accuracy: 0.5342\n",
      "Epoch 36/100\n",
      "50000/50000 [==============================] - 9s 171us/step - loss: 0.1355 - accuracy: 0.9534 - val_loss: 3.4514 - val_accuracy: 0.5258\n",
      "Epoch 37/100\n",
      "50000/50000 [==============================] - 9s 175us/step - loss: 0.1684 - accuracy: 0.9432 - val_loss: 3.3586 - val_accuracy: 0.5288\n",
      "Epoch 38/100\n",
      "50000/50000 [==============================] - 9s 173us/step - loss: 0.1643 - accuracy: 0.9437 - val_loss: 3.4298 - val_accuracy: 0.5293\n",
      "Epoch 39/100\n",
      "50000/50000 [==============================] - 9s 174us/step - loss: 0.1479 - accuracy: 0.9496 - val_loss: 3.5239 - val_accuracy: 0.5262\n",
      "Epoch 40/100\n",
      "50000/50000 [==============================] - 9s 175us/step - loss: 0.1551 - accuracy: 0.9465 - val_loss: 3.4007 - val_accuracy: 0.5317\n",
      "Epoch 41/100\n",
      "50000/50000 [==============================] - 9s 173us/step - loss: 0.1319 - accuracy: 0.9544 - val_loss: 3.6118 - val_accuracy: 0.5211\n",
      "Epoch 42/100\n",
      "50000/50000 [==============================] - 9s 177us/step - loss: 0.1256 - accuracy: 0.9576 - val_loss: 3.6336 - val_accuracy: 0.5222\n",
      "Epoch 43/100\n",
      "50000/50000 [==============================] - 9s 172us/step - loss: 0.1330 - accuracy: 0.9544 - val_loss: 3.6699 - val_accuracy: 0.5286\n",
      "Epoch 44/100\n",
      "50000/50000 [==============================] - 9s 178us/step - loss: 0.1379 - accuracy: 0.9533 - val_loss: 3.7764 - val_accuracy: 0.5271\n",
      "Epoch 45/100\n",
      "50000/50000 [==============================] - 9s 171us/step - loss: 0.1359 - accuracy: 0.9553 - val_loss: 3.7033 - val_accuracy: 0.5295\n",
      "Epoch 46/100\n",
      "50000/50000 [==============================] - 9s 176us/step - loss: 0.1078 - accuracy: 0.9641 - val_loss: 3.8659 - val_accuracy: 0.5293\n",
      "Epoch 47/100\n",
      "50000/50000 [==============================] - 9s 171us/step - loss: 0.1171 - accuracy: 0.9604 - val_loss: 3.6987 - val_accuracy: 0.5295\n",
      "Epoch 48/100\n",
      "50000/50000 [==============================] - 9s 174us/step - loss: 0.1370 - accuracy: 0.9544 - val_loss: 3.6247 - val_accuracy: 0.5187\n",
      "Epoch 49/100\n",
      "50000/50000 [==============================] - 9s 173us/step - loss: 0.1079 - accuracy: 0.9649 - val_loss: 3.7588 - val_accuracy: 0.5294\n",
      "Epoch 50/100\n",
      "50000/50000 [==============================] - 9s 172us/step - loss: 0.1186 - accuracy: 0.9613 - val_loss: 3.6726 - val_accuracy: 0.5257\n",
      "Epoch 51/100\n",
      "50000/50000 [==============================] - 9s 174us/step - loss: 0.1040 - accuracy: 0.9652 - val_loss: 3.9056 - val_accuracy: 0.5335\n",
      "Epoch 52/100\n",
      "50000/50000 [==============================] - 9s 171us/step - loss: 0.1067 - accuracy: 0.9652 - val_loss: 3.9573 - val_accuracy: 0.5274\n",
      "Epoch 53/100\n",
      "50000/50000 [==============================] - 9s 174us/step - loss: 0.1091 - accuracy: 0.9626 - val_loss: 3.9006 - val_accuracy: 0.5305\n"
     ]
    },
    {
     "name": "stdout",
     "output_type": "stream",
     "text": [
      "Epoch 54/100\n",
      "50000/50000 [==============================] - 8s 170us/step - loss: 0.1169 - accuracy: 0.9623 - val_loss: 3.9192 - val_accuracy: 0.5304\n",
      "Epoch 55/100\n",
      "50000/50000 [==============================] - 9s 174us/step - loss: 0.0978 - accuracy: 0.9673 - val_loss: 4.0406 - val_accuracy: 0.5260\n",
      "Epoch 56/100\n",
      "50000/50000 [==============================] - 9s 171us/step - loss: 0.1197 - accuracy: 0.9597 - val_loss: 3.8799 - val_accuracy: 0.5288\n",
      "Epoch 57/100\n",
      "50000/50000 [==============================] - 9s 173us/step - loss: 0.1028 - accuracy: 0.9658 - val_loss: 3.9197 - val_accuracy: 0.5297\n",
      "Epoch 58/100\n",
      "50000/50000 [==============================] - 9s 170us/step - loss: 0.0855 - accuracy: 0.9725 - val_loss: 4.0534 - val_accuracy: 0.5292\n",
      "Epoch 59/100\n",
      "50000/50000 [==============================] - 9s 175us/step - loss: 0.0997 - accuracy: 0.9668 - val_loss: 4.0682 - val_accuracy: 0.5256\n",
      "Epoch 60/100\n",
      "50000/50000 [==============================] - 9s 174us/step - loss: 0.1017 - accuracy: 0.9659 - val_loss: 3.9751 - val_accuracy: 0.5236\n",
      "Epoch 61/100\n",
      "50000/50000 [==============================] - 9s 174us/step - loss: 0.1065 - accuracy: 0.9657 - val_loss: 3.9239 - val_accuracy: 0.5266\n",
      "Epoch 62/100\n",
      "50000/50000 [==============================] - 9s 182us/step - loss: 0.0746 - accuracy: 0.9755 - val_loss: 4.1584 - val_accuracy: 0.5231\n",
      "Epoch 63/100\n",
      "50000/50000 [==============================] - 9s 170us/step - loss: 0.0936 - accuracy: 0.9690 - val_loss: 4.1849 - val_accuracy: 0.5246\n",
      "Epoch 64/100\n",
      "50000/50000 [==============================] - 9s 179us/step - loss: 0.0957 - accuracy: 0.9680 - val_loss: 4.0916 - val_accuracy: 0.5259\n",
      "Epoch 65/100\n",
      "50000/50000 [==============================] - 9s 171us/step - loss: 0.0866 - accuracy: 0.9720 - val_loss: 4.2654 - val_accuracy: 0.5186\n",
      "Epoch 66/100\n",
      "50000/50000 [==============================] - 9s 177us/step - loss: 0.0928 - accuracy: 0.9688 - val_loss: 4.1097 - val_accuracy: 0.5253\n",
      "Epoch 67/100\n",
      "50000/50000 [==============================] - 9s 185us/step - loss: 0.0858 - accuracy: 0.9710 - val_loss: 4.1470 - val_accuracy: 0.5189\n",
      "Epoch 68/100\n",
      "50000/50000 [==============================] - 9s 177us/step - loss: 0.0863 - accuracy: 0.9715 - val_loss: 4.1779 - val_accuracy: 0.5307\n",
      "Epoch 69/100\n",
      "50000/50000 [==============================] - 9s 178us/step - loss: 0.0794 - accuracy: 0.9735 - val_loss: 4.2524 - val_accuracy: 0.5290\n",
      "Epoch 70/100\n",
      "50000/50000 [==============================] - 9s 188us/step - loss: 0.0942 - accuracy: 0.9690 - val_loss: 4.1401 - val_accuracy: 0.5220\n",
      "Epoch 71/100\n",
      "50000/50000 [==============================] - 9s 177us/step - loss: 0.0957 - accuracy: 0.9691 - val_loss: 4.0751 - val_accuracy: 0.5312\n",
      "Epoch 72/100\n",
      "50000/50000 [==============================] - 9s 176us/step - loss: 0.0826 - accuracy: 0.9730 - val_loss: 4.2211 - val_accuracy: 0.5355\n",
      "Epoch 73/100\n",
      "50000/50000 [==============================] - 9s 176us/step - loss: 0.0864 - accuracy: 0.9715 - val_loss: 4.2567 - val_accuracy: 0.5244\n",
      "Epoch 74/100\n",
      "50000/50000 [==============================] - 9s 173us/step - loss: 0.0796 - accuracy: 0.9734 - val_loss: 4.2141 - val_accuracy: 0.5303\n",
      "Epoch 75/100\n",
      "50000/50000 [==============================] - 9s 177us/step - loss: 0.0567 - accuracy: 0.9817 - val_loss: 4.5672 - val_accuracy: 0.5305\n",
      "Epoch 76/100\n",
      "50000/50000 [==============================] - 9s 175us/step - loss: 0.0900 - accuracy: 0.9702 - val_loss: 4.2704 - val_accuracy: 0.5280\n",
      "Epoch 77/100\n",
      "50000/50000 [==============================] - 9s 179us/step - loss: 0.0853 - accuracy: 0.9729 - val_loss: 4.2041 - val_accuracy: 0.5311\n",
      "Epoch 78/100\n",
      "50000/50000 [==============================] - 9s 175us/step - loss: 0.0761 - accuracy: 0.9746 - val_loss: 4.3743 - val_accuracy: 0.5277\n",
      "Epoch 79/100\n",
      "50000/50000 [==============================] - 9s 182us/step - loss: 0.0565 - accuracy: 0.9815 - val_loss: 4.4573 - val_accuracy: 0.5261\n",
      "Epoch 80/100\n",
      "50000/50000 [==============================] - 9s 174us/step - loss: 0.0842 - accuracy: 0.9722 - val_loss: 4.2582 - val_accuracy: 0.5288\n",
      "Epoch 81/100\n",
      "50000/50000 [==============================] - 9s 172us/step - loss: 0.0676 - accuracy: 0.9781 - val_loss: 4.3500 - val_accuracy: 0.5266\n",
      "Epoch 82/100\n",
      "50000/50000 [==============================] - 9s 176us/step - loss: 0.0686 - accuracy: 0.9773 - val_loss: 4.3444 - val_accuracy: 0.5211\n",
      "Epoch 83/100\n",
      "50000/50000 [==============================] - 9s 172us/step - loss: 0.0945 - accuracy: 0.9706 - val_loss: 4.1985 - val_accuracy: 0.5258\n",
      "Epoch 84/100\n",
      "50000/50000 [==============================] - 9s 176us/step - loss: 0.0756 - accuracy: 0.9759 - val_loss: 4.1892 - val_accuracy: 0.5347\n",
      "Epoch 85/100\n",
      "50000/50000 [==============================] - 9s 176us/step - loss: 0.0585 - accuracy: 0.9808 - val_loss: 4.2937 - val_accuracy: 0.5338\n",
      "Epoch 86/100\n",
      "50000/50000 [==============================] - 8s 168us/step - loss: 0.0706 - accuracy: 0.9771 - val_loss: 4.4706 - val_accuracy: 0.5292\n",
      "Epoch 87/100\n",
      "50000/50000 [==============================] - 8s 165us/step - loss: 0.0808 - accuracy: 0.9742 - val_loss: 4.3014 - val_accuracy: 0.5269\n",
      "Epoch 88/100\n",
      "50000/50000 [==============================] - 8s 167us/step - loss: 0.0586 - accuracy: 0.9800 - val_loss: 4.5676 - val_accuracy: 0.5250\n",
      "Epoch 89/100\n",
      "50000/50000 [==============================] - 8s 164us/step - loss: 0.0621 - accuracy: 0.9805 - val_loss: 4.3942 - val_accuracy: 0.5262\n",
      "Epoch 90/100\n",
      "50000/50000 [==============================] - 8s 167us/step - loss: 0.0712 - accuracy: 0.9770 - val_loss: 4.2777 - val_accuracy: 0.5279\n",
      "Epoch 91/100\n",
      "50000/50000 [==============================] - 8s 165us/step - loss: 0.0744 - accuracy: 0.9754 - val_loss: 4.3060 - val_accuracy: 0.5261\n",
      "Epoch 92/100\n",
      "50000/50000 [==============================] - 8s 167us/step - loss: 0.0532 - accuracy: 0.9820 - val_loss: 4.6609 - val_accuracy: 0.5340\n",
      "Epoch 93/100\n",
      "50000/50000 [==============================] - 8s 165us/step - loss: 0.0693 - accuracy: 0.9783 - val_loss: 4.6359 - val_accuracy: 0.5239\n",
      "Epoch 94/100\n",
      "50000/50000 [==============================] - 8s 167us/step - loss: 0.0726 - accuracy: 0.9768 - val_loss: 4.4032 - val_accuracy: 0.5367\n",
      "Epoch 95/100\n",
      "50000/50000 [==============================] - 8s 165us/step - loss: 0.0689 - accuracy: 0.9778 - val_loss: 4.3116 - val_accuracy: 0.5320\n",
      "Epoch 96/100\n",
      "50000/50000 [==============================] - 8s 168us/step - loss: 0.0796 - accuracy: 0.9751 - val_loss: 4.3016 - val_accuracy: 0.5257\n",
      "Epoch 97/100\n",
      "50000/50000 [==============================] - 8s 165us/step - loss: 0.0483 - accuracy: 0.9847 - val_loss: 4.4865 - val_accuracy: 0.5288\n",
      "Epoch 98/100\n",
      "50000/50000 [==============================] - 8s 167us/step - loss: 0.0467 - accuracy: 0.9844 - val_loss: 4.5340 - val_accuracy: 0.5323\n",
      "Epoch 99/100\n",
      "50000/50000 [==============================] - 8s 167us/step - loss: 0.0762 - accuracy: 0.9761 - val_loss: 4.4125 - val_accuracy: 0.5281\n",
      "Epoch 100/100\n",
      "50000/50000 [==============================] - 8s 165us/step - loss: 0.0658 - accuracy: 0.9789 - val_loss: 4.3437 - val_accuracy: 0.5346\n"
     ]
    },
    {
     "data": {
      "text/plain": [
       "<keras.callbacks.callbacks.History at 0x2578da0acc8>"
      ]
     },
     "execution_count": 37,
     "metadata": {},
     "output_type": "execute_result"
    }
   ],
   "source": [
    "model.fit(x_train, y_train, \n",
    "          epochs=EPOCHS, \n",
    "          batch_size=BATCH_SIZE, \n",
    "          validation_data=(x_test, y_test), \n",
    "          shuffle=True)"
   ]
  },
  {
   "cell_type": "code",
   "execution_count": 38,
   "metadata": {},
   "outputs": [
    {
     "data": {
      "image/png": "[encoded data removed]",
      "text/plain": [
       "<Figure size 432x288 with 1 Axes>"
      ]
     },
     "metadata": {
      "needs_background": "light"
     },
     "output_type": "display_data"
    },
    {
     "data": {
      "image/png": "[encoded data removed]",
      "text/plain": [
       "<Figure size 432x288 with 1 Axes>"
      ]
     },
     "metadata": {
      "needs_background": "light"
     },
     "output_type": "display_data"
    }
   ],
   "source": [
    "# 訓練模型並檢視驗證集的結果\n",
    "import matplotlib.pyplot as plt\n",
    "\n",
    "train_loss = model.history.history[\"loss\"]\n",
    "valid_loss = model.history.history[\"val_loss\"]\n",
    "\n",
    "train_acc = model.history.history[\"accuracy\"]\n",
    "valid_acc = model.history.history[\"val_accuracy\"]\n",
    "\n",
    "plt.plot(range(len(train_loss)), train_loss, label=\"train loss\")\n",
    "plt.plot(range(len(valid_loss)), valid_loss, label=\"valid loss\")\n",
    "plt.legend()\n",
    "plt.title(\"Loss\")\n",
    "plt.show()\n",
    "\n",
    "plt.plot(range(len(train_acc)), train_acc, label=\"train accuracy\")\n",
    "plt.plot(range(len(valid_acc)), valid_acc, label=\"valid accuracy\")\n",
    "plt.legend()\n",
    "plt.title(\"Accuracy\")\n",
    "plt.show()"
   ]
  },
  {
   "cell_type": "code",
   "execution_count": 39,
   "metadata": {},
   "outputs": [
    {
     "name": "stdout",
     "output_type": "stream",
     "text": [
      "Saved trained model at C:\\Users\\RT009223\\Github\\ML100Days\\ML100Days\\homework\\saved_models\\keras_cifar10_trained_modelD78.h5 \n",
      "10000/10000 [==============================] - 1s 65us/step\n",
      "Test loss: 4.343658186340332\n",
      "Test accuracy: 0.534600019454956\n"
     ]
    }
   ],
   "source": [
    "save_dir = os.path.join(os.getcwd(), 'saved_models')\n",
    "model_name = 'keras_cifar10_trained_modelD78.h5'\n",
    "# Save model and weights\n",
    "if not os.path.isdir(save_dir):\n",
    "    os.makedirs(save_dir)\n",
    "model_path = os.path.join(save_dir, model_name)\n",
    "model.save(model_path)\n",
    "print('Saved trained model at %s ' % model_path)\n",
    "\n",
    "# Score trained model.\n",
    "scores = model.evaluate(x_test, y_test, verbose=1)\n",
    "print('Test loss:', scores[0])\n",
    "print('Test accuracy:', scores[1])"
   ]
  },
  {
   "cell_type": "code",
   "execution_count": null,
   "metadata": {},
   "outputs": [],
   "source": []
  }
 ],
 "metadata": {
  "kernelspec": {
   "display_name": "Python 3",
   "language": "python",
   "name": "python3"
  },
  "language_info": {
   "codemirror_mode": {
    "name": "ipython",
    "version": 3
   },
   "file_extension": ".py",
   "mimetype": "text/x-python",
   "name": "python",
   "nbconvert_exporter": "python",
   "pygments_lexer": "ipython3",
   "version": "3.7.6"
  }
 },
 "nbformat": 4,
 "nbformat_minor": 2
}
