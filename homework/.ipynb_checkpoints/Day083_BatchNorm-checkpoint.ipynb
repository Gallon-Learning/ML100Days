{
 "cells": [
  {
   "cell_type": "markdown",
   "metadata": {},
   "source": [
    "## 範例重點\n",
    "* 學習如何在 keras 中加入 BatchNorm\n",
    "* 知道有無 BN 對訓練的影響\n",
    "* 比較 BN 在不同 batch size 下的效果"
   ]
  },
  {
   "cell_type": "code",
   "execution_count": 2,
   "metadata": {},
   "outputs": [],
   "source": [
    "import os\n",
    "import keras\n",
    "\n",
    "# 本範例不需使用 GPU, 將 GPU 設定為 \"無\"\n",
    "os.environ[\"CUDA_VISIBLE_DEVICES\"] = \"\""
   ]
  },
  {
   "cell_type": "code",
   "execution_count": 3,
   "metadata": {},
   "outputs": [],
   "source": [
    "train, test = keras.datasets.cifar10.load_data()"
   ]
  },
  {
   "cell_type": "code",
   "execution_count": 4,
   "metadata": {},
   "outputs": [],
   "source": [
    "## 資料前處理\n",
    "def preproc_x(x, flatten=True):\n",
    "    x = x / 255.\n",
    "    if flatten:\n",
    "        x = x.reshape((len(x), -1))\n",
    "    return x\n",
    "\n",
    "def preproc_y(y, num_classes=10):\n",
    "    if y.shape[-1] == 1:\n",
    "        y = keras.utils.to_categorical(y, num_classes)\n",
    "    return y    "
   ]
  },
  {
   "cell_type": "code",
   "execution_count": 5,
   "metadata": {},
   "outputs": [],
   "source": [
    "x_train, y_train = train\n",
    "x_test, y_test = test\n",
    "\n",
    "# 資料前處理 - X 標準化\n",
    "x_train = preproc_x(x_train)\n",
    "x_test = preproc_x(x_test)\n",
    "\n",
    "# 資料前處理 -Y 轉成 onehot\n",
    "y_train = preproc_y(y_train)\n",
    "y_test = preproc_y(y_test)"
   ]
  },
  {
   "cell_type": "code",
   "execution_count": 6,
   "metadata": {},
   "outputs": [],
   "source": [
    "from keras.layers import BatchNormalization\n",
    "\n",
    "\"\"\"\n",
    "建立神經網路，並加入 BN layer\n",
    "\"\"\"\n",
    "def build_mlp(input_shape, output_units=10, num_neurons=[512, 256, 128]):\n",
    "    input_layer = keras.layers.Input(input_shape)\n",
    "    \n",
    "    for i, n_units in enumerate(num_neurons):\n",
    "        if i == 0:\n",
    "            x = keras.layers.Dense(units=n_units, \n",
    "                                   activation=\"relu\", \n",
    "                                   name=\"hidden_layer\"+str(i+1))(input_layer)\n",
    "            x = BatchNormalization()(x)\n",
    "        else:\n",
    "            x = keras.layers.Dense(units=n_units, \n",
    "                                   activation=\"relu\", \n",
    "                                   name=\"hidden_layer\"+str(i+1))(x)\n",
    "            x = BatchNormalization()(x)\n",
    "    \n",
    "    out = keras.layers.Dense(units=output_units, activation=\"softmax\", name=\"output\")(x)\n",
    "    \n",
    "    model = keras.models.Model(inputs=[input_layer], outputs=[out])\n",
    "    return model"
   ]
  },
  {
   "cell_type": "code",
   "execution_count": 7,
   "metadata": {},
   "outputs": [],
   "source": [
    "## 超參數設定\n",
    "LEARNING_RATE = 1e-3\n",
    "EPOCHS = 50\n",
    "BATCH_SIZE = 1024\n",
    "MOMENTUM = 0.95"
   ]
  },
  {
   "cell_type": "code",
   "execution_count": 8,
   "metadata": {
    "scrolled": true
   },
   "outputs": [
    {
     "name": "stdout",
     "output_type": "stream",
     "text": [
      "Model: \"model_1\"\n",
      "_________________________________________________________________\n",
      "Layer (type)                 Output Shape              Param #   \n",
      "=================================================================\n",
      "input_1 (InputLayer)         (None, 3072)              0         \n",
      "_________________________________________________________________\n",
      "hidden_layer1 (Dense)        (None, 512)               1573376   \n",
      "_________________________________________________________________\n",
      "batch_normalization_1 (Batch (None, 512)               2048      \n",
      "_________________________________________________________________\n",
      "hidden_layer2 (Dense)        (None, 256)               131328    \n",
      "_________________________________________________________________\n",
      "batch_normalization_2 (Batch (None, 256)               1024      \n",
      "_________________________________________________________________\n",
      "hidden_layer3 (Dense)        (None, 128)               32896     \n",
      "_________________________________________________________________\n",
      "batch_normalization_3 (Batch (None, 128)               512       \n",
      "_________________________________________________________________\n",
      "output (Dense)               (None, 10)                1290      \n",
      "=================================================================\n",
      "Total params: 1,742,474\n",
      "Trainable params: 1,740,682\n",
      "Non-trainable params: 1,792\n",
      "_________________________________________________________________\n",
      "WARNING:tensorflow:From C:\\ProgramData\\Anaconda3\\lib\\site-packages\\keras\\backend\\tensorflow_backend.py:422: The name tf.global_variables is deprecated. Please use tf.compat.v1.global_variables instead.\n",
      "\n",
      "Train on 50000 samples, validate on 10000 samples\n",
      "Epoch 1/50\n",
      "50000/50000 [==============================] - 5s 105us/step - loss: 2.2322 - accuracy: 0.2681 - val_loss: 2.1630 - val_accuracy: 0.2137\n",
      "Epoch 2/50\n",
      "50000/50000 [==============================] - 4s 89us/step - loss: 1.7362 - accuracy: 0.3926 - val_loss: 1.9607 - val_accuracy: 0.2917\n",
      "Epoch 3/50\n",
      "50000/50000 [==============================] - 5s 92us/step - loss: 1.6180 - accuracy: 0.4326 - val_loss: 1.8186 - val_accuracy: 0.3596\n",
      "Epoch 4/50\n",
      "50000/50000 [==============================] - 5s 102us/step - loss: 1.5484 - accuracy: 0.4591 - val_loss: 1.7197 - val_accuracy: 0.3989\n",
      "Epoch 5/50\n",
      "50000/50000 [==============================] - 7s 137us/step - loss: 1.4942 - accuracy: 0.4772 - val_loss: 1.6397 - val_accuracy: 0.4280\n",
      "Epoch 6/50\n",
      "50000/50000 [==============================] - 7s 134us/step - loss: 1.4488 - accuracy: 0.4945 - val_loss: 1.5947 - val_accuracy: 0.4338\n",
      "Epoch 7/50\n",
      "50000/50000 [==============================] - 6s 118us/step - loss: 1.4109 - accuracy: 0.5083 - val_loss: 1.5530 - val_accuracy: 0.4465\n",
      "Epoch 8/50\n",
      "50000/50000 [==============================] - 6s 120us/step - loss: 1.3746 - accuracy: 0.5216 - val_loss: 1.5340 - val_accuracy: 0.4553\n",
      "Epoch 9/50\n",
      "50000/50000 [==============================] - 6s 115us/step - loss: 1.3427 - accuracy: 0.5340 - val_loss: 1.5230 - val_accuracy: 0.4582\n",
      "Epoch 10/50\n",
      "50000/50000 [==============================] - 6s 117us/step - loss: 1.3141 - accuracy: 0.5449 - val_loss: 1.4969 - val_accuracy: 0.4725\n",
      "Epoch 11/50\n",
      "50000/50000 [==============================] - 6s 113us/step - loss: 1.2843 - accuracy: 0.5559 - val_loss: 1.4844 - val_accuracy: 0.4742\n",
      "Epoch 12/50\n",
      "50000/50000 [==============================] - 6s 118us/step - loss: 1.2565 - accuracy: 0.5657 - val_loss: 1.4846 - val_accuracy: 0.4749\n",
      "Epoch 13/50\n",
      "50000/50000 [==============================] - 5s 109us/step - loss: 1.2326 - accuracy: 0.5744 - val_loss: 1.4749 - val_accuracy: 0.4774\n",
      "Epoch 14/50\n",
      "50000/50000 [==============================] - 6s 115us/step - loss: 1.2082 - accuracy: 0.5816 - val_loss: 1.4776 - val_accuracy: 0.4782\n",
      "Epoch 15/50\n",
      "50000/50000 [==============================] - 6s 113us/step - loss: 1.1831 - accuracy: 0.5912 - val_loss: 1.4597 - val_accuracy: 0.4859\n",
      "Epoch 16/50\n",
      "50000/50000 [==============================] - 6s 113us/step - loss: 1.1597 - accuracy: 0.6018 - val_loss: 1.4661 - val_accuracy: 0.4865\n",
      "Epoch 17/50\n",
      "50000/50000 [==============================] - 5s 109us/step - loss: 1.1365 - accuracy: 0.6093 - val_loss: 1.4644 - val_accuracy: 0.4832\n",
      "Epoch 18/50\n",
      "50000/50000 [==============================] - 5s 103us/step - loss: 1.1141 - accuracy: 0.6193 - val_loss: 1.4584 - val_accuracy: 0.4853\n",
      "Epoch 19/50\n",
      "50000/50000 [==============================] - 5s 107us/step - loss: 1.0916 - accuracy: 0.6257 - val_loss: 1.4601 - val_accuracy: 0.4891\n",
      "Epoch 20/50\n",
      "50000/50000 [==============================] - 6s 110us/step - loss: 1.0698 - accuracy: 0.6345 - val_loss: 1.4485 - val_accuracy: 0.4935\n",
      "Epoch 21/50\n",
      "50000/50000 [==============================] - 5s 103us/step - loss: 1.0496 - accuracy: 0.6429 - val_loss: 1.4591 - val_accuracy: 0.4923\n",
      "Epoch 22/50\n",
      "50000/50000 [==============================] - 5s 105us/step - loss: 1.0282 - accuracy: 0.6509 - val_loss: 1.4522 - val_accuracy: 0.4940\n",
      "Epoch 23/50\n",
      "50000/50000 [==============================] - 6s 113us/step - loss: 1.0084 - accuracy: 0.6596 - val_loss: 1.4580 - val_accuracy: 0.4942\n",
      "Epoch 24/50\n",
      "50000/50000 [==============================] - 5s 108us/step - loss: 0.9880 - accuracy: 0.6665 - val_loss: 1.4528 - val_accuracy: 0.4926\n",
      "Epoch 25/50\n",
      "50000/50000 [==============================] - 6s 117us/step - loss: 0.9661 - accuracy: 0.6741 - val_loss: 1.4584 - val_accuracy: 0.4962\n",
      "Epoch 26/50\n",
      "50000/50000 [==============================] - 6s 120us/step - loss: 0.9447 - accuracy: 0.6844 - val_loss: 1.4622 - val_accuracy: 0.4946\n",
      "Epoch 27/50\n",
      "50000/50000 [==============================] - 6s 110us/step - loss: 0.9259 - accuracy: 0.6907 - val_loss: 1.4725 - val_accuracy: 0.4927\n",
      "Epoch 28/50\n",
      "50000/50000 [==============================] - 5s 109us/step - loss: 0.9041 - accuracy: 0.6988 - val_loss: 1.4688 - val_accuracy: 0.4951\n",
      "Epoch 29/50\n",
      "50000/50000 [==============================] - 5s 104us/step - loss: 0.8852 - accuracy: 0.7044 - val_loss: 1.4826 - val_accuracy: 0.4916\n",
      "Epoch 30/50\n",
      "50000/50000 [==============================] - 5s 102us/step - loss: 0.8646 - accuracy: 0.7149 - val_loss: 1.4992 - val_accuracy: 0.4835\n",
      "Epoch 31/50\n",
      "50000/50000 [==============================] - 5s 106us/step - loss: 0.8451 - accuracy: 0.7219 - val_loss: 1.4874 - val_accuracy: 0.4933\n",
      "Epoch 32/50\n",
      "50000/50000 [==============================] - 6s 112us/step - loss: 0.8250 - accuracy: 0.7271 - val_loss: 1.4975 - val_accuracy: 0.4930\n",
      "Epoch 33/50\n",
      "50000/50000 [==============================] - 6s 112us/step - loss: 0.8079 - accuracy: 0.7358 - val_loss: 1.4945 - val_accuracy: 0.4935\n",
      "Epoch 34/50\n",
      "50000/50000 [==============================] - 6s 115us/step - loss: 0.7876 - accuracy: 0.7423 - val_loss: 1.4877 - val_accuracy: 0.5026\n",
      "Epoch 35/50\n",
      "50000/50000 [==============================] - 5s 107us/step - loss: 0.7662 - accuracy: 0.7520 - val_loss: 1.5162 - val_accuracy: 0.4889\n",
      "Epoch 36/50\n",
      "50000/50000 [==============================] - 5s 109us/step - loss: 0.7487 - accuracy: 0.7589 - val_loss: 1.5014 - val_accuracy: 0.4975\n",
      "Epoch 37/50\n",
      "50000/50000 [==============================] - 6s 124us/step - loss: 0.7295 - accuracy: 0.7678 - val_loss: 1.5422 - val_accuracy: 0.4874\n",
      "Epoch 38/50\n",
      "50000/50000 [==============================] - 6s 118us/step - loss: 0.7111 - accuracy: 0.7743 - val_loss: 1.5302 - val_accuracy: 0.4950\n",
      "Epoch 39/50\n",
      "50000/50000 [==============================] - 5s 105us/step - loss: 0.6919 - accuracy: 0.7822 - val_loss: 1.5301 - val_accuracy: 0.4961\n",
      "Epoch 40/50\n",
      "50000/50000 [==============================] - 5s 102us/step - loss: 0.6727 - accuracy: 0.7914 - val_loss: 1.5482 - val_accuracy: 0.4933\n",
      "Epoch 41/50\n",
      "50000/50000 [==============================] - 5s 101us/step - loss: 0.6537 - accuracy: 0.7968 - val_loss: 1.5706 - val_accuracy: 0.4926\n",
      "Epoch 42/50\n",
      "50000/50000 [==============================] - 5s 106us/step - loss: 0.6360 - accuracy: 0.8049 - val_loss: 1.5666 - val_accuracy: 0.4988\n",
      "Epoch 43/50\n",
      "50000/50000 [==============================] - 5s 104us/step - loss: 0.6172 - accuracy: 0.8124 - val_loss: 1.5732 - val_accuracy: 0.4918\n",
      "Epoch 44/50\n",
      "50000/50000 [==============================] - 5s 105us/step - loss: 0.6011 - accuracy: 0.8172 - val_loss: 1.5935 - val_accuracy: 0.4920\n"
     ]
    },
    {
     "name": "stdout",
     "output_type": "stream",
     "text": [
      "Epoch 45/50\n",
      "50000/50000 [==============================] - 5s 110us/step - loss: 0.5829 - accuracy: 0.8263 - val_loss: 1.6108 - val_accuracy: 0.4890\n",
      "Epoch 46/50\n",
      "50000/50000 [==============================] - 5s 108us/step - loss: 0.5649 - accuracy: 0.8326 - val_loss: 1.6120 - val_accuracy: 0.4924\n",
      "Epoch 47/50\n",
      "50000/50000 [==============================] - 5s 103us/step - loss: 0.5464 - accuracy: 0.8406 - val_loss: 1.6243 - val_accuracy: 0.4919\n",
      "Epoch 48/50\n",
      "50000/50000 [==============================] - 5s 106us/step - loss: 0.5304 - accuracy: 0.8472 - val_loss: 1.6304 - val_accuracy: 0.4931\n",
      "Epoch 49/50\n",
      "50000/50000 [==============================] - 5s 104us/step - loss: 0.5164 - accuracy: 0.8521 - val_loss: 1.6553 - val_accuracy: 0.4898\n",
      "Epoch 50/50\n",
      "50000/50000 [==============================] - 5s 103us/step - loss: 0.4989 - accuracy: 0.8597 - val_loss: 1.6741 - val_accuracy: 0.4859\n"
     ]
    }
   ],
   "source": [
    "model = build_mlp(input_shape=x_train.shape[1:])\n",
    "model.summary()\n",
    "optimizer = keras.optimizers.SGD(lr=LEARNING_RATE, nesterov=True, momentum=MOMENTUM)\n",
    "model.compile(loss=\"categorical_crossentropy\", metrics=[\"accuracy\"], optimizer=optimizer)\n",
    "\n",
    "model.fit(x_train, y_train, \n",
    "          epochs=EPOCHS, \n",
    "          batch_size=BATCH_SIZE, \n",
    "          validation_data=(x_test, y_test), \n",
    "          shuffle=True)\n",
    "\n",
    "# Collect results\n",
    "train_loss = model.history.history[\"loss\"]\n",
    "valid_loss = model.history.history[\"val_loss\"]\n",
    "train_acc = model.history.history[\"accuracy\"]\n",
    "valid_acc = model.history.history[\"val_accuracy\"]"
   ]
  },
  {
   "cell_type": "code",
   "execution_count": 9,
   "metadata": {},
   "outputs": [
    {
     "data": {
      "image/png": "[encoded data removed]",
      "text/plain": [
       "<Figure size 432x288 with 1 Axes>"
      ]
     },
     "metadata": {
      "needs_background": "light"
     },
     "output_type": "display_data"
    },
    {
     "data": {
      "image/png": "[encoded data removed]",
      "text/plain": [
       "<Figure size 432x288 with 1 Axes>"
      ]
     },
     "metadata": {
      "needs_background": "light"
     },
     "output_type": "display_data"
    }
   ],
   "source": [
    "import matplotlib.pyplot as plt\n",
    "%matplotlib inline\n",
    "\n",
    "plt.plot(range(len(train_loss)), train_loss, label=\"train loss\")\n",
    "plt.plot(range(len(valid_loss)), valid_loss, label=\"valid loss\")\n",
    "plt.legend()\n",
    "plt.title(\"Loss\")\n",
    "plt.show()\n",
    "\n",
    "plt.plot(range(len(train_acc)), train_acc, label=\"train accuracy\")\n",
    "plt.plot(range(len(valid_acc)), valid_acc, label=\"valid accuracy\")\n",
    "plt.legend()\n",
    "plt.title(\"Accuracy\")\n",
    "plt.show()"
   ]
  },
  {
   "cell_type": "markdown",
   "metadata": {},
   "source": [
    "## Work\n",
    "1. 試比較有 BN 在 Batch_size = 2, 16, 32, 128, 256 下的差異\n",
    "2. 請嘗試將 BN 放在 Activation 之前，並比較訓練結果\n",
    "3. 請於 BN 放在 Input Layer 後，並比較結果"
   ]
  }
 ],
 "metadata": {
  "kernelspec": {
   "display_name": "Python 3",
   "language": "python",
   "name": "python3"
  },
  "language_info": {
   "codemirror_mode": {
    "name": "ipython",
    "version": 3
   },
   "file_extension": ".py",
   "mimetype": "text/x-python",
   "name": "python",
   "nbconvert_exporter": "python",
   "pygments_lexer": "ipython3",
   "version": "3.7.6"
  }
 },
 "nbformat": 4,
 "nbformat_minor": 2
}
