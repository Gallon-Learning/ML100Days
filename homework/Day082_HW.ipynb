{
 "cells": [
  {
   "cell_type": "markdown",
   "metadata": {},
   "source": [
    "## Work\n",
    "1. 請比較使用不同層數以及不同 Dropout rate 對訓練的效果\n",
    "2. 將 optimizer 改成使用 Adam 並加上適當的 dropout rate 檢視結果"
   ]
  },
  {
   "cell_type": "code",
   "execution_count": 2,
   "metadata": {},
   "outputs": [],
   "source": [
    "import os\n",
    "import keras\n",
    "import itertools\n",
    "# Disable GPU\n",
    "os.environ[\"CUDA_VISIBLE_DEVICES\"] = \"\""
   ]
  },
  {
   "cell_type": "code",
   "execution_count": 3,
   "metadata": {},
   "outputs": [],
   "source": [
    "train, test = keras.datasets.cifar10.load_data()"
   ]
  },
  {
   "cell_type": "code",
   "execution_count": 4,
   "metadata": {},
   "outputs": [],
   "source": [
    "## 資料前處理\n",
    "def preproc_x(x, flatten=True):\n",
    "    x = x / 255.\n",
    "    if flatten:\n",
    "        x = x.reshape((len(x), -1))\n",
    "    return x\n",
    "\n",
    "def preproc_y(y, num_classes=10):\n",
    "    if y.shape[-1] == 1:\n",
    "        y = keras.utils.to_categorical(y, num_classes)\n",
    "    return y    "
   ]
  },
  {
   "cell_type": "code",
   "execution_count": 5,
   "metadata": {},
   "outputs": [],
   "source": [
    "x_train, y_train = train\n",
    "x_test, y_test = test\n",
    "\n",
    "# Preproc the inputs\n",
    "x_train = preproc_x(x_train)\n",
    "x_test = preproc_x(x_test)\n",
    "\n",
    "# Preprc the outputs\n",
    "y_train = preproc_y(y_train)\n",
    "y_test = preproc_y(y_test)"
   ]
  },
  {
   "cell_type": "code",
   "execution_count": 6,
   "metadata": {},
   "outputs": [],
   "source": [
    "from keras.layers import Dropout\n",
    "\n",
    "\"\"\"\n",
    "建立神經網路，並加入 dropout layer\n",
    "\"\"\"\n",
    "def build_mlp(input_shape, output_units=10, num_neurons=[512, 256, 128, 64], drp_ratio=0.2):\n",
    "    input_layer = keras.layers.Input(input_shape)\n",
    "    \n",
    "    for i, n_units in enumerate(num_neurons):\n",
    "        if i == 0:\n",
    "            x = keras.layers.Dense(units=n_units, \n",
    "                                   activation=\"relu\", \n",
    "                                   name=\"hidden_layer\"+str(i+1))(input_layer)\n",
    "            x = Dropout(drp_ratio)(x)\n",
    "        else:\n",
    "            x = keras.layers.Dense(units=n_units, \n",
    "                                   activation=\"relu\", \n",
    "                                   name=\"hidden_layer\"+str(i+1))(x)\n",
    "            x = Dropout(drp_ratio)(x)\n",
    "    \n",
    "    out = keras.layers.Dense(units=output_units, activation=\"softmax\", name=\"output\")(x)\n",
    "    \n",
    "    model = keras.models.Model(inputs=[input_layer], outputs=[out])\n",
    "    return model"
   ]
  },
  {
   "cell_type": "code",
   "execution_count": 7,
   "metadata": {},
   "outputs": [],
   "source": [
    "\"\"\"Code Here\n",
    "設定超參數\n",
    "\"\"\"\n",
    "LEARNING_RATE = 1e-3\n",
    "EPOCHS = 50\n",
    "BATCH_SIZE = 256\n",
    "MOMENTUM = 0.95\n",
    "Dropout_EXP = 0.5"
   ]
  },
  {
   "cell_type": "code",
   "execution_count": 8,
   "metadata": {
    "scrolled": true
   },
   "outputs": [
    {
     "name": "stdout",
     "output_type": "stream",
     "text": [
      "Model: \"model_1\"\n",
      "_________________________________________________________________\n",
      "Layer (type)                 Output Shape              Param #   \n",
      "=================================================================\n",
      "input_1 (InputLayer)         (None, 3072)              0         \n",
      "_________________________________________________________________\n",
      "hidden_layer1 (Dense)        (None, 512)               1573376   \n",
      "_________________________________________________________________\n",
      "dropout_1 (Dropout)          (None, 512)               0         \n",
      "_________________________________________________________________\n",
      "hidden_layer2 (Dense)        (None, 256)               131328    \n",
      "_________________________________________________________________\n",
      "dropout_2 (Dropout)          (None, 256)               0         \n",
      "_________________________________________________________________\n",
      "hidden_layer3 (Dense)        (None, 128)               32896     \n",
      "_________________________________________________________________\n",
      "dropout_3 (Dropout)          (None, 128)               0         \n",
      "_________________________________________________________________\n",
      "hidden_layer4 (Dense)        (None, 64)                8256      \n",
      "_________________________________________________________________\n",
      "dropout_4 (Dropout)          (None, 64)                0         \n",
      "_________________________________________________________________\n",
      "output (Dense)               (None, 10)                650       \n",
      "=================================================================\n",
      "Total params: 1,746,506\n",
      "Trainable params: 1,746,506\n",
      "Non-trainable params: 0\n",
      "_________________________________________________________________\n",
      "WARNING:tensorflow:From C:\\ProgramData\\Anaconda3\\lib\\site-packages\\keras\\backend\\tensorflow_backend.py:422: The name tf.global_variables is deprecated. Please use tf.compat.v1.global_variables instead.\n",
      "\n",
      "Train on 50000 samples, validate on 10000 samples\n",
      "Epoch 1/50\n",
      "50000/50000 [==============================] - 9s 177us/step - loss: 2.3099 - accuracy: 0.1099 - val_loss: 2.2360 - val_accuracy: 0.1629\n",
      "Epoch 2/50\n",
      "50000/50000 [==============================] - 9s 173us/step - loss: 2.2463 - accuracy: 0.1330 - val_loss: 2.1824 - val_accuracy: 0.1837\n",
      "Epoch 3/50\n",
      "50000/50000 [==============================] - 8s 166us/step - loss: 2.2082 - accuracy: 0.1492 - val_loss: 2.1712 - val_accuracy: 0.1745\n",
      "Epoch 4/50\n",
      "50000/50000 [==============================] - 9s 176us/step - loss: 2.1850 - accuracy: 0.1566 - val_loss: 2.1824 - val_accuracy: 0.1820\n",
      "Epoch 5/50\n",
      "50000/50000 [==============================] - 9s 184us/step - loss: 2.1798 - accuracy: 0.1565 - val_loss: 2.1754 - val_accuracy: 0.1691\n",
      "Epoch 6/50\n",
      "50000/50000 [==============================] - 10s 197us/step - loss: 2.1725 - accuracy: 0.1596 - val_loss: 2.1782 - val_accuracy: 0.1537\n",
      "Epoch 7/50\n",
      "50000/50000 [==============================] - 11s 228us/step - loss: 2.1731 - accuracy: 0.1606 - val_loss: 2.1398 - val_accuracy: 0.1890\n",
      "Epoch 8/50\n",
      "50000/50000 [==============================] - 9s 188us/step - loss: 2.1707 - accuracy: 0.1582 - val_loss: 2.1322 - val_accuracy: 0.1893\n",
      "Epoch 9/50\n",
      "50000/50000 [==============================] - 9s 182us/step - loss: 2.1686 - accuracy: 0.1594 - val_loss: 2.1378 - val_accuracy: 0.1971\n",
      "Epoch 10/50\n",
      "50000/50000 [==============================] - 9s 187us/step - loss: 2.1626 - accuracy: 0.1628 - val_loss: 2.1579 - val_accuracy: 0.1718\n",
      "Epoch 11/50\n",
      "50000/50000 [==============================] - 9s 185us/step - loss: 2.1640 - accuracy: 0.1624 - val_loss: 2.1744 - val_accuracy: 0.1635\n",
      "Epoch 12/50\n",
      "50000/50000 [==============================] - 9s 182us/step - loss: 2.1636 - accuracy: 0.1629 - val_loss: 2.1266 - val_accuracy: 0.2000\n",
      "Epoch 13/50\n",
      "50000/50000 [==============================] - 9s 180us/step - loss: 2.1588 - accuracy: 0.1635 - val_loss: 2.1384 - val_accuracy: 0.1737\n",
      "Epoch 14/50\n",
      "50000/50000 [==============================] - 9s 185us/step - loss: 2.1569 - accuracy: 0.1663 - val_loss: 2.1232 - val_accuracy: 0.2042\n",
      "Epoch 15/50\n",
      "50000/50000 [==============================] - 9s 188us/step - loss: 2.1330 - accuracy: 0.1735 - val_loss: 2.1376 - val_accuracy: 0.1943\n",
      "Epoch 16/50\n",
      "50000/50000 [==============================] - 10s 190us/step - loss: 2.1267 - accuracy: 0.1754 - val_loss: 2.1030 - val_accuracy: 0.2075\n",
      "Epoch 17/50\n",
      "50000/50000 [==============================] - 10s 198us/step - loss: 2.1218 - accuracy: 0.1798 - val_loss: 2.1279 - val_accuracy: 0.1921\n",
      "Epoch 18/50\n",
      "50000/50000 [==============================] - 10s 201us/step - loss: 2.1226 - accuracy: 0.1791 - val_loss: 2.0938 - val_accuracy: 0.2144\n",
      "Epoch 19/50\n",
      "50000/50000 [==============================] - 10s 193us/step - loss: 2.1195 - accuracy: 0.1794 - val_loss: 2.0953 - val_accuracy: 0.2078\n",
      "Epoch 20/50\n",
      "50000/50000 [==============================] - 9s 187us/step - loss: 2.1165 - accuracy: 0.1817 - val_loss: 2.1237 - val_accuracy: 0.2104\n",
      "Epoch 21/50\n",
      "50000/50000 [==============================] - 9s 185us/step - loss: 2.1132 - accuracy: 0.1841 - val_loss: 2.0915 - val_accuracy: 0.2219\n",
      "Epoch 22/50\n",
      "50000/50000 [==============================] - 9s 188us/step - loss: 2.1109 - accuracy: 0.1844 - val_loss: 2.0925 - val_accuracy: 0.2152\n",
      "Epoch 23/50\n",
      "50000/50000 [==============================] - 9s 190us/step - loss: 2.1133 - accuracy: 0.1843 - val_loss: 2.1273 - val_accuracy: 0.1934\n",
      "Epoch 24/50\n",
      "50000/50000 [==============================] - 9s 185us/step - loss: 2.1095 - accuracy: 0.1863 - val_loss: 2.0821 - val_accuracy: 0.2187\n",
      "Epoch 25/50\n",
      "50000/50000 [==============================] - 10s 193us/step - loss: 2.1001 - accuracy: 0.1895 - val_loss: 2.1092 - val_accuracy: 0.2092\n",
      "Epoch 26/50\n",
      "50000/50000 [==============================] - 9s 187us/step - loss: 2.1015 - accuracy: 0.1861 - val_loss: 2.1073 - val_accuracy: 0.2147\n",
      "Epoch 27/50\n",
      "50000/50000 [==============================] - 10s 191us/step - loss: 2.1015 - accuracy: 0.1891 - val_loss: 2.1453 - val_accuracy: 0.1884\n",
      "Epoch 28/50\n",
      "50000/50000 [==============================] - 9s 188us/step - loss: 2.1002 - accuracy: 0.1892 - val_loss: 2.1390 - val_accuracy: 0.1892\n",
      "Epoch 29/50\n",
      "50000/50000 [==============================] - 10s 191us/step - loss: 2.0999 - accuracy: 0.1886 - val_loss: 2.0888 - val_accuracy: 0.2123\n",
      "Epoch 30/50\n",
      "50000/50000 [==============================] - 10s 194us/step - loss: 2.1047 - accuracy: 0.1892 - val_loss: 2.1022 - val_accuracy: 0.2006\n",
      "Epoch 31/50\n",
      "50000/50000 [==============================] - 11s 221us/step - loss: 2.0935 - accuracy: 0.1942 - val_loss: 2.0815 - val_accuracy: 0.2052\n",
      "Epoch 32/50\n",
      "50000/50000 [==============================] - 10s 197us/step - loss: 2.0886 - accuracy: 0.1959 - val_loss: 2.0685 - val_accuracy: 0.1977\n",
      "Epoch 33/50\n",
      "50000/50000 [==============================] - 9s 184us/step - loss: 2.0817 - accuracy: 0.1996 - val_loss: 2.0665 - val_accuracy: 0.2163\n",
      "Epoch 34/50\n",
      "50000/50000 [==============================] - 10s 194us/step - loss: 2.0784 - accuracy: 0.1974 - val_loss: 2.0736 - val_accuracy: 0.2319\n",
      "Epoch 35/50\n",
      "50000/50000 [==============================] - 9s 183us/step - loss: 2.0749 - accuracy: 0.1961 - val_loss: 2.0674 - val_accuracy: 0.2092\n",
      "Epoch 36/50\n",
      "50000/50000 [==============================] - 9s 187us/step - loss: 2.0674 - accuracy: 0.2021 - val_loss: 2.1258 - val_accuracy: 0.2073\n",
      "Epoch 37/50\n",
      "50000/50000 [==============================] - 9s 188us/step - loss: 2.0676 - accuracy: 0.2008 - val_loss: 2.1209 - val_accuracy: 0.2113\n",
      "Epoch 38/50\n",
      "50000/50000 [==============================] - 9s 180us/step - loss: 2.0649 - accuracy: 0.2069 - val_loss: 2.1279 - val_accuracy: 0.1985\n",
      "Epoch 39/50\n",
      "50000/50000 [==============================] - 10s 195us/step - loss: 2.0644 - accuracy: 0.2029 - val_loss: 2.1221 - val_accuracy: 0.2022\n",
      "Epoch 40/50\n",
      "50000/50000 [==============================] - 11s 216us/step - loss: 2.0674 - accuracy: 0.2039 - val_loss: 2.1087 - val_accuracy: 0.2127\n",
      "Epoch 41/50\n",
      "50000/50000 [==============================] - 11s 226us/step - loss: 2.0676 - accuracy: 0.2042 - val_loss: 2.1017 - val_accuracy: 0.2157\n",
      "Epoch 42/50\n",
      "50000/50000 [==============================] - 10s 208us/step - loss: 2.0592 - accuracy: 0.2078 - val_loss: 2.0934 - val_accuracy: 0.2042\n"
     ]
    },
    {
     "name": "stdout",
     "output_type": "stream",
     "text": [
      "Epoch 43/50\n",
      "50000/50000 [==============================] - 9s 188us/step - loss: 2.0592 - accuracy: 0.2082 - val_loss: 2.1044 - val_accuracy: 0.2072\n",
      "Epoch 44/50\n",
      "50000/50000 [==============================] - 11s 213us/step - loss: 2.0593 - accuracy: 0.2090 - val_loss: 2.0776 - val_accuracy: 0.2251\n",
      "Epoch 45/50\n",
      "50000/50000 [==============================] - 11s 212us/step - loss: 2.0587 - accuracy: 0.2081 - val_loss: 2.0839 - val_accuracy: 0.2083\n",
      "Epoch 46/50\n",
      "50000/50000 [==============================] - 10s 190us/step - loss: 2.0610 - accuracy: 0.2072 - val_loss: 2.0934 - val_accuracy: 0.2224\n",
      "Epoch 47/50\n",
      "50000/50000 [==============================] - 9s 187us/step - loss: 2.0551 - accuracy: 0.2111 - val_loss: 2.0242 - val_accuracy: 0.2422\n",
      "Epoch 48/50\n",
      "50000/50000 [==============================] - 9s 185us/step - loss: 2.0557 - accuracy: 0.2096 - val_loss: 2.0712 - val_accuracy: 0.2063\n",
      "Epoch 49/50\n",
      "50000/50000 [==============================] - 9s 183us/step - loss: 2.0528 - accuracy: 0.2079 - val_loss: 2.0886 - val_accuracy: 0.2070\n",
      "Epoch 50/50\n",
      "50000/50000 [==============================] - 9s 187us/step - loss: 2.0535 - accuracy: 0.2098 - val_loss: 2.1362 - val_accuracy: 0.2029\n"
     ]
    }
   ],
   "source": [
    "results = {}\n",
    "\"\"\"Code Here\n",
    "撰寫你的訓練流程並將結果用 dictionary 紀錄\n",
    "\"\"\"\n",
    "model = build_mlp(input_shape=x_train.shape[1:], drp_ratio=Dropout_EXP)\n",
    "model.summary()\n",
    "optimizer = keras.optimizers.Adam(lr=LEARNING_RATE)\n",
    "model.compile(loss=\"categorical_crossentropy\", metrics=[\"accuracy\"], optimizer=optimizer)\n",
    "\n",
    "model.fit(x_train, y_train, \n",
    "          epochs=EPOCHS, \n",
    "          batch_size=BATCH_SIZE, \n",
    "          validation_data=(x_test, y_test), \n",
    "          shuffle=True)\n",
    "\n",
    "# Collect results\n",
    "train_loss = model.history.history[\"loss\"]\n",
    "valid_loss = model.history.history[\"val_loss\"]\n",
    "train_acc = model.history.history[\"accuracy\"]\n",
    "valid_acc = model.history.history[\"val_accuracy\"]"
   ]
  },
  {
   "cell_type": "code",
   "execution_count": 9,
   "metadata": {},
   "outputs": [
    {
     "data": {
      "image/png": "[encoded data removed]",
      "text/plain": [
       "<Figure size 432x288 with 1 Axes>"
      ]
     },
     "metadata": {
      "needs_background": "light"
     },
     "output_type": "display_data"
    },
    {
     "data": {
      "image/png": "[encoded data removed]",
      "text/plain": [
       "<Figure size 432x288 with 1 Axes>"
      ]
     },
     "metadata": {
      "needs_background": "light"
     },
     "output_type": "display_data"
    }
   ],
   "source": [
    "import matplotlib.pyplot as plt\n",
    "%matplotlib inline\n",
    "\"\"\"Code Here\n",
    "將結果繪出\n",
    "\"\"\"\n",
    "\n",
    "plt.plot(range(len(train_loss)), train_loss, label=\"train loss\")\n",
    "plt.plot(range(len(valid_loss)), valid_loss, label=\"valid loss\")\n",
    "plt.legend()\n",
    "plt.title(\"Loss\")\n",
    "plt.show()\n",
    "\n",
    "plt.plot(range(len(train_acc)), train_acc, label=\"train accuracy\")\n",
    "plt.plot(range(len(valid_acc)), valid_acc, label=\"valid accuracy\")\n",
    "plt.legend()\n",
    "plt.title(\"Accuracy\")\n",
    "plt.show()"
   ]
  },
  {
   "cell_type": "code",
   "execution_count": null,
   "metadata": {},
   "outputs": [],
   "source": []
  }
 ],
 "metadata": {
  "kernelspec": {
   "display_name": "Python 3",
   "language": "python",
   "name": "python3"
  },
  "language_info": {
   "codemirror_mode": {
    "name": "ipython",
    "version": 3
   },
   "file_extension": ".py",
   "mimetype": "text/x-python",
   "name": "python",
   "nbconvert_exporter": "python",
   "pygments_lexer": "ipython3",
   "version": "3.7.6"
  }
 },
 "nbformat": 4,
 "nbformat_minor": 2
}
