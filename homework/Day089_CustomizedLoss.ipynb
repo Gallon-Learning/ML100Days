{
 "cells": [
  {
   "cell_type": "markdown",
   "metadata": {},
   "source": [
    "## 範例重點\n",
    "* 學習如何在 keras 中撰寫自定義的 loss function\n",
    "* 知道如何在訓練時使用自定義的 loss function"
   ]
  },
  {
   "cell_type": "code",
   "execution_count": 2,
   "metadata": {},
   "outputs": [],
   "source": [
    "import os\n",
    "import keras\n",
    "\n",
    "# 本範例不需使用 GPU, 將 GPU 設定為 \"無\"\n",
    "os.environ[\"CUDA_VISIBLE_DEVICES\"] = \"\""
   ]
  },
  {
   "cell_type": "code",
   "execution_count": 3,
   "metadata": {},
   "outputs": [],
   "source": [
    "train, test = keras.datasets.cifar10.load_data()"
   ]
  },
  {
   "cell_type": "code",
   "execution_count": 4,
   "metadata": {},
   "outputs": [],
   "source": [
    "## 資料前處理\n",
    "def preproc_x(x, flatten=True):\n",
    "    x = x / 255.\n",
    "    if flatten:\n",
    "        x = x.reshape((len(x), -1))\n",
    "    return x\n",
    "\n",
    "def preproc_y(y, num_classes=10):\n",
    "    if y.shape[-1] == 1:\n",
    "        y = keras.utils.to_categorical(y, num_classes)\n",
    "    return y    "
   ]
  },
  {
   "cell_type": "code",
   "execution_count": 5,
   "metadata": {},
   "outputs": [],
   "source": [
    "x_train, y_train = train\n",
    "x_test, y_test = test\n",
    "\n",
    "# 資料前處理 - X 標準化\n",
    "x_train = preproc_x(x_train)\n",
    "x_test = preproc_x(x_test)\n",
    "\n",
    "# 資料前處理 -Y 轉成 onehot\n",
    "y_train = preproc_y(y_train)\n",
    "y_test = preproc_y(y_test)"
   ]
  },
  {
   "cell_type": "code",
   "execution_count": 6,
   "metadata": {},
   "outputs": [],
   "source": [
    "from keras.layers import BatchNormalization\n",
    "\n",
    "\"\"\"\n",
    "建立神經網路，並加入 BN layer\n",
    "\"\"\"\n",
    "def build_mlp(input_shape, output_units=10, num_neurons=[512, 256, 128]):\n",
    "    input_layer = keras.layers.Input(input_shape)\n",
    "    \n",
    "    for i, n_units in enumerate(num_neurons):\n",
    "        if i == 0:\n",
    "            x = keras.layers.Dense(units=n_units, \n",
    "                                   activation=\"relu\", \n",
    "                                   name=\"hidden_layer\"+str(i+1))(input_layer)\n",
    "            x = BatchNormalization()(x)\n",
    "        else:\n",
    "            x = keras.layers.Dense(units=n_units, \n",
    "                                   activation=\"relu\", \n",
    "                                   name=\"hidden_layer\"+str(i+1))(x)\n",
    "            x = BatchNormalization()(x)\n",
    "    \n",
    "    out = keras.layers.Dense(units=output_units, activation=\"softmax\", name=\"output\")(x)\n",
    "    \n",
    "    model = keras.models.Model(inputs=[input_layer], outputs=[out])\n",
    "    return model"
   ]
  },
  {
   "cell_type": "code",
   "execution_count": 7,
   "metadata": {},
   "outputs": [],
   "source": [
    "## 超參數設定\n",
    "LEARNING_RATE = 1e-3\n",
    "EPOCHS = 50\n",
    "BATCH_SIZE = 1024\n",
    "MOMENTUM = 0.95"
   ]
  },
  {
   "cell_type": "code",
   "execution_count": 9,
   "metadata": {},
   "outputs": [],
   "source": [
    "import tensorflow as tf\n",
    "import keras.backend as K\n",
    "\n",
    "\"\"\"\n",
    "# 撰寫自定義的 loss function: focal loss (https://blog.csdn.net/u014380165/article/details/77019084)\n",
    "\"\"\"\n",
    "def focal_loss(gamma=2., alpha=4.):\n",
    "    gamma = float(gamma)\n",
    "    alpha = float(alpha)\n",
    "    def focal_loss_fixed(y_true, y_pred):\n",
    "        \"\"\"Focal loss for multi-classification\n",
    "        FL(p_t)=-alpha(1-p_t)^{gamma}ln(p_t)\n",
    "        \"\"\"\n",
    "        epsilon = 1e-8\n",
    "        y_true = tf.convert_to_tensor(y_true, tf.float32)\n",
    "        y_pred = tf.convert_to_tensor(y_pred, tf.float32)\n",
    "\n",
    "        model_out = tf.add(y_pred, epsilon)\n",
    "        ce = tf.multiply(y_true, -tf.log(model_out))\n",
    "        weight = tf.multiply(y_true, tf.pow(tf.subtract(1., model_out), gamma))\n",
    "        fl = tf.multiply(alpha, tf.multiply(weight, ce))\n",
    "        reduced_fl = tf.reduce_max(fl, axis=1)\n",
    "        return tf.reduce_mean(reduced_fl)\n",
    "    return focal_loss_fixed"
   ]
  },
  {
   "cell_type": "code",
   "execution_count": 16,
   "metadata": {
    "scrolled": true
   },
   "outputs": [
    {
     "name": "stdout",
     "output_type": "stream",
     "text": [
      "Model: \"model_2\"\n",
      "_________________________________________________________________\n",
      "Layer (type)                 Output Shape              Param #   \n",
      "=================================================================\n",
      "input_2 (InputLayer)         (None, 3072)              0         \n",
      "_________________________________________________________________\n",
      "hidden_layer1 (Dense)        (None, 512)               1573376   \n",
      "_________________________________________________________________\n",
      "batch_normalization_4 (Batch (None, 512)               2048      \n",
      "_________________________________________________________________\n",
      "hidden_layer2 (Dense)        (None, 256)               131328    \n",
      "_________________________________________________________________\n",
      "batch_normalization_5 (Batch (None, 256)               1024      \n",
      "_________________________________________________________________\n",
      "hidden_layer3 (Dense)        (None, 128)               32896     \n",
      "_________________________________________________________________\n",
      "batch_normalization_6 (Batch (None, 128)               512       \n",
      "_________________________________________________________________\n",
      "output (Dense)               (None, 10)                1290      \n",
      "=================================================================\n",
      "Total params: 1,742,474\n",
      "Trainable params: 1,740,682\n",
      "Non-trainable params: 1,792\n",
      "_________________________________________________________________\n",
      "Train on 50000 samples, validate on 10000 samples\n",
      "Epoch 1/50\n",
      "50000/50000 [==============================] - 5s 105us/step - loss: 5.9936 - accuracy: 0.3345 - val_loss: 7.0275 - val_accuracy: 0.1634\n",
      "Epoch 2/50\n",
      "50000/50000 [==============================] - 5s 91us/step - loss: 4.3659 - accuracy: 0.4503 - val_loss: 5.5728 - val_accuracy: 0.3154\n",
      "Epoch 3/50\n",
      "50000/50000 [==============================] - 4s 87us/step - loss: 3.9549 - accuracy: 0.4859 - val_loss: 4.8735 - val_accuracy: 0.3975\n",
      "Epoch 4/50\n",
      "50000/50000 [==============================] - 5s 103us/step - loss: 3.6847 - accuracy: 0.5136 - val_loss: 4.4297 - val_accuracy: 0.4390\n",
      "Epoch 5/50\n",
      "50000/50000 [==============================] - 6s 113us/step - loss: 3.4604 - accuracy: 0.5336 - val_loss: 4.1848 - val_accuracy: 0.4575\n",
      "Epoch 6/50\n",
      "50000/50000 [==============================] - 5s 108us/step - loss: 3.2782 - accuracy: 0.5529 - val_loss: 4.0880 - val_accuracy: 0.4600\n",
      "Epoch 7/50\n",
      "50000/50000 [==============================] - 5s 106us/step - loss: 3.1026 - accuracy: 0.5712 - val_loss: 3.9854 - val_accuracy: 0.4684\n",
      "Epoch 8/50\n",
      "50000/50000 [==============================] - 6s 120us/step - loss: 2.9509 - accuracy: 0.5842 - val_loss: 3.9588 - val_accuracy: 0.4749\n",
      "Epoch 9/50\n",
      "50000/50000 [==============================] - 6s 114us/step - loss: 2.8123 - accuracy: 0.6032 - val_loss: 4.0488 - val_accuracy: 0.4580\n",
      "Epoch 10/50\n",
      "50000/50000 [==============================] - 5s 103us/step - loss: 2.6729 - accuracy: 0.6167 - val_loss: 3.9335 - val_accuracy: 0.4714\n",
      "Epoch 11/50\n",
      "50000/50000 [==============================] - 5s 106us/step - loss: 2.5324 - accuracy: 0.6315 - val_loss: 3.7918 - val_accuracy: 0.4941\n",
      "Epoch 12/50\n",
      "50000/50000 [==============================] - 5s 108us/step - loss: 2.4029 - accuracy: 0.6456 - val_loss: 3.9594 - val_accuracy: 0.4753\n",
      "Epoch 13/50\n",
      "50000/50000 [==============================] - 5s 105us/step - loss: 2.2874 - accuracy: 0.6592 - val_loss: 4.0669 - val_accuracy: 0.4713\n",
      "Epoch 14/50\n",
      "50000/50000 [==============================] - 5s 108us/step - loss: 2.1656 - accuracy: 0.6716 - val_loss: 4.0029 - val_accuracy: 0.4814\n",
      "Epoch 15/50\n",
      "50000/50000 [==============================] - 5s 108us/step - loss: 2.0520 - accuracy: 0.6876 - val_loss: 4.0358 - val_accuracy: 0.4800\n",
      "Epoch 16/50\n",
      "50000/50000 [==============================] - 6s 112us/step - loss: 1.9246 - accuracy: 0.7034 - val_loss: 4.1987 - val_accuracy: 0.4667\n",
      "Epoch 17/50\n",
      "50000/50000 [==============================] - 6s 113us/step - loss: 1.8202 - accuracy: 0.7143 - val_loss: 4.1624 - val_accuracy: 0.4734\n",
      "Epoch 18/50\n",
      "50000/50000 [==============================] - 6s 118us/step - loss: 1.6941 - accuracy: 0.7310 - val_loss: 4.2336 - val_accuracy: 0.4721\n",
      "Epoch 19/50\n",
      "50000/50000 [==============================] - 6s 112us/step - loss: 1.5953 - accuracy: 0.7442 - val_loss: 4.2313 - val_accuracy: 0.4865\n",
      "Epoch 20/50\n",
      "50000/50000 [==============================] - 6s 113us/step - loss: 1.4891 - accuracy: 0.7595 - val_loss: 4.3103 - val_accuracy: 0.4837\n",
      "Epoch 21/50\n",
      "50000/50000 [==============================] - 6s 112us/step - loss: 1.3928 - accuracy: 0.7699 - val_loss: 4.5101 - val_accuracy: 0.4654\n",
      "Epoch 22/50\n",
      "50000/50000 [==============================] - 6s 112us/step - loss: 1.2987 - accuracy: 0.7840 - val_loss: 4.5388 - val_accuracy: 0.4686\n",
      "Epoch 23/50\n",
      "50000/50000 [==============================] - 5s 105us/step - loss: 1.2080 - accuracy: 0.7975 - val_loss: 4.4953 - val_accuracy: 0.4745\n",
      "Epoch 24/50\n",
      "50000/50000 [==============================] - 6s 110us/step - loss: 1.1184 - accuracy: 0.8097 - val_loss: 4.6926 - val_accuracy: 0.4696\n",
      "Epoch 25/50\n",
      "50000/50000 [==============================] - 5s 107us/step - loss: 1.0384 - accuracy: 0.8207 - val_loss: 4.7269 - val_accuracy: 0.4801\n",
      "Epoch 26/50\n",
      "50000/50000 [==============================] - 6s 111us/step - loss: 0.9581 - accuracy: 0.8347 - val_loss: 4.7053 - val_accuracy: 0.4763\n",
      "Epoch 27/50\n",
      "50000/50000 [==============================] - 6s 111us/step - loss: 0.8738 - accuracy: 0.8480 - val_loss: 4.8718 - val_accuracy: 0.4773\n",
      "Epoch 28/50\n",
      "50000/50000 [==============================] - 6s 116us/step - loss: 0.8032 - accuracy: 0.8589 - val_loss: 4.9548 - val_accuracy: 0.4825\n",
      "Epoch 29/50\n",
      "50000/50000 [==============================] - 6s 118us/step - loss: 0.7315 - accuracy: 0.8719 - val_loss: 4.8964 - val_accuracy: 0.4739\n",
      "Epoch 30/50\n",
      "50000/50000 [==============================] - 5s 110us/step - loss: 0.6712 - accuracy: 0.8819 - val_loss: 5.1693 - val_accuracy: 0.4763\n",
      "Epoch 31/50\n",
      "50000/50000 [==============================] - 6s 116us/step - loss: 0.6062 - accuracy: 0.8939 - val_loss: 5.2498 - val_accuracy: 0.4609\n",
      "Epoch 32/50\n",
      "50000/50000 [==============================] - 6s 114us/step - loss: 0.5525 - accuracy: 0.9005 - val_loss: 5.3350 - val_accuracy: 0.4691\n",
      "Epoch 33/50\n",
      "50000/50000 [==============================] - 6s 118us/step - loss: 0.4939 - accuracy: 0.9132 - val_loss: 5.4115 - val_accuracy: 0.4684\n",
      "Epoch 34/50\n",
      "50000/50000 [==============================] - 6s 112us/step - loss: 0.4508 - accuracy: 0.9212 - val_loss: 5.5478 - val_accuracy: 0.4580\n",
      "Epoch 35/50\n",
      "50000/50000 [==============================] - 6s 112us/step - loss: 0.4056 - accuracy: 0.9301 - val_loss: 5.5335 - val_accuracy: 0.4673\n",
      "Epoch 36/50\n",
      "50000/50000 [==============================] - 6s 119us/step - loss: 0.3670 - accuracy: 0.9382 - val_loss: 5.5951 - val_accuracy: 0.4694\n",
      "Epoch 37/50\n",
      "50000/50000 [==============================] - 6s 110us/step - loss: 0.3272 - accuracy: 0.9473 - val_loss: 5.5492 - val_accuracy: 0.4751\n",
      "Epoch 38/50\n",
      "50000/50000 [==============================] - 5s 104us/step - loss: 0.2979 - accuracy: 0.9515 - val_loss: 5.8151 - val_accuracy: 0.4666\n",
      "Epoch 39/50\n",
      "50000/50000 [==============================] - 6s 112us/step - loss: 0.2641 - accuracy: 0.9586 - val_loss: 5.8898 - val_accuracy: 0.4714\n",
      "Epoch 40/50\n",
      "50000/50000 [==============================] - 6s 125us/step - loss: 0.2401 - accuracy: 0.9631 - val_loss: 5.9539 - val_accuracy: 0.4711\n",
      "Epoch 41/50\n",
      "50000/50000 [==============================] - 6s 123us/step - loss: 0.2130 - accuracy: 0.9683 - val_loss: 5.7971 - val_accuracy: 0.4745\n",
      "Epoch 42/50\n",
      "50000/50000 [==============================] - 6s 126us/step - loss: 0.1912 - accuracy: 0.9732 - val_loss: 6.0448 - val_accuracy: 0.4775\n",
      "Epoch 43/50\n",
      "50000/50000 [==============================] - 5s 104us/step - loss: 0.1697 - accuracy: 0.9781 - val_loss: 6.0359 - val_accuracy: 0.4754\n",
      "Epoch 44/50\n",
      "50000/50000 [==============================] - 6s 120us/step - loss: 0.1519 - accuracy: 0.9811 - val_loss: 6.1345 - val_accuracy: 0.4720\n",
      "Epoch 45/50\n",
      "50000/50000 [==============================] - 6s 129us/step - loss: 0.1393 - accuracy: 0.9835 - val_loss: 6.2185 - val_accuracy: 0.4738\n",
      "Epoch 46/50\n"
     ]
    },
    {
     "name": "stdout",
     "output_type": "stream",
     "text": [
      "50000/50000 [==============================] - 5s 103us/step - loss: 0.1242 - accuracy: 0.9869 - val_loss: 6.2481 - val_accuracy: 0.4805\n",
      "Epoch 47/50\n",
      "50000/50000 [==============================] - 6s 120us/step - loss: 0.1102 - accuracy: 0.9890 - val_loss: 6.3279 - val_accuracy: 0.4694\n",
      "Epoch 48/50\n",
      "50000/50000 [==============================] - 6s 121us/step - loss: 0.1019 - accuracy: 0.9905 - val_loss: 6.3986 - val_accuracy: 0.4763\n",
      "Epoch 49/50\n",
      "50000/50000 [==============================] - 6s 118us/step - loss: 0.0950 - accuracy: 0.9916 - val_loss: 6.3163 - val_accuracy: 0.4788\n",
      "Epoch 50/50\n",
      "50000/50000 [==============================] - 6s 125us/step - loss: 0.0844 - accuracy: 0.9931 - val_loss: 6.4907 - val_accuracy: 0.4737\n"
     ]
    }
   ],
   "source": [
    "model = build_mlp(input_shape=x_train.shape[1:])\n",
    "model.summary()\n",
    "optimizer = keras.optimizers.SGD(lr=LEARNING_RATE, nesterov=True, momentum=MOMENTUM)\n",
    "\"\"\"\n",
    "# 在 compile 時，使用自定義的 loss function\n",
    "\"\"\"\n",
    "model.compile(loss=focal_loss(), metrics=[\"accuracy\"], optimizer=optimizer)\n",
    "\n",
    "model.fit(x_train, y_train, \n",
    "          epochs=EPOCHS, \n",
    "          batch_size=BATCH_SIZE, \n",
    "          validation_data=(x_test, y_test), \n",
    "          shuffle=True\n",
    "         )\n",
    "\n",
    "# Collect results\n",
    "train_loss = model.history.history[\"loss\"]\n",
    "valid_loss = model.history.history[\"val_loss\"]\n",
    "train_acc = model.history.history[\"accuracy\"]\n",
    "valid_acc = model.history.history[\"val_accuracy\"]\n",
    "\n",
    "#valid_f1sc = model.history.history['val_f1sc']"
   ]
  },
  {
   "cell_type": "code",
   "execution_count": 17,
   "metadata": {},
   "outputs": [
    {
     "data": {
      "text/plain": [
       "dict_keys(['val_loss', 'val_accuracy', 'loss', 'accuracy'])"
      ]
     },
     "execution_count": 17,
     "metadata": {},
     "output_type": "execute_result"
    }
   ],
   "source": [
    "model.history.history.keys()"
   ]
  },
  {
   "cell_type": "code",
   "execution_count": 18,
   "metadata": {},
   "outputs": [
    {
     "data": {
      "image/png": "[encoded data removed]",
      "text/plain": [
       "<Figure size 432x288 with 1 Axes>"
      ]
     },
     "metadata": {
      "needs_background": "light"
     },
     "output_type": "display_data"
    },
    {
     "data": {
      "image/png": "[encoded data removed]",
      "text/plain": [
       "<Figure size 432x288 with 1 Axes>"
      ]
     },
     "metadata": {
      "needs_background": "light"
     },
     "output_type": "display_data"
    }
   ],
   "source": [
    "import matplotlib.pyplot as plt\n",
    "%matplotlib inline\n",
    "\n",
    "plt.plot(range(len(train_loss)), train_loss, label=\"train loss\")\n",
    "plt.plot(range(len(valid_loss)), valid_loss, label=\"valid loss\")\n",
    "plt.legend()\n",
    "plt.title(\"Loss\")\n",
    "plt.show()\n",
    "\n",
    "plt.plot(range(len(train_acc)), train_acc, label=\"train accuracy\")\n",
    "plt.plot(range(len(valid_acc)), valid_acc, label=\"valid accuracy\")\n",
    "plt.legend()\n",
    "plt.title(\"Accuracy\")\n",
    "plt.show()"
   ]
  },
  {
   "cell_type": "markdown",
   "metadata": {},
   "source": [
    "## Work\n",
    "1. 請自行定義一個 loss function, 為 0.3 * focal loss + 0.7 cross-entropy，訓練並比較結果\n"
   ]
  }
 ],
 "metadata": {
  "kernelspec": {
   "display_name": "Python 3",
   "language": "python",
   "name": "python3"
  },
  "language_info": {
   "codemirror_mode": {
    "name": "ipython",
    "version": 3
   },
   "file_extension": ".py",
   "mimetype": "text/x-python",
   "name": "python",
   "nbconvert_exporter": "python",
   "pygments_lexer": "ipython3",
   "version": "3.7.6"
  }
 },
 "nbformat": 4,
 "nbformat_minor": 2
}
