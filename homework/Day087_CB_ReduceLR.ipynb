{
 "cells": [
  {
   "cell_type": "markdown",
   "metadata": {},
   "source": [
    "## 範例重點\n",
    "* 學習如何在 keras 中加入 reduce learning rate\n",
    "* 知道如何設定 reduce_lr 的監控目標\n",
    "* 比較使用有無使用 reduce_lr 時的 performance"
   ]
  },
  {
   "cell_type": "code",
   "execution_count": 2,
   "metadata": {},
   "outputs": [],
   "source": [
    "import os\n",
    "import keras\n",
    "\n",
    "# 本範例不需使用 GPU, 將 GPU 設定為 \"無\"\n",
    "os.environ[\"CUDA_VISIBLE_DEVICES\"] = \"\""
   ]
  },
  {
   "cell_type": "code",
   "execution_count": 3,
   "metadata": {},
   "outputs": [],
   "source": [
    "train, test = keras.datasets.cifar10.load_data()"
   ]
  },
  {
   "cell_type": "code",
   "execution_count": 4,
   "metadata": {},
   "outputs": [],
   "source": [
    "## 資料前處理\n",
    "def preproc_x(x, flatten=True):\n",
    "    x = x / 255.\n",
    "    if flatten:\n",
    "        x = x.reshape((len(x), -1))\n",
    "    return x\n",
    "\n",
    "def preproc_y(y, num_classes=10):\n",
    "    if y.shape[-1] == 1:\n",
    "        y = keras.utils.to_categorical(y, num_classes)\n",
    "    return y    "
   ]
  },
  {
   "cell_type": "code",
   "execution_count": 5,
   "metadata": {},
   "outputs": [],
   "source": [
    "x_train, y_train = train\n",
    "x_test, y_test = test\n",
    "\n",
    "# 資料前處理 - X 標準化\n",
    "x_train = preproc_x(x_train)\n",
    "x_test = preproc_x(x_test)\n",
    "\n",
    "# 資料前處理 -Y 轉成 onehot\n",
    "y_train = preproc_y(y_train)\n",
    "y_test = preproc_y(y_test)"
   ]
  },
  {
   "cell_type": "code",
   "execution_count": 6,
   "metadata": {},
   "outputs": [],
   "source": [
    "from keras.layers import BatchNormalization\n",
    "\n",
    "\"\"\"\n",
    "建立神經網路，並加入 BN layer\n",
    "\"\"\"\n",
    "def build_mlp(input_shape, output_units=10, num_neurons=[512, 256, 128]):\n",
    "    input_layer = keras.layers.Input(input_shape)\n",
    "    \n",
    "    for i, n_units in enumerate(num_neurons):\n",
    "        if i == 0:\n",
    "            x = keras.layers.Dense(units=n_units, \n",
    "                                   activation=\"relu\", \n",
    "                                   name=\"hidden_layer\"+str(i+1))(input_layer)\n",
    "            x = BatchNormalization()(x)\n",
    "        else:\n",
    "            x = keras.layers.Dense(units=n_units, \n",
    "                                   activation=\"relu\", \n",
    "                                   name=\"hidden_layer\"+str(i+1))(x)\n",
    "            x = BatchNormalization()(x)\n",
    "    \n",
    "    out = keras.layers.Dense(units=output_units, activation=\"softmax\", name=\"output\")(x)\n",
    "    \n",
    "    model = keras.models.Model(inputs=[input_layer], outputs=[out])\n",
    "    return model"
   ]
  },
  {
   "cell_type": "code",
   "execution_count": 7,
   "metadata": {},
   "outputs": [],
   "source": [
    "## 超參數設定\n",
    "LEARNING_RATE = 1e-3\n",
    "EPOCHS = 50\n",
    "BATCH_SIZE = 1024\n",
    "MOMENTUM = 0.95"
   ]
  },
  {
   "cell_type": "code",
   "execution_count": 8,
   "metadata": {},
   "outputs": [],
   "source": [
    "\"\"\"\n",
    "# 載入 Callbacks, 並設定監控目標為 validation loss\n",
    "\"\"\"\n",
    "from keras.callbacks import ReduceLROnPlateau\n",
    "\n",
    "reduce_lr = ReduceLROnPlateau(factor=0.5, \n",
    "                              min_lr=1e-12, \n",
    "                              monitor='val_loss', \n",
    "                              patience=5, \n",
    "                              verbose=1)"
   ]
  },
  {
   "cell_type": "code",
   "execution_count": 9,
   "metadata": {
    "scrolled": true
   },
   "outputs": [
    {
     "name": "stdout",
     "output_type": "stream",
     "text": [
      "Model: \"model_1\"\n",
      "_________________________________________________________________\n",
      "Layer (type)                 Output Shape              Param #   \n",
      "=================================================================\n",
      "input_1 (InputLayer)         (None, 3072)              0         \n",
      "_________________________________________________________________\n",
      "hidden_layer1 (Dense)        (None, 512)               1573376   \n",
      "_________________________________________________________________\n",
      "batch_normalization_1 (Batch (None, 512)               2048      \n",
      "_________________________________________________________________\n",
      "hidden_layer2 (Dense)        (None, 256)               131328    \n",
      "_________________________________________________________________\n",
      "batch_normalization_2 (Batch (None, 256)               1024      \n",
      "_________________________________________________________________\n",
      "hidden_layer3 (Dense)        (None, 128)               32896     \n",
      "_________________________________________________________________\n",
      "batch_normalization_3 (Batch (None, 128)               512       \n",
      "_________________________________________________________________\n",
      "output (Dense)               (None, 10)                1290      \n",
      "=================================================================\n",
      "Total params: 1,742,474\n",
      "Trainable params: 1,740,682\n",
      "Non-trainable params: 1,792\n",
      "_________________________________________________________________\n",
      "WARNING:tensorflow:From C:\\ProgramData\\Anaconda3\\lib\\site-packages\\keras\\backend\\tensorflow_backend.py:422: The name tf.global_variables is deprecated. Please use tf.compat.v1.global_variables instead.\n",
      "\n",
      "Train on 50000 samples, validate on 10000 samples\n",
      "Epoch 1/50\n",
      "50000/50000 [==============================] - 5s 96us/step - loss: 2.1875 - accuracy: 0.2753 - val_loss: 2.1119 - val_accuracy: 0.2167\n",
      "Epoch 2/50\n",
      "50000/50000 [==============================] - 4s 87us/step - loss: 1.7345 - accuracy: 0.3931 - val_loss: 1.9592 - val_accuracy: 0.3055\n",
      "Epoch 3/50\n",
      "50000/50000 [==============================] - 4s 86us/step - loss: 1.6127 - accuracy: 0.4351 - val_loss: 1.8198 - val_accuracy: 0.3616\n",
      "Epoch 4/50\n",
      "50000/50000 [==============================] - 5s 92us/step - loss: 1.5429 - accuracy: 0.4591 - val_loss: 1.6953 - val_accuracy: 0.4143\n",
      "Epoch 5/50\n",
      "50000/50000 [==============================] - 5s 102us/step - loss: 1.4886 - accuracy: 0.4783 - val_loss: 1.6360 - val_accuracy: 0.4276\n",
      "Epoch 6/50\n",
      "50000/50000 [==============================] - 5s 104us/step - loss: 1.4429 - accuracy: 0.4947 - val_loss: 1.5826 - val_accuracy: 0.4406\n",
      "Epoch 7/50\n",
      "50000/50000 [==============================] - 5s 101us/step - loss: 1.4029 - accuracy: 0.5100 - val_loss: 1.5532 - val_accuracy: 0.4550\n",
      "Epoch 8/50\n",
      "50000/50000 [==============================] - 5s 101us/step - loss: 1.3678 - accuracy: 0.5230 - val_loss: 1.5268 - val_accuracy: 0.4616\n",
      "Epoch 9/50\n",
      "50000/50000 [==============================] - 5s 103us/step - loss: 1.3348 - accuracy: 0.5338 - val_loss: 1.5133 - val_accuracy: 0.4641\n",
      "Epoch 10/50\n",
      "50000/50000 [==============================] - 5s 101us/step - loss: 1.3039 - accuracy: 0.5463 - val_loss: 1.4969 - val_accuracy: 0.4698\n",
      "Epoch 11/50\n",
      "50000/50000 [==============================] - 5s 100us/step - loss: 1.2757 - accuracy: 0.5563 - val_loss: 1.4867 - val_accuracy: 0.4801\n",
      "Epoch 12/50\n",
      "50000/50000 [==============================] - 5s 105us/step - loss: 1.2496 - accuracy: 0.5665 - val_loss: 1.4819 - val_accuracy: 0.4839\n",
      "Epoch 13/50\n",
      "50000/50000 [==============================] - 5s 101us/step - loss: 1.2223 - accuracy: 0.5768 - val_loss: 1.4685 - val_accuracy: 0.4921\n",
      "Epoch 14/50\n",
      "50000/50000 [==============================] - 5s 103us/step - loss: 1.1968 - accuracy: 0.5871 - val_loss: 1.4791 - val_accuracy: 0.4858\n",
      "Epoch 15/50\n",
      "50000/50000 [==============================] - 5s 103us/step - loss: 1.1715 - accuracy: 0.5964 - val_loss: 1.4636 - val_accuracy: 0.4864\n",
      "Epoch 16/50\n",
      "50000/50000 [==============================] - 5s 102us/step - loss: 1.1485 - accuracy: 0.6049 - val_loss: 1.4705 - val_accuracy: 0.4838\n",
      "Epoch 17/50\n",
      "50000/50000 [==============================] - 5s 100us/step - loss: 1.1272 - accuracy: 0.6126 - val_loss: 1.4631 - val_accuracy: 0.4875\n",
      "Epoch 18/50\n",
      "50000/50000 [==============================] - 5s 100us/step - loss: 1.1044 - accuracy: 0.6221 - val_loss: 1.4539 - val_accuracy: 0.4904\n",
      "Epoch 19/50\n",
      "50000/50000 [==============================] - 5s 106us/step - loss: 1.0803 - accuracy: 0.6324 - val_loss: 1.4612 - val_accuracy: 0.4931\n",
      "Epoch 20/50\n",
      "50000/50000 [==============================] - 5s 102us/step - loss: 1.0600 - accuracy: 0.6389 - val_loss: 1.4608 - val_accuracy: 0.4946\n",
      "Epoch 21/50\n",
      "50000/50000 [==============================] - 5s 104us/step - loss: 1.0394 - accuracy: 0.6459 - val_loss: 1.4551 - val_accuracy: 0.4929\n",
      "Epoch 22/50\n",
      "50000/50000 [==============================] - 5s 103us/step - loss: 1.0161 - accuracy: 0.6561 - val_loss: 1.4696 - val_accuracy: 0.4908\n",
      "Epoch 23/50\n",
      "50000/50000 [==============================] - 5s 101us/step - loss: 0.9944 - accuracy: 0.6645 - val_loss: 1.4661 - val_accuracy: 0.4942\n",
      "\n",
      "Epoch 00023: ReduceLROnPlateau reducing learning rate to 0.0005000000237487257.\n",
      "Epoch 24/50\n",
      "50000/50000 [==============================] - 5s 103us/step - loss: 0.9682 - accuracy: 0.6760 - val_loss: 1.4497 - val_accuracy: 0.4986\n",
      "Epoch 25/50\n",
      "50000/50000 [==============================] - 5s 105us/step - loss: 0.9500 - accuracy: 0.6827 - val_loss: 1.4525 - val_accuracy: 0.4992\n",
      "Epoch 26/50\n",
      "50000/50000 [==============================] - 5s 105us/step - loss: 0.9380 - accuracy: 0.6878 - val_loss: 1.4553 - val_accuracy: 0.4988\n",
      "Epoch 27/50\n",
      "50000/50000 [==============================] - 5s 104us/step - loss: 0.9271 - accuracy: 0.6917 - val_loss: 1.4626 - val_accuracy: 0.4981\n",
      "Epoch 28/50\n",
      "50000/50000 [==============================] - 5s 110us/step - loss: 0.9147 - accuracy: 0.6957 - val_loss: 1.4593 - val_accuracy: 0.5003\n",
      "Epoch 29/50\n",
      "50000/50000 [==============================] - 5s 109us/step - loss: 0.9049 - accuracy: 0.6986 - val_loss: 1.4557 - val_accuracy: 0.5022\n",
      "\n",
      "Epoch 00029: ReduceLROnPlateau reducing learning rate to 0.0002500000118743628.\n",
      "Epoch 30/50\n",
      "50000/50000 [==============================] - 5s 110us/step - loss: 0.8891 - accuracy: 0.7070 - val_loss: 1.4559 - val_accuracy: 0.5013\n",
      "Epoch 31/50\n",
      "50000/50000 [==============================] - 5s 107us/step - loss: 0.8804 - accuracy: 0.7108 - val_loss: 1.4590 - val_accuracy: 0.5020\n",
      "Epoch 32/50\n",
      "50000/50000 [==============================] - 5s 104us/step - loss: 0.8741 - accuracy: 0.7136 - val_loss: 1.4611 - val_accuracy: 0.5027\n",
      "Epoch 33/50\n",
      "50000/50000 [==============================] - 5s 103us/step - loss: 0.8682 - accuracy: 0.7157 - val_loss: 1.4643 - val_accuracy: 0.5013\n",
      "Epoch 34/50\n",
      "50000/50000 [==============================] - 5s 105us/step - loss: 0.8627 - accuracy: 0.7171 - val_loss: 1.4647 - val_accuracy: 0.5023\n",
      "\n",
      "Epoch 00034: ReduceLROnPlateau reducing learning rate to 0.0001250000059371814.\n",
      "Epoch 35/50\n",
      "50000/50000 [==============================] - 5s 102us/step - loss: 0.8559 - accuracy: 0.7209 - val_loss: 1.4624 - val_accuracy: 0.5033\n",
      "Epoch 36/50\n",
      "50000/50000 [==============================] - 5s 104us/step - loss: 0.8501 - accuracy: 0.7236 - val_loss: 1.4646 - val_accuracy: 0.5018\n",
      "Epoch 37/50\n",
      "50000/50000 [==============================] - 5s 105us/step - loss: 0.8477 - accuracy: 0.7252 - val_loss: 1.4660 - val_accuracy: 0.5034\n",
      "Epoch 38/50\n",
      "50000/50000 [==============================] - 5s 106us/step - loss: 0.8442 - accuracy: 0.7265 - val_loss: 1.4647 - val_accuracy: 0.5044\n",
      "Epoch 39/50\n",
      "50000/50000 [==============================] - 5s 103us/step - loss: 0.8409 - accuracy: 0.7268 - val_loss: 1.4667 - val_accuracy: 0.5024\n",
      "\n",
      "Epoch 00039: ReduceLROnPlateau reducing learning rate to 6.25000029685907e-05.\n",
      "Epoch 40/50\n",
      "50000/50000 [==============================] - 5s 108us/step - loss: 0.8374 - accuracy: 0.7299 - val_loss: 1.4662 - val_accuracy: 0.5047\n",
      "Epoch 41/50\n",
      "50000/50000 [==============================] - 5s 107us/step - loss: 0.8337 - accuracy: 0.7312 - val_loss: 1.4674 - val_accuracy: 0.5047\n",
      "Epoch 42/50\n",
      "50000/50000 [==============================] - 5s 103us/step - loss: 0.8333 - accuracy: 0.7315 - val_loss: 1.4672 - val_accuracy: 0.5029\n"
     ]
    },
    {
     "name": "stdout",
     "output_type": "stream",
     "text": [
      "Epoch 43/50\n",
      "50000/50000 [==============================] - 5s 106us/step - loss: 0.8315 - accuracy: 0.7324 - val_loss: 1.4682 - val_accuracy: 0.5040\n",
      "Epoch 44/50\n",
      "50000/50000 [==============================] - 5s 105us/step - loss: 0.8297 - accuracy: 0.7318 - val_loss: 1.4680 - val_accuracy: 0.5047\n",
      "\n",
      "Epoch 00044: ReduceLROnPlateau reducing learning rate to 3.125000148429535e-05.\n",
      "Epoch 45/50\n",
      "50000/50000 [==============================] - 5s 100us/step - loss: 0.8273 - accuracy: 0.7321 - val_loss: 1.4688 - val_accuracy: 0.5025\n",
      "Epoch 46/50\n",
      "50000/50000 [==============================] - 5s 107us/step - loss: 0.8266 - accuracy: 0.7340 - val_loss: 1.4693 - val_accuracy: 0.5038\n",
      "Epoch 47/50\n",
      "50000/50000 [==============================] - 5s 102us/step - loss: 0.8267 - accuracy: 0.7337 - val_loss: 1.4697 - val_accuracy: 0.5030\n",
      "Epoch 48/50\n",
      "50000/50000 [==============================] - 5s 105us/step - loss: 0.8257 - accuracy: 0.7337 - val_loss: 1.4697 - val_accuracy: 0.5051\n",
      "Epoch 49/50\n",
      "50000/50000 [==============================] - 5s 105us/step - loss: 0.8252 - accuracy: 0.7340 - val_loss: 1.4702 - val_accuracy: 0.5013\n",
      "\n",
      "Epoch 00049: ReduceLROnPlateau reducing learning rate to 1.5625000742147677e-05.\n",
      "Epoch 50/50\n",
      "50000/50000 [==============================] - 5s 104us/step - loss: 0.8241 - accuracy: 0.7350 - val_loss: 1.4705 - val_accuracy: 0.5030\n"
     ]
    }
   ],
   "source": [
    "model = build_mlp(input_shape=x_train.shape[1:])\n",
    "model.summary()\n",
    "optimizer = keras.optimizers.SGD(lr=LEARNING_RATE, nesterov=True, momentum=MOMENTUM)\n",
    "model.compile(loss=\"categorical_crossentropy\", metrics=[\"accuracy\"], optimizer=optimizer)\n",
    "\n",
    "model.fit(x_train, y_train, \n",
    "          epochs=EPOCHS, \n",
    "          batch_size=BATCH_SIZE, \n",
    "          validation_data=(x_test, y_test), \n",
    "          shuffle=True,\n",
    "          callbacks=[reduce_lr]\n",
    "         )\n",
    "\n",
    "# Collect results\n",
    "train_loss = model.history.history[\"loss\"]\n",
    "valid_loss = model.history.history[\"val_loss\"]\n",
    "train_acc = model.history.history[\"accuracy\"]\n",
    "valid_acc = model.history.history[\"val_accuracy\"]"
   ]
  },
  {
   "cell_type": "code",
   "execution_count": 10,
   "metadata": {},
   "outputs": [
    {
     "data": {
      "image/png": "[encoded data removed]",
      "text/plain": [
       "<Figure size 432x288 with 1 Axes>"
      ]
     },
     "metadata": {
      "needs_background": "light"
     },
     "output_type": "display_data"
    },
    {
     "data": {
      "image/png": "[encoded data removed]",
      "text/plain": [
       "<Figure size 432x288 with 1 Axes>"
      ]
     },
     "metadata": {
      "needs_background": "light"
     },
     "output_type": "display_data"
    }
   ],
   "source": [
    "import matplotlib.pyplot as plt\n",
    "%matplotlib inline\n",
    "\n",
    "plt.plot(range(len(train_loss)), train_loss, label=\"train loss\")\n",
    "plt.plot(range(len(valid_loss)), valid_loss, label=\"valid loss\")\n",
    "plt.legend()\n",
    "plt.title(\"Loss\")\n",
    "plt.show()\n",
    "\n",
    "plt.plot(range(len(train_acc)), train_acc, label=\"train accuracy\")\n",
    "plt.plot(range(len(valid_acc)), valid_acc, label=\"valid accuracy\")\n",
    "plt.legend()\n",
    "plt.title(\"Accuracy\")\n",
    "plt.show()"
   ]
  },
  {
   "cell_type": "markdown",
   "metadata": {},
   "source": [
    "## Work\n",
    "1. 請改變 reduce_lr 的 patience 和 factor 並比較不同設定下，對訓練/驗證集的影響\n",
    "2. 請將 optimizer 換成 Adam、RMSprop 搭配 reduce_lr 並比較訓練結果"
   ]
  }
 ],
 "metadata": {
  "kernelspec": {
   "display_name": "Python 3",
   "language": "python",
   "name": "python3"
  },
  "language_info": {
   "codemirror_mode": {
    "name": "ipython",
    "version": 3
   },
   "file_extension": ".py",
   "mimetype": "text/x-python",
   "name": "python",
   "nbconvert_exporter": "python",
   "pygments_lexer": "ipython3",
   "version": "3.7.6"
  }
 },
 "nbformat": 4,
 "nbformat_minor": 2
}
