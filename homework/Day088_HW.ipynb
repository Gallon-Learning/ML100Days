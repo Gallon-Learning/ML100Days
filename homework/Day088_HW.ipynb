{
 "cells": [
  {
   "cell_type": "markdown",
   "metadata": {},
   "source": [
    "## Work\n",
    "1. 請嘗試寫一個 callback 用來記錄各類別在訓練過程中，對驗證集的 True Positive 與 True Negative"
   ]
  },
  {
   "cell_type": "code",
   "execution_count": 2,
   "metadata": {},
   "outputs": [],
   "source": [
    "import os\n",
    "import keras\n",
    "\n",
    "# Disable GPU\n",
    "os.environ[\"CUDA_VISIBLE_DEVICES\"] = \"\""
   ]
  },
  {
   "cell_type": "code",
   "execution_count": 3,
   "metadata": {},
   "outputs": [],
   "source": [
    "train, test = keras.datasets.cifar10.load_data()"
   ]
  },
  {
   "cell_type": "code",
   "execution_count": 4,
   "metadata": {},
   "outputs": [],
   "source": [
    "## 資料前處理\n",
    "def preproc_x(x, flatten=True):\n",
    "    x = x / 255.\n",
    "    if flatten:\n",
    "        x = x.reshape((len(x), -1))\n",
    "    return x\n",
    "\n",
    "def preproc_y(y, num_classes=10):\n",
    "    if y.shape[-1] == 1:\n",
    "        y = keras.utils.to_categorical(y, num_classes)\n",
    "    return y    "
   ]
  },
  {
   "cell_type": "code",
   "execution_count": 5,
   "metadata": {},
   "outputs": [],
   "source": [
    "x_train, y_train = train\n",
    "x_test, y_test = test\n",
    "\n",
    "# Preproc the inputs\n",
    "x_train = preproc_x(x_train)\n",
    "x_test = preproc_x(x_test)\n",
    "\n",
    "# Preprc the outputs\n",
    "y_train = preproc_y(y_train)\n",
    "y_test = preproc_y(y_test)"
   ]
  },
  {
   "cell_type": "code",
   "execution_count": 6,
   "metadata": {},
   "outputs": [],
   "source": [
    "from keras.layers import BatchNormalization\n",
    "def build_mlp(input_shape, output_units=10, num_neurons=[512, 256, 128]):\n",
    "    input_layer = keras.layers.Input(input_shape)\n",
    "    \n",
    "    for i, n_units in enumerate(num_neurons):\n",
    "        if i == 0:\n",
    "            x = keras.layers.Dense(units=n_units, \n",
    "                                   activation=\"relu\", \n",
    "                                   name=\"hidden_layer\"+str(i+1))(input_layer)\n",
    "            x = BatchNormalization()(x)\n",
    "        else:\n",
    "            x = keras.layers.Dense(units=n_units, \n",
    "                                   activation=\"relu\", \n",
    "                                   name=\"hidden_layer\"+str(i+1))(x)\n",
    "            x = BatchNormalization()(x)\n",
    "    \n",
    "    out = keras.layers.Dense(units=output_units, activation=\"softmax\", name=\"output\")(x)\n",
    "    \n",
    "    model = keras.models.Model(inputs=[input_layer], outputs=[out])\n",
    "    return model"
   ]
  },
  {
   "cell_type": "code",
   "execution_count": 7,
   "metadata": {},
   "outputs": [],
   "source": [
    "## 超參數設定\n",
    "LEARNING_RATE = 1e-3\n",
    "EPOCHS = 25\n",
    "BATCH_SIZE = 1024\n",
    "MOMENTUM = 0.95"
   ]
  },
  {
   "cell_type": "code",
   "execution_count": 56,
   "metadata": {},
   "outputs": [],
   "source": [
    "# 載入 Callbacks\n",
    "from keras.callbacks import Callback\n",
    "from sklearn.metrics import confusion_matrix\n",
    "# Record_fp_tp\n",
    "class Record_tp_tn(Callback):\n",
    "    \"\"\"Code Here\n",
    "    撰寫一個紀錄 true positive 與 true negative 數量的 callbacks    \n",
    "    \"\"\"\n",
    "    def on_train_begin(self, epoch, logs = {}):\n",
    "        logs = logs or {}\n",
    "        record_items = [\"val_tp\", \"val_tn\"]\n",
    "        for i in record_items:\n",
    "            if i not in self.params['metrics']:\n",
    "                self.params['metrics'].append(i)\n",
    "    def on_epoch_end(self, epoch, logs = {}, thres=0.5):\n",
    "        logs = logs or {}\n",
    "        tp0,tn0=0,0\n",
    "        for i in range(10):\n",
    "            y_true = self.validation_data[1].argmax(axis = 1)==i\n",
    "            y_pred = self.model.predict(self.validation_data[0])\n",
    "            y_pred = y_pred.argmax(axis = 1)==i\n",
    "            tn, fp, fn, tp=confusion_matrix(y_true, y_pred).ravel()\n",
    "            tp0+=tp\n",
    "            tn0+=tn\n",
    "        logs[\"val_tp\"] = tp0/10\n",
    "        logs[\"val_tn\"] = tn0/10\n",
    "        \n",
    "rec_tptn = Record_tp_tn()"
   ]
  },
  {
   "cell_type": "code",
   "execution_count": 57,
   "metadata": {
    "scrolled": true
   },
   "outputs": [
    {
     "name": "stdout",
     "output_type": "stream",
     "text": [
      "Model: \"model_3\"\n",
      "_________________________________________________________________\n",
      "Layer (type)                 Output Shape              Param #   \n",
      "=================================================================\n",
      "input_3 (InputLayer)         (None, 3072)              0         \n",
      "_________________________________________________________________\n",
      "hidden_layer1 (Dense)        (None, 512)               1573376   \n",
      "_________________________________________________________________\n",
      "batch_normalization_7 (Batch (None, 512)               2048      \n",
      "_________________________________________________________________\n",
      "hidden_layer2 (Dense)        (None, 256)               131328    \n",
      "_________________________________________________________________\n",
      "batch_normalization_8 (Batch (None, 256)               1024      \n",
      "_________________________________________________________________\n",
      "hidden_layer3 (Dense)        (None, 128)               32896     \n",
      "_________________________________________________________________\n",
      "batch_normalization_9 (Batch (None, 128)               512       \n",
      "_________________________________________________________________\n",
      "output (Dense)               (None, 10)                1290      \n",
      "=================================================================\n",
      "Total params: 1,742,474\n",
      "Trainable params: 1,740,682\n",
      "Non-trainable params: 1,792\n",
      "_________________________________________________________________\n",
      "Train on 50000 samples, validate on 10000 samples\n",
      "Epoch 1/25\n",
      "50000/50000 [==============================] - 5s 95us/step - loss: 2.2136 - accuracy: 0.2737 - val_loss: 2.1628 - val_accuracy: 0.1936\n",
      "Epoch 2/25\n",
      "50000/50000 [==============================] - 5s 94us/step - loss: 1.7351 - accuracy: 0.3959 - val_loss: 2.0057 - val_accuracy: 0.2614\n",
      "Epoch 3/25\n",
      "50000/50000 [==============================] - 5s 108us/step - loss: 1.6082 - accuracy: 0.4398 - val_loss: 1.8496 - val_accuracy: 0.3364\n",
      "Epoch 4/25\n",
      "50000/50000 [==============================] - 5s 106us/step - loss: 1.5346 - accuracy: 0.4646 - val_loss: 1.7388 - val_accuracy: 0.3822\n",
      "Epoch 5/25\n",
      "50000/50000 [==============================] - 5s 101us/step - loss: 1.4800 - accuracy: 0.4837 - val_loss: 1.6545 - val_accuracy: 0.4169\n",
      "Epoch 6/25\n",
      "50000/50000 [==============================] - 5s 104us/step - loss: 1.4345 - accuracy: 0.5013 - val_loss: 1.6013 - val_accuracy: 0.4388\n",
      "Epoch 7/25\n",
      "50000/50000 [==============================] - 5s 103us/step - loss: 1.3965 - accuracy: 0.5141 - val_loss: 1.5526 - val_accuracy: 0.4521\n",
      "Epoch 8/25\n",
      "50000/50000 [==============================] - 5s 103us/step - loss: 1.3624 - accuracy: 0.5267 - val_loss: 1.5210 - val_accuracy: 0.4624\n",
      "Epoch 9/25\n",
      "50000/50000 [==============================] - 5s 109us/step - loss: 1.3282 - accuracy: 0.5394 - val_loss: 1.5050 - val_accuracy: 0.4702\n",
      "Epoch 10/25\n",
      "50000/50000 [==============================] - 5s 106us/step - loss: 1.3000 - accuracy: 0.5482 - val_loss: 1.4891 - val_accuracy: 0.4752\n",
      "Epoch 11/25\n",
      "50000/50000 [==============================] - 6s 110us/step - loss: 1.2696 - accuracy: 0.5597 - val_loss: 1.4819 - val_accuracy: 0.4786\n",
      "Epoch 12/25\n",
      "50000/50000 [==============================] - 5s 108us/step - loss: 1.2443 - accuracy: 0.5668 - val_loss: 1.4754 - val_accuracy: 0.4827\n",
      "Epoch 13/25\n",
      "50000/50000 [==============================] - 5s 105us/step - loss: 1.2202 - accuracy: 0.5772 - val_loss: 1.4749 - val_accuracy: 0.4837\n",
      "Epoch 14/25\n",
      "50000/50000 [==============================] - 5s 106us/step - loss: 1.1922 - accuracy: 0.5865 - val_loss: 1.4656 - val_accuracy: 0.4881\n",
      "Epoch 15/25\n",
      "50000/50000 [==============================] - 5s 106us/step - loss: 1.1679 - accuracy: 0.5962 - val_loss: 1.4691 - val_accuracy: 0.4907\n",
      "Epoch 16/25\n",
      "50000/50000 [==============================] - 6s 115us/step - loss: 1.1453 - accuracy: 0.6053 - val_loss: 1.4731 - val_accuracy: 0.4889\n",
      "Epoch 17/25\n",
      "50000/50000 [==============================] - 5s 107us/step - loss: 1.1221 - accuracy: 0.6133 - val_loss: 1.4669 - val_accuracy: 0.4903\n",
      "Epoch 18/25\n",
      "50000/50000 [==============================] - 5s 106us/step - loss: 1.1006 - accuracy: 0.6209 - val_loss: 1.4706 - val_accuracy: 0.4877\n",
      "Epoch 19/25\n",
      "50000/50000 [==============================] - 5s 108us/step - loss: 1.0789 - accuracy: 0.6307 - val_loss: 1.4706 - val_accuracy: 0.4930\n",
      "Epoch 20/25\n",
      "50000/50000 [==============================] - 5s 100us/step - loss: 1.0568 - accuracy: 0.6386 - val_loss: 1.4806 - val_accuracy: 0.4857\n",
      "Epoch 21/25\n",
      "50000/50000 [==============================] - 5s 109us/step - loss: 1.0355 - accuracy: 0.6475 - val_loss: 1.4768 - val_accuracy: 0.4902\n",
      "Epoch 22/25\n",
      "50000/50000 [==============================] - 6s 113us/step - loss: 1.0141 - accuracy: 0.6562 - val_loss: 1.4733 - val_accuracy: 0.4930\n",
      "Epoch 23/25\n",
      "50000/50000 [==============================] - 5s 104us/step - loss: 0.9916 - accuracy: 0.6653 - val_loss: 1.4678 - val_accuracy: 0.4954\n",
      "Epoch 24/25\n",
      "50000/50000 [==============================] - 5s 109us/step - loss: 0.9727 - accuracy: 0.6714 - val_loss: 1.4714 - val_accuracy: 0.4960\n",
      "Epoch 25/25\n",
      "50000/50000 [==============================] - 5s 107us/step - loss: 0.9513 - accuracy: 0.6814 - val_loss: 1.4750 - val_accuracy: 0.4954\n"
     ]
    }
   ],
   "source": [
    "model = build_mlp(input_shape=x_train.shape[1:])\n",
    "model.summary()\n",
    "optimizer = keras.optimizers.SGD(lr=LEARNING_RATE, nesterov=True, momentum=MOMENTUM)\n",
    "model.compile(loss=\"categorical_crossentropy\", metrics=[\"accuracy\"], optimizer=optimizer)\n",
    "\n",
    "\"\"\"Code Here\n",
    "將 callbacks 放入模型訓練流程中\n",
    "\"\"\"\n",
    "model.fit(x_train, y_train, \n",
    "          epochs=EPOCHS, \n",
    "          batch_size=BATCH_SIZE, \n",
    "          validation_data=(x_test, y_test), \n",
    "          shuffle=True,\n",
    "          callbacks=[rec_tptn]\n",
    "         )\n",
    "\n",
    "\n",
    "# Collect results\n",
    "train_loss = model.history.history[\"loss\"]\n",
    "valid_loss = model.history.history[\"val_loss\"]\n",
    "train_acc = model.history.history[\"accuracy\"]\n",
    "valid_acc = model.history.history[\"val_accuracy\"]\n",
    "\n",
    "\"\"\"Code Here\n",
    "將 tp/tn 從訓練完的模型中取出\n",
    "\"\"\"\n",
    "valid_tp = model.history.history['val_tp']\n",
    "valid_tn = model.history.history['val_tn']"
   ]
  },
  {
   "cell_type": "code",
   "execution_count": 58,
   "metadata": {},
   "outputs": [
    {
     "data": {
      "image/png": "[encoded data removed]",
      "text/plain": [
       "<Figure size 432x288 with 1 Axes>"
      ]
     },
     "metadata": {
      "needs_background": "light"
     },
     "output_type": "display_data"
    },
    {
     "data": {
      "image/png": "[encoded data removed]",
      "text/plain": [
       "<Figure size 432x288 with 1 Axes>"
      ]
     },
     "metadata": {
      "needs_background": "light"
     },
     "output_type": "display_data"
    },
    {
     "data": {
      "image/png": "[encoded data removed]",
      "text/plain": [
       "<Figure size 432x288 with 1 Axes>"
      ]
     },
     "metadata": {
      "needs_background": "light"
     },
     "output_type": "display_data"
    }
   ],
   "source": [
    "import matplotlib.pyplot as plt\n",
    "%matplotlib inline\n",
    "\n",
    "plt.plot(range(len(train_loss)), train_loss, label=\"train loss\")\n",
    "plt.plot(range(len(valid_loss)), valid_loss, label=\"valid loss\")\n",
    "plt.legend()\n",
    "plt.title(\"Loss\")\n",
    "plt.show()\n",
    "\n",
    "plt.plot(range(len(train_acc)), train_acc, label=\"train accuracy\")\n",
    "plt.plot(range(len(valid_acc)), valid_acc, label=\"valid accuracy\")\n",
    "plt.legend()\n",
    "plt.title(\"Accuracy\")\n",
    "plt.show()\n",
    "\n",
    "plt.plot(range(len(valid_tp)), valid_tp, label=\"valid tp\", color=\"navy\")\n",
    "plt.plot(range(len(valid_tn)), valid_tn, label=\"valid tn\", color=\"red\")\n",
    "plt.legend()\n",
    "plt.title(\"True positives and True Negatives\")\n",
    "plt.show()\n"
   ]
  },
  {
   "cell_type": "code",
   "execution_count": null,
   "metadata": {},
   "outputs": [],
   "source": []
  }
 ],
 "metadata": {
  "kernelspec": {
   "display_name": "Python 3",
   "language": "python",
   "name": "python3"
  },
  "language_info": {
   "codemirror_mode": {
    "name": "ipython",
    "version": 3
   },
   "file_extension": ".py",
   "mimetype": "text/x-python",
   "name": "python",
   "nbconvert_exporter": "python",
   "pygments_lexer": "ipython3",
   "version": "3.7.6"
  }
 },
 "nbformat": 4,
 "nbformat_minor": 2
}
