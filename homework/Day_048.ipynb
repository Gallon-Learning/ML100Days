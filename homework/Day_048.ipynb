{
 "cells": [
  {
   "cell_type": "code",
   "execution_count": 84,
   "metadata": {},
   "outputs": [],
   "source": [
    "%matplotlib inline\n",
    "import numpy as np\n",
    "import pandas as pd\n",
    "import matplotlib.pyplot as plt"
   ]
  },
  {
   "cell_type": "code",
   "execution_count": 87,
   "metadata": {},
   "outputs": [],
   "source": [
    "import warnings\n",
    "warnings.filterwarnings(\"ignore\")\n",
    "\n",
    "from sklearn.preprocessing import MinMaxScaler\n",
    "from sklearn.model_selection import train_test_split, GridSearchCV\n",
    "from sklearn import metrics, linear_model\n",
    "from sklearn.tree import DecisionTreeClassifier\n",
    "from sklearn.ensemble import RandomForestClassifier, GradientBoostingClassifier\n"
   ]
  },
  {
   "cell_type": "code",
   "execution_count": 86,
   "metadata": {},
   "outputs": [
    {
     "name": "stdout",
     "output_type": "stream",
     "text": [
      "(1000, 40)\n",
      "(1000, 1)\n"
     ]
    }
   ],
   "source": [
    "data_path = 'data/'\n",
    "df_X= pd.read_csv(data_path + 'kaggle/train.csv',header=None)\n",
    "df_Y= pd.read_csv(data_path + 'kaggle/trainLabels.csv',header=None)\n",
    "print(df_X.shape)\n",
    "print(df_Y.shape)"
   ]
  },
  {
   "cell_type": "code",
   "execution_count": 88,
   "metadata": {},
   "outputs": [],
   "source": [
    "scaler = MinMaxScaler()\n",
    "train_X = scaler.fit_transform(df_X)"
   ]
  },
  {
   "cell_type": "code",
   "execution_count": 90,
   "metadata": {},
   "outputs": [],
   "source": [
    "x_train, x_test, y_train, y_test = train_test_split(train_X, df_Y, test_size=0.2, random_state=3)"
   ]
  },
  {
   "cell_type": "code",
   "execution_count": 91,
   "metadata": {},
   "outputs": [
    {
     "name": "stdout",
     "output_type": "stream",
     "text": [
      "Accuracy:  0.76\n"
     ]
    }
   ],
   "source": [
    "clf=linear_model.LogisticRegression()\n",
    "\n",
    "clf.fit(x_train,y_train)\n",
    "\n",
    "y_pred = clf.predict(x_test)\n",
    "\n",
    "acc = metrics.accuracy_score(y_test, y_pred)\n",
    "print(\"Accuracy: \", acc)"
   ]
  },
  {
   "cell_type": "code",
   "execution_count": null,
   "metadata": {},
   "outputs": [],
   "source": []
  },
  {
   "cell_type": "code",
   "execution_count": 92,
   "metadata": {},
   "outputs": [
    {
     "name": "stdout",
     "output_type": "stream",
     "text": [
      "Accuracy:  0.7\n"
     ]
    }
   ],
   "source": [
    "clf=DecisionTreeClassifier()\n",
    "\n",
    "clf.fit(x_train,y_train)\n",
    "\n",
    "y_pred = clf.predict(x_test)\n",
    "\n",
    "acc = metrics.accuracy_score(y_test, y_pred)\n",
    "print(\"Accuracy: \", acc)"
   ]
  },
  {
   "cell_type": "code",
   "execution_count": null,
   "metadata": {},
   "outputs": [],
   "source": []
  },
  {
   "cell_type": "code",
   "execution_count": 93,
   "metadata": {},
   "outputs": [
    {
     "name": "stdout",
     "output_type": "stream",
     "text": [
      "Accuracy:  0.765\n"
     ]
    }
   ],
   "source": [
    "clf=RandomForestClassifier(n_estimators=100, max_depth=4)\n",
    "\n",
    "clf.fit(x_train,y_train)\n",
    "\n",
    "y_pred = clf.predict(x_test)\n",
    "\n",
    "acc = metrics.accuracy_score(y_test, y_pred)\n",
    "print(\"Accuracy: \", acc)"
   ]
  },
  {
   "cell_type": "code",
   "execution_count": null,
   "metadata": {},
   "outputs": [],
   "source": []
  },
  {
   "cell_type": "code",
   "execution_count": 94,
   "metadata": {},
   "outputs": [
    {
     "name": "stdout",
     "output_type": "stream",
     "text": [
      "Accuracy:  0.83\n"
     ]
    }
   ],
   "source": [
    "clf=GradientBoostingClassifier()\n",
    "\n",
    "clf.fit(x_train,y_train)\n",
    "\n",
    "y_pred = clf.predict(x_test)\n",
    "\n",
    "acc = metrics.accuracy_score(y_test, y_pred)\n",
    "print(\"Accuracy: \", acc)"
   ]
  },
  {
   "cell_type": "code",
   "execution_count": 95,
   "metadata": {},
   "outputs": [
    {
     "name": "stdout",
     "output_type": "stream",
     "text": [
      "Feature importance:  [1.65479498e-04 7.18462760e-03 5.84844251e-03 3.59442403e-03\n",
      " 3.51619257e-02 1.10645168e-03 2.98707526e-02 2.67553774e-02\n",
      " 3.98892309e-05 2.54760084e-03 4.16536003e-04 5.24529474e-03\n",
      " 1.96770469e-01 2.12123367e-03 2.03022433e-01 0.00000000e+00\n",
      " 1.94362463e-03 1.19973773e-03 8.15486244e-02 2.22248457e-03\n",
      " 3.52721786e-03 2.26477289e-03 6.08490051e-03 1.98399190e-02\n",
      " 1.63281269e-03 2.24060477e-03 2.88155733e-03 3.26841976e-04\n",
      " 2.52199636e-02 6.66898060e-02 2.10437672e-03 6.41257841e-04\n",
      " 5.38330382e-02 1.30130358e-03 3.27802235e-02 6.01250172e-04\n",
      " 7.58961906e-02 3.15565478e-03 6.47379995e-03 8.57390996e-02]\n"
     ]
    }
   ],
   "source": [
    "print(\"Feature importance: \", clf.feature_importances_)"
   ]
  },
  {
   "cell_type": "code",
   "execution_count": 96,
   "metadata": {},
   "outputs": [
    {
     "name": "stdout",
     "output_type": "stream",
     "text": [
      "Fitting 5 folds for each of 9 candidates, totalling 45 fits\n"
     ]
    },
    {
     "name": "stderr",
     "output_type": "stream",
     "text": [
      "[Parallel(n_jobs=-1)]: Using backend LokyBackend with 8 concurrent workers.\n",
      "[Parallel(n_jobs=-1)]: Done  45 out of  45 | elapsed:   12.0s finished\n"
     ]
    }
   ],
   "source": [
    "# 設定要訓練的超參數組合\n",
    "n_estimators = [100, 200, 300]\n",
    "max_depth = [1, 3, 5]\n",
    "param_grid = dict(n_estimators=n_estimators, max_depth=max_depth)\n",
    "\n",
    "## 建立搜尋物件，放入模型及參數組合字典 (n_jobs=-1 會使用全部 cpu 平行運算)\n",
    "grid_search = GridSearchCV(clf, param_grid, scoring=\"accuracy\", n_jobs=-1, verbose=1)\n",
    "\n",
    "# 開始搜尋最佳參數\n",
    "grid_result = grid_search.fit(x_train, y_train)\n",
    "\n",
    "# 預設會跑 3-fold cross-validadtion，總共 9 種參數組合，總共要 train 27 次模型"
   ]
  },
  {
   "cell_type": "code",
   "execution_count": 97,
   "metadata": {},
   "outputs": [
    {
     "name": "stdout",
     "output_type": "stream",
     "text": [
      "Best Accuracy: 0.877500 using {'max_depth': 5, 'n_estimators': 300}\n"
     ]
    }
   ],
   "source": [
    "# 印出最佳結果與最佳參數\n",
    "print(\"Best Accuracy: %f using %s\" % (grid_result.best_score_, grid_result.best_params_))"
   ]
  },
  {
   "cell_type": "code",
   "execution_count": 98,
   "metadata": {},
   "outputs": [
    {
     "data": {
      "text/plain": [
       "{'max_depth': 5, 'n_estimators': 300}"
      ]
     },
     "execution_count": 98,
     "metadata": {},
     "output_type": "execute_result"
    }
   ],
   "source": [
    "grid_result.best_params_"
   ]
  },
  {
   "cell_type": "code",
   "execution_count": 99,
   "metadata": {},
   "outputs": [
    {
     "name": "stdout",
     "output_type": "stream",
     "text": [
      "Accuracy:  0.85\n"
     ]
    }
   ],
   "source": [
    "# 使用最佳參數重新建立模型\n",
    "clf_bestparam = GradientBoostingClassifier(max_depth=grid_result.best_params_['max_depth'],\n",
    "                                           n_estimators=grid_result.best_params_['n_estimators'])\n",
    "\n",
    "# 訓練模型\n",
    "clf_bestparam.fit(x_train, y_train)\n",
    "\n",
    "# 預測測試集\n",
    "y_pred = clf_bestparam.predict(x_test)\n",
    "\n",
    "acc = metrics.accuracy_score(y_test, y_pred)\n",
    "print(\"Accuracy: \", acc)"
   ]
  },
  {
   "cell_type": "code",
   "execution_count": 100,
   "metadata": {},
   "outputs": [
    {
     "name": "stdout",
     "output_type": "stream",
     "text": [
      "Feature importance:  [0.00086101 0.00566878 0.00584024 0.00226461 0.05027552 0.00117055\n",
      " 0.04458526 0.03203769 0.00586582 0.00050154 0.0042355  0.00710974\n",
      " 0.18494549 0.00546941 0.16733433 0.0048617  0.00118039 0.00216623\n",
      " 0.06890654 0.00244738 0.00303303 0.00378544 0.02144369 0.02040132\n",
      " 0.00886217 0.00227246 0.00215015 0.00244416 0.02412176 0.06571474\n",
      " 0.00392207 0.00128536 0.06754413 0.00232717 0.03213986 0.00213068\n",
      " 0.06293017 0.00277395 0.0140043  0.05898566]\n"
     ]
    }
   ],
   "source": [
    "print(\"Feature importance: \", clf_bestparam.feature_importances_)"
   ]
  },
  {
   "cell_type": "code",
   "execution_count": 111,
   "metadata": {},
   "outputs": [
    {
     "data": {
      "text/html": [
       "<div>\n",
       "<style scoped>\n",
       "    .dataframe tbody tr th:only-of-type {\n",
       "        vertical-align: middle;\n",
       "    }\n",
       "\n",
       "    .dataframe tbody tr th {\n",
       "        vertical-align: top;\n",
       "    }\n",
       "\n",
       "    .dataframe thead th {\n",
       "        text-align: right;\n",
       "    }\n",
       "</style>\n",
       "<table border=\"1\" class=\"dataframe\">\n",
       "  <thead>\n",
       "    <tr style=\"text-align: right;\">\n",
       "      <th></th>\n",
       "      <th>n</th>\n",
       "      <th>importance</th>\n",
       "    </tr>\n",
       "  </thead>\n",
       "  <tbody>\n",
       "    <tr>\n",
       "      <th>0</th>\n",
       "      <td>12</td>\n",
       "      <td>0.184945</td>\n",
       "    </tr>\n",
       "    <tr>\n",
       "      <th>1</th>\n",
       "      <td>14</td>\n",
       "      <td>0.167334</td>\n",
       "    </tr>\n",
       "    <tr>\n",
       "      <th>2</th>\n",
       "      <td>18</td>\n",
       "      <td>0.068907</td>\n",
       "    </tr>\n",
       "    <tr>\n",
       "      <th>3</th>\n",
       "      <td>32</td>\n",
       "      <td>0.067544</td>\n",
       "    </tr>\n",
       "    <tr>\n",
       "      <th>4</th>\n",
       "      <td>29</td>\n",
       "      <td>0.065715</td>\n",
       "    </tr>\n",
       "    <tr>\n",
       "      <th>5</th>\n",
       "      <td>36</td>\n",
       "      <td>0.062930</td>\n",
       "    </tr>\n",
       "    <tr>\n",
       "      <th>6</th>\n",
       "      <td>39</td>\n",
       "      <td>0.058986</td>\n",
       "    </tr>\n",
       "    <tr>\n",
       "      <th>7</th>\n",
       "      <td>4</td>\n",
       "      <td>0.050276</td>\n",
       "    </tr>\n",
       "    <tr>\n",
       "      <th>8</th>\n",
       "      <td>6</td>\n",
       "      <td>0.044585</td>\n",
       "    </tr>\n",
       "    <tr>\n",
       "      <th>9</th>\n",
       "      <td>34</td>\n",
       "      <td>0.032140</td>\n",
       "    </tr>\n",
       "    <tr>\n",
       "      <th>10</th>\n",
       "      <td>7</td>\n",
       "      <td>0.032038</td>\n",
       "    </tr>\n",
       "    <tr>\n",
       "      <th>11</th>\n",
       "      <td>28</td>\n",
       "      <td>0.024122</td>\n",
       "    </tr>\n",
       "    <tr>\n",
       "      <th>12</th>\n",
       "      <td>22</td>\n",
       "      <td>0.021444</td>\n",
       "    </tr>\n",
       "    <tr>\n",
       "      <th>13</th>\n",
       "      <td>23</td>\n",
       "      <td>0.020401</td>\n",
       "    </tr>\n",
       "    <tr>\n",
       "      <th>14</th>\n",
       "      <td>38</td>\n",
       "      <td>0.014004</td>\n",
       "    </tr>\n",
       "    <tr>\n",
       "      <th>15</th>\n",
       "      <td>24</td>\n",
       "      <td>0.008862</td>\n",
       "    </tr>\n",
       "    <tr>\n",
       "      <th>16</th>\n",
       "      <td>11</td>\n",
       "      <td>0.007110</td>\n",
       "    </tr>\n",
       "    <tr>\n",
       "      <th>17</th>\n",
       "      <td>8</td>\n",
       "      <td>0.005866</td>\n",
       "    </tr>\n",
       "    <tr>\n",
       "      <th>18</th>\n",
       "      <td>2</td>\n",
       "      <td>0.005840</td>\n",
       "    </tr>\n",
       "    <tr>\n",
       "      <th>19</th>\n",
       "      <td>1</td>\n",
       "      <td>0.005669</td>\n",
       "    </tr>\n",
       "    <tr>\n",
       "      <th>20</th>\n",
       "      <td>13</td>\n",
       "      <td>0.005469</td>\n",
       "    </tr>\n",
       "    <tr>\n",
       "      <th>21</th>\n",
       "      <td>15</td>\n",
       "      <td>0.004862</td>\n",
       "    </tr>\n",
       "    <tr>\n",
       "      <th>22</th>\n",
       "      <td>10</td>\n",
       "      <td>0.004236</td>\n",
       "    </tr>\n",
       "    <tr>\n",
       "      <th>23</th>\n",
       "      <td>30</td>\n",
       "      <td>0.003922</td>\n",
       "    </tr>\n",
       "    <tr>\n",
       "      <th>24</th>\n",
       "      <td>21</td>\n",
       "      <td>0.003785</td>\n",
       "    </tr>\n",
       "    <tr>\n",
       "      <th>25</th>\n",
       "      <td>20</td>\n",
       "      <td>0.003033</td>\n",
       "    </tr>\n",
       "    <tr>\n",
       "      <th>26</th>\n",
       "      <td>37</td>\n",
       "      <td>0.002774</td>\n",
       "    </tr>\n",
       "    <tr>\n",
       "      <th>27</th>\n",
       "      <td>19</td>\n",
       "      <td>0.002447</td>\n",
       "    </tr>\n",
       "    <tr>\n",
       "      <th>28</th>\n",
       "      <td>27</td>\n",
       "      <td>0.002444</td>\n",
       "    </tr>\n",
       "    <tr>\n",
       "      <th>29</th>\n",
       "      <td>33</td>\n",
       "      <td>0.002327</td>\n",
       "    </tr>\n",
       "    <tr>\n",
       "      <th>30</th>\n",
       "      <td>25</td>\n",
       "      <td>0.002272</td>\n",
       "    </tr>\n",
       "    <tr>\n",
       "      <th>31</th>\n",
       "      <td>3</td>\n",
       "      <td>0.002265</td>\n",
       "    </tr>\n",
       "    <tr>\n",
       "      <th>32</th>\n",
       "      <td>17</td>\n",
       "      <td>0.002166</td>\n",
       "    </tr>\n",
       "    <tr>\n",
       "      <th>33</th>\n",
       "      <td>26</td>\n",
       "      <td>0.002150</td>\n",
       "    </tr>\n",
       "    <tr>\n",
       "      <th>34</th>\n",
       "      <td>35</td>\n",
       "      <td>0.002131</td>\n",
       "    </tr>\n",
       "    <tr>\n",
       "      <th>35</th>\n",
       "      <td>31</td>\n",
       "      <td>0.001285</td>\n",
       "    </tr>\n",
       "    <tr>\n",
       "      <th>36</th>\n",
       "      <td>16</td>\n",
       "      <td>0.001180</td>\n",
       "    </tr>\n",
       "    <tr>\n",
       "      <th>37</th>\n",
       "      <td>5</td>\n",
       "      <td>0.001171</td>\n",
       "    </tr>\n",
       "    <tr>\n",
       "      <th>38</th>\n",
       "      <td>0</td>\n",
       "      <td>0.000861</td>\n",
       "    </tr>\n",
       "    <tr>\n",
       "      <th>39</th>\n",
       "      <td>9</td>\n",
       "      <td>0.000502</td>\n",
       "    </tr>\n",
       "  </tbody>\n",
       "</table>\n",
       "</div>"
      ],
      "text/plain": [
       "     n  importance\n",
       "0   12    0.184945\n",
       "1   14    0.167334\n",
       "2   18    0.068907\n",
       "3   32    0.067544\n",
       "4   29    0.065715\n",
       "5   36    0.062930\n",
       "6   39    0.058986\n",
       "7    4    0.050276\n",
       "8    6    0.044585\n",
       "9   34    0.032140\n",
       "10   7    0.032038\n",
       "11  28    0.024122\n",
       "12  22    0.021444\n",
       "13  23    0.020401\n",
       "14  38    0.014004\n",
       "15  24    0.008862\n",
       "16  11    0.007110\n",
       "17   8    0.005866\n",
       "18   2    0.005840\n",
       "19   1    0.005669\n",
       "20  13    0.005469\n",
       "21  15    0.004862\n",
       "22  10    0.004236\n",
       "23  30    0.003922\n",
       "24  21    0.003785\n",
       "25  20    0.003033\n",
       "26  37    0.002774\n",
       "27  19    0.002447\n",
       "28  27    0.002444\n",
       "29  33    0.002327\n",
       "30  25    0.002272\n",
       "31   3    0.002265\n",
       "32  17    0.002166\n",
       "33  26    0.002150\n",
       "34  35    0.002131\n",
       "35  31    0.001285\n",
       "36  16    0.001180\n",
       "37   5    0.001171\n",
       "38   0    0.000861\n",
       "39   9    0.000502"
      ]
     },
     "execution_count": 111,
     "metadata": {},
     "output_type": "execute_result"
    }
   ],
   "source": [
    "feature_select=pd.DataFrame({'n':range(40),'importance':clf_bestparam.feature_importances_})\n",
    "feature_select.sort_values(by='importance',ascending=False).reset_index(drop=True)"
   ]
  },
  {
   "cell_type": "code",
   "execution_count": 102,
   "metadata": {},
   "outputs": [
    {
     "data": {
      "text/plain": [
       "[12, 14, 18, 32, 29, 36, 39, 4, 6, 34, 7, 28, 22, 23, 38]"
      ]
     },
     "execution_count": 102,
     "metadata": {},
     "output_type": "execute_result"
    }
   ],
   "source": [
    "list(feature_select.sort_values(by='importance',ascending=False).head(15).n)"
   ]
  },
  {
   "cell_type": "code",
   "execution_count": 116,
   "metadata": {},
   "outputs": [],
   "source": [
    "x_train=pd.DataFrame(x_train)\n",
    "x_test=pd.DataFrame(x_test)"
   ]
  },
  {
   "cell_type": "code",
   "execution_count": 117,
   "metadata": {},
   "outputs": [
    {
     "data": {
      "text/html": [
       "<div>\n",
       "<style scoped>\n",
       "    .dataframe tbody tr th:only-of-type {\n",
       "        vertical-align: middle;\n",
       "    }\n",
       "\n",
       "    .dataframe tbody tr th {\n",
       "        vertical-align: top;\n",
       "    }\n",
       "\n",
       "    .dataframe thead th {\n",
       "        text-align: right;\n",
       "    }\n",
       "</style>\n",
       "<table border=\"1\" class=\"dataframe\">\n",
       "  <thead>\n",
       "    <tr style=\"text-align: right;\">\n",
       "      <th></th>\n",
       "      <th>12</th>\n",
       "      <th>14</th>\n",
       "      <th>18</th>\n",
       "      <th>32</th>\n",
       "      <th>29</th>\n",
       "      <th>36</th>\n",
       "      <th>39</th>\n",
       "      <th>4</th>\n",
       "      <th>6</th>\n",
       "      <th>34</th>\n",
       "      <th>7</th>\n",
       "      <th>28</th>\n",
       "      <th>22</th>\n",
       "      <th>23</th>\n",
       "      <th>38</th>\n",
       "    </tr>\n",
       "  </thead>\n",
       "  <tbody>\n",
       "    <tr>\n",
       "      <th>0</th>\n",
       "      <td>0.525029</td>\n",
       "      <td>0.416239</td>\n",
       "      <td>0.438073</td>\n",
       "      <td>0.597192</td>\n",
       "      <td>0.461479</td>\n",
       "      <td>0.611539</td>\n",
       "      <td>0.367315</td>\n",
       "      <td>0.449262</td>\n",
       "      <td>0.501852</td>\n",
       "      <td>0.552116</td>\n",
       "      <td>0.651291</td>\n",
       "      <td>0.398383</td>\n",
       "      <td>0.207878</td>\n",
       "      <td>0.439660</td>\n",
       "      <td>0.579843</td>\n",
       "    </tr>\n",
       "    <tr>\n",
       "      <th>1</th>\n",
       "      <td>0.622779</td>\n",
       "      <td>0.637566</td>\n",
       "      <td>0.778018</td>\n",
       "      <td>0.402877</td>\n",
       "      <td>0.493787</td>\n",
       "      <td>0.453617</td>\n",
       "      <td>0.772609</td>\n",
       "      <td>0.402819</td>\n",
       "      <td>0.732003</td>\n",
       "      <td>0.671263</td>\n",
       "      <td>0.727535</td>\n",
       "      <td>0.731926</td>\n",
       "      <td>0.521032</td>\n",
       "      <td>0.467842</td>\n",
       "      <td>0.394208</td>\n",
       "    </tr>\n",
       "    <tr>\n",
       "      <th>2</th>\n",
       "      <td>0.467955</td>\n",
       "      <td>0.275274</td>\n",
       "      <td>0.716980</td>\n",
       "      <td>0.667514</td>\n",
       "      <td>0.293919</td>\n",
       "      <td>0.680291</td>\n",
       "      <td>0.367072</td>\n",
       "      <td>0.567225</td>\n",
       "      <td>0.562425</td>\n",
       "      <td>0.340789</td>\n",
       "      <td>0.597609</td>\n",
       "      <td>0.429346</td>\n",
       "      <td>0.288164</td>\n",
       "      <td>0.558187</td>\n",
       "      <td>0.628669</td>\n",
       "    </tr>\n",
       "    <tr>\n",
       "      <th>3</th>\n",
       "      <td>0.468074</td>\n",
       "      <td>0.713115</td>\n",
       "      <td>0.530756</td>\n",
       "      <td>0.192826</td>\n",
       "      <td>0.383598</td>\n",
       "      <td>0.281435</td>\n",
       "      <td>0.271813</td>\n",
       "      <td>0.834908</td>\n",
       "      <td>0.507783</td>\n",
       "      <td>0.591903</td>\n",
       "      <td>0.233444</td>\n",
       "      <td>0.345726</td>\n",
       "      <td>0.855855</td>\n",
       "      <td>0.980768</td>\n",
       "      <td>0.366234</td>\n",
       "    </tr>\n",
       "    <tr>\n",
       "      <th>4</th>\n",
       "      <td>0.634029</td>\n",
       "      <td>0.731452</td>\n",
       "      <td>0.700371</td>\n",
       "      <td>0.454994</td>\n",
       "      <td>0.542052</td>\n",
       "      <td>0.507236</td>\n",
       "      <td>0.607679</td>\n",
       "      <td>0.422131</td>\n",
       "      <td>0.642625</td>\n",
       "      <td>0.646505</td>\n",
       "      <td>0.380671</td>\n",
       "      <td>0.702546</td>\n",
       "      <td>0.596023</td>\n",
       "      <td>0.651870</td>\n",
       "      <td>0.309606</td>\n",
       "    </tr>\n",
       "    <tr>\n",
       "      <th>...</th>\n",
       "      <td>...</td>\n",
       "      <td>...</td>\n",
       "      <td>...</td>\n",
       "      <td>...</td>\n",
       "      <td>...</td>\n",
       "      <td>...</td>\n",
       "      <td>...</td>\n",
       "      <td>...</td>\n",
       "      <td>...</td>\n",
       "      <td>...</td>\n",
       "      <td>...</td>\n",
       "      <td>...</td>\n",
       "      <td>...</td>\n",
       "      <td>...</td>\n",
       "      <td>...</td>\n",
       "    </tr>\n",
       "    <tr>\n",
       "      <th>795</th>\n",
       "      <td>0.287402</td>\n",
       "      <td>0.302205</td>\n",
       "      <td>0.375960</td>\n",
       "      <td>0.676879</td>\n",
       "      <td>0.484784</td>\n",
       "      <td>0.289470</td>\n",
       "      <td>0.707572</td>\n",
       "      <td>0.261336</td>\n",
       "      <td>0.607160</td>\n",
       "      <td>0.402472</td>\n",
       "      <td>0.486995</td>\n",
       "      <td>0.478537</td>\n",
       "      <td>0.454404</td>\n",
       "      <td>0.219819</td>\n",
       "      <td>0.492605</td>\n",
       "    </tr>\n",
       "    <tr>\n",
       "      <th>796</th>\n",
       "      <td>0.499497</td>\n",
       "      <td>0.347351</td>\n",
       "      <td>0.675696</td>\n",
       "      <td>0.241406</td>\n",
       "      <td>0.598253</td>\n",
       "      <td>0.705361</td>\n",
       "      <td>0.698995</td>\n",
       "      <td>0.333039</td>\n",
       "      <td>0.793403</td>\n",
       "      <td>0.547409</td>\n",
       "      <td>0.557903</td>\n",
       "      <td>0.607365</td>\n",
       "      <td>0.208320</td>\n",
       "      <td>0.488037</td>\n",
       "      <td>0.448770</td>\n",
       "    </tr>\n",
       "    <tr>\n",
       "      <th>797</th>\n",
       "      <td>0.586226</td>\n",
       "      <td>0.684861</td>\n",
       "      <td>0.610791</td>\n",
       "      <td>0.372219</td>\n",
       "      <td>0.463622</td>\n",
       "      <td>0.548865</td>\n",
       "      <td>0.682585</td>\n",
       "      <td>0.479372</td>\n",
       "      <td>0.614495</td>\n",
       "      <td>0.623503</td>\n",
       "      <td>0.600521</td>\n",
       "      <td>0.555866</td>\n",
       "      <td>0.380741</td>\n",
       "      <td>0.489161</td>\n",
       "      <td>0.447643</td>\n",
       "    </tr>\n",
       "    <tr>\n",
       "      <th>798</th>\n",
       "      <td>0.687049</td>\n",
       "      <td>0.579489</td>\n",
       "      <td>0.619293</td>\n",
       "      <td>0.440572</td>\n",
       "      <td>0.401906</td>\n",
       "      <td>0.482336</td>\n",
       "      <td>0.595779</td>\n",
       "      <td>0.386592</td>\n",
       "      <td>0.689207</td>\n",
       "      <td>0.843836</td>\n",
       "      <td>0.555752</td>\n",
       "      <td>0.755211</td>\n",
       "      <td>0.539558</td>\n",
       "      <td>0.579198</td>\n",
       "      <td>0.520670</td>\n",
       "    </tr>\n",
       "    <tr>\n",
       "      <th>799</th>\n",
       "      <td>0.837587</td>\n",
       "      <td>0.718620</td>\n",
       "      <td>0.745597</td>\n",
       "      <td>0.576534</td>\n",
       "      <td>0.703350</td>\n",
       "      <td>0.538137</td>\n",
       "      <td>0.520796</td>\n",
       "      <td>0.341568</td>\n",
       "      <td>0.490306</td>\n",
       "      <td>0.462113</td>\n",
       "      <td>0.640363</td>\n",
       "      <td>0.886706</td>\n",
       "      <td>0.334976</td>\n",
       "      <td>0.492097</td>\n",
       "      <td>0.457772</td>\n",
       "    </tr>\n",
       "  </tbody>\n",
       "</table>\n",
       "<p>800 rows × 15 columns</p>\n",
       "</div>"
      ],
      "text/plain": [
       "           12        14        18        32        29        36        39  \\\n",
       "0    0.525029  0.416239  0.438073  0.597192  0.461479  0.611539  0.367315   \n",
       "1    0.622779  0.637566  0.778018  0.402877  0.493787  0.453617  0.772609   \n",
       "2    0.467955  0.275274  0.716980  0.667514  0.293919  0.680291  0.367072   \n",
       "3    0.468074  0.713115  0.530756  0.192826  0.383598  0.281435  0.271813   \n",
       "4    0.634029  0.731452  0.700371  0.454994  0.542052  0.507236  0.607679   \n",
       "..        ...       ...       ...       ...       ...       ...       ...   \n",
       "795  0.287402  0.302205  0.375960  0.676879  0.484784  0.289470  0.707572   \n",
       "796  0.499497  0.347351  0.675696  0.241406  0.598253  0.705361  0.698995   \n",
       "797  0.586226  0.684861  0.610791  0.372219  0.463622  0.548865  0.682585   \n",
       "798  0.687049  0.579489  0.619293  0.440572  0.401906  0.482336  0.595779   \n",
       "799  0.837587  0.718620  0.745597  0.576534  0.703350  0.538137  0.520796   \n",
       "\n",
       "           4         6         34        7         28        22        23  \\\n",
       "0    0.449262  0.501852  0.552116  0.651291  0.398383  0.207878  0.439660   \n",
       "1    0.402819  0.732003  0.671263  0.727535  0.731926  0.521032  0.467842   \n",
       "2    0.567225  0.562425  0.340789  0.597609  0.429346  0.288164  0.558187   \n",
       "3    0.834908  0.507783  0.591903  0.233444  0.345726  0.855855  0.980768   \n",
       "4    0.422131  0.642625  0.646505  0.380671  0.702546  0.596023  0.651870   \n",
       "..        ...       ...       ...       ...       ...       ...       ...   \n",
       "795  0.261336  0.607160  0.402472  0.486995  0.478537  0.454404  0.219819   \n",
       "796  0.333039  0.793403  0.547409  0.557903  0.607365  0.208320  0.488037   \n",
       "797  0.479372  0.614495  0.623503  0.600521  0.555866  0.380741  0.489161   \n",
       "798  0.386592  0.689207  0.843836  0.555752  0.755211  0.539558  0.579198   \n",
       "799  0.341568  0.490306  0.462113  0.640363  0.886706  0.334976  0.492097   \n",
       "\n",
       "           38  \n",
       "0    0.579843  \n",
       "1    0.394208  \n",
       "2    0.628669  \n",
       "3    0.366234  \n",
       "4    0.309606  \n",
       "..        ...  \n",
       "795  0.492605  \n",
       "796  0.448770  \n",
       "797  0.447643  \n",
       "798  0.520670  \n",
       "799  0.457772  \n",
       "\n",
       "[800 rows x 15 columns]"
      ]
     },
     "execution_count": 117,
     "metadata": {},
     "output_type": "execute_result"
    }
   ],
   "source": [
    "x_train.loc[:,list(feature_select.sort_values(by='importance',ascending=False).head(15).n)]"
   ]
  },
  {
   "cell_type": "code",
   "execution_count": null,
   "metadata": {},
   "outputs": [],
   "source": []
  },
  {
   "cell_type": "code",
   "execution_count": 118,
   "metadata": {},
   "outputs": [
    {
     "name": "stdout",
     "output_type": "stream",
     "text": [
      "Accuracy:  0.885\n"
     ]
    }
   ],
   "source": [
    "# 使用最佳參數重新建立模型\n",
    "clf_bestparam = GradientBoostingClassifier(max_depth=grid_result.best_params_['max_depth'],\n",
    "                                           n_estimators=grid_result.best_params_['n_estimators'])\n",
    "\n",
    "# 訓練模型\n",
    "clf_bestparam.fit(x_train.loc[:,list(feature_select.sort_values(by='importance',ascending=False).head(15).n)], y_train)\n",
    "\n",
    "# 預測測試集\n",
    "y_pred = clf_bestparam.predict(x_test.loc[:,list(feature_select.sort_values(by='importance',ascending=False).head(15).n)])\n",
    "\n",
    "acc = metrics.accuracy_score(y_test, y_pred)\n",
    "print(\"Accuracy: \", acc)"
   ]
  },
  {
   "cell_type": "code",
   "execution_count": null,
   "metadata": {},
   "outputs": [],
   "source": []
  },
  {
   "cell_type": "code",
   "execution_count": 119,
   "metadata": {},
   "outputs": [
    {
     "name": "stdout",
     "output_type": "stream",
     "text": [
      "(9000, 40)\n"
     ]
    }
   ],
   "source": [
    "df_test= pd.read_csv(data_path + 'kaggle/test.csv',header=None)\n",
    "print(df_test.shape)"
   ]
  },
  {
   "cell_type": "code",
   "execution_count": null,
   "metadata": {},
   "outputs": [],
   "source": []
  },
  {
   "cell_type": "code",
   "execution_count": 120,
   "metadata": {},
   "outputs": [],
   "source": [
    "scaler = MinMaxScaler()\n",
    "df_test = scaler.fit_transform(df_test)\n",
    "df_test=pd.DataFrame(df_test)"
   ]
  },
  {
   "cell_type": "code",
   "execution_count": 121,
   "metadata": {},
   "outputs": [],
   "source": [
    "y_pred = clf_bestparam.predict(df_test.loc[:,list(feature_select.sort_values(by='importance',ascending=False).head(15).n)])"
   ]
  },
  {
   "cell_type": "code",
   "execution_count": 122,
   "metadata": {},
   "outputs": [
    {
     "name": "stdout",
     "output_type": "stream",
     "text": [
      "(9000,)\n"
     ]
    }
   ],
   "source": [
    "y_pred\n",
    "print(y_pred.shape)"
   ]
  },
  {
   "cell_type": "code",
   "execution_count": 123,
   "metadata": {},
   "outputs": [],
   "source": [
    "final=pd.DataFrame({'Id':range(1,9001),'Solution':y_pred})"
   ]
  },
  {
   "cell_type": "code",
   "execution_count": 124,
   "metadata": {},
   "outputs": [
    {
     "data": {
      "text/html": [
       "<div>\n",
       "<style scoped>\n",
       "    .dataframe tbody tr th:only-of-type {\n",
       "        vertical-align: middle;\n",
       "    }\n",
       "\n",
       "    .dataframe tbody tr th {\n",
       "        vertical-align: top;\n",
       "    }\n",
       "\n",
       "    .dataframe thead th {\n",
       "        text-align: right;\n",
       "    }\n",
       "</style>\n",
       "<table border=\"1\" class=\"dataframe\">\n",
       "  <thead>\n",
       "    <tr style=\"text-align: right;\">\n",
       "      <th></th>\n",
       "      <th>Id</th>\n",
       "      <th>Solution</th>\n",
       "    </tr>\n",
       "  </thead>\n",
       "  <tbody>\n",
       "    <tr>\n",
       "      <th>0</th>\n",
       "      <td>1</td>\n",
       "      <td>1</td>\n",
       "    </tr>\n",
       "    <tr>\n",
       "      <th>1</th>\n",
       "      <td>2</td>\n",
       "      <td>0</td>\n",
       "    </tr>\n",
       "    <tr>\n",
       "      <th>2</th>\n",
       "      <td>3</td>\n",
       "      <td>0</td>\n",
       "    </tr>\n",
       "    <tr>\n",
       "      <th>3</th>\n",
       "      <td>4</td>\n",
       "      <td>0</td>\n",
       "    </tr>\n",
       "    <tr>\n",
       "      <th>4</th>\n",
       "      <td>5</td>\n",
       "      <td>0</td>\n",
       "    </tr>\n",
       "    <tr>\n",
       "      <th>...</th>\n",
       "      <td>...</td>\n",
       "      <td>...</td>\n",
       "    </tr>\n",
       "    <tr>\n",
       "      <th>8995</th>\n",
       "      <td>8996</td>\n",
       "      <td>1</td>\n",
       "    </tr>\n",
       "    <tr>\n",
       "      <th>8996</th>\n",
       "      <td>8997</td>\n",
       "      <td>1</td>\n",
       "    </tr>\n",
       "    <tr>\n",
       "      <th>8997</th>\n",
       "      <td>8998</td>\n",
       "      <td>1</td>\n",
       "    </tr>\n",
       "    <tr>\n",
       "      <th>8998</th>\n",
       "      <td>8999</td>\n",
       "      <td>0</td>\n",
       "    </tr>\n",
       "    <tr>\n",
       "      <th>8999</th>\n",
       "      <td>9000</td>\n",
       "      <td>1</td>\n",
       "    </tr>\n",
       "  </tbody>\n",
       "</table>\n",
       "<p>9000 rows × 2 columns</p>\n",
       "</div>"
      ],
      "text/plain": [
       "        Id  Solution\n",
       "0        1         1\n",
       "1        2         0\n",
       "2        3         0\n",
       "3        4         0\n",
       "4        5         0\n",
       "...    ...       ...\n",
       "8995  8996         1\n",
       "8996  8997         1\n",
       "8997  8998         1\n",
       "8998  8999         0\n",
       "8999  9000         1\n",
       "\n",
       "[9000 rows x 2 columns]"
      ]
     },
     "execution_count": 124,
     "metadata": {},
     "output_type": "execute_result"
    }
   ],
   "source": [
    "final"
   ]
  },
  {
   "cell_type": "code",
   "execution_count": null,
   "metadata": {},
   "outputs": [],
   "source": []
  }
 ],
 "metadata": {
  "kernelspec": {
   "display_name": "Python 3",
   "language": "python",
   "name": "python3"
  },
  "language_info": {
   "codemirror_mode": {
    "name": "ipython",
    "version": 3
   },
   "file_extension": ".py",
   "mimetype": "text/x-python",
   "name": "python",
   "nbconvert_exporter": "python",
   "pygments_lexer": "ipython3",
   "version": "3.7.6"
  }
 },
 "nbformat": 4,
 "nbformat_minor": 4
}
