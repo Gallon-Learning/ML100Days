{
 "cells": [
  {
   "cell_type": "markdown",
   "metadata": {},
   "source": [
    "## Work\n",
    "1. 試比較 save_best_only 與否的差異\n",
    "2. 請僅存入將 save_weights_only 設定為 True, 並嘗試 reset ipynb 並將模型與權重重新建回並預測 x_test"
   ]
  },
  {
   "cell_type": "code",
   "execution_count": 2,
   "metadata": {},
   "outputs": [],
   "source": [
    "import os\n",
    "import keras\n",
    "\n",
    "# Disable GPU\n",
    "os.environ[\"CUDA_VISIBLE_DEVICES\"] = \"\""
   ]
  },
  {
   "cell_type": "code",
   "execution_count": 3,
   "metadata": {},
   "outputs": [],
   "source": [
    "train, test = keras.datasets.cifar10.load_data()"
   ]
  },
  {
   "cell_type": "code",
   "execution_count": 4,
   "metadata": {},
   "outputs": [],
   "source": [
    "## 資料前處理\n",
    "def preproc_x(x, flatten=True):\n",
    "    x = x / 255.\n",
    "    if flatten:\n",
    "        x = x.reshape((len(x), -1))\n",
    "    return x\n",
    "\n",
    "def preproc_y(y, num_classes=10):\n",
    "    if y.shape[-1] == 1:\n",
    "        y = keras.utils.to_categorical(y, num_classes)\n",
    "    return y    "
   ]
  },
  {
   "cell_type": "code",
   "execution_count": 5,
   "metadata": {},
   "outputs": [],
   "source": [
    "x_train, y_train = train\n",
    "x_test, y_test = test\n",
    "\n",
    "# Preproc the inputs\n",
    "x_train = preproc_x(x_train)\n",
    "x_test = preproc_x(x_test)\n",
    "\n",
    "# Preprc the outputs\n",
    "y_train = preproc_y(y_train)\n",
    "y_test = preproc_y(y_test)"
   ]
  },
  {
   "cell_type": "code",
   "execution_count": 6,
   "metadata": {},
   "outputs": [],
   "source": [
    "from keras.layers import BatchNormalization\n",
    "\n",
    "\"\"\"\n",
    "建立神經網路，並加入 BN layer\n",
    "\"\"\"\n",
    "def build_mlp(input_shape, output_units=10, num_neurons=[512, 256, 128]):\n",
    "    input_layer = keras.layers.Input(input_shape)\n",
    "    \n",
    "    for i, n_units in enumerate(num_neurons):\n",
    "        if i == 0:\n",
    "            x = keras.layers.Dense(units=n_units, \n",
    "                                   activation=\"relu\", \n",
    "                                   name=\"hidden_layer\"+str(i+1))(input_layer)\n",
    "            x = BatchNormalization()(x)\n",
    "        else:\n",
    "            x = keras.layers.Dense(units=n_units, \n",
    "                                   activation=\"relu\", \n",
    "                                   name=\"hidden_layer\"+str(i+1))(x)\n",
    "            x = BatchNormalization()(x)\n",
    "    \n",
    "    out = keras.layers.Dense(units=output_units, activation=\"softmax\", name=\"output\")(x)\n",
    "    \n",
    "    model = keras.models.Model(inputs=[input_layer], outputs=[out])\n",
    "    return model"
   ]
  },
  {
   "cell_type": "code",
   "execution_count": 7,
   "metadata": {},
   "outputs": [],
   "source": [
    "\"\"\"Code Here\n",
    "設定超參數\n",
    "\"\"\"\n",
    "LEARNING_RATE = 1e-3\n",
    "EPOCHS = 50\n",
    "BATCH_SIZE = 1024\n",
    "MOMENTUM = 0.95"
   ]
  },
  {
   "cell_type": "code",
   "execution_count": 16,
   "metadata": {},
   "outputs": [
    {
     "name": "stdout",
     "output_type": "stream",
     "text": [
      "Model: \"model_3\"\n",
      "_________________________________________________________________\n",
      "Layer (type)                 Output Shape              Param #   \n",
      "=================================================================\n",
      "input_3 (InputLayer)         (None, 3072)              0         \n",
      "_________________________________________________________________\n",
      "hidden_layer1 (Dense)        (None, 512)               1573376   \n",
      "_________________________________________________________________\n",
      "batch_normalization_7 (Batch (None, 512)               2048      \n",
      "_________________________________________________________________\n",
      "hidden_layer2 (Dense)        (None, 256)               131328    \n",
      "_________________________________________________________________\n",
      "batch_normalization_8 (Batch (None, 256)               1024      \n",
      "_________________________________________________________________\n",
      "hidden_layer3 (Dense)        (None, 128)               32896     \n",
      "_________________________________________________________________\n",
      "batch_normalization_9 (Batch (None, 128)               512       \n",
      "_________________________________________________________________\n",
      "output (Dense)               (None, 10)                1290      \n",
      "=================================================================\n",
      "Total params: 1,742,474\n",
      "Trainable params: 1,740,682\n",
      "Non-trainable params: 1,792\n",
      "_________________________________________________________________\n",
      "Train on 50000 samples, validate on 10000 samples\n",
      "Epoch 1/50\n",
      "50000/50000 [==============================] - 5s 96us/step - loss: 2.2245 - accuracy: 0.2722 - val_loss: 2.1349 - val_accuracy: 0.2036\n",
      "Epoch 2/50\n",
      "50000/50000 [==============================] - 4s 81us/step - loss: 1.7311 - accuracy: 0.3975 - val_loss: 1.9636 - val_accuracy: 0.3016\n",
      "Epoch 3/50\n",
      "50000/50000 [==============================] - 4s 81us/step - loss: 1.6143 - accuracy: 0.4373 - val_loss: 1.8187 - val_accuracy: 0.3780\n",
      "Epoch 4/50\n",
      "50000/50000 [==============================] - 5s 92us/step - loss: 1.5442 - accuracy: 0.4609 - val_loss: 1.7061 - val_accuracy: 0.4124\n",
      "Epoch 5/50\n",
      "50000/50000 [==============================] - 5s 101us/step - loss: 1.4915 - accuracy: 0.4805 - val_loss: 1.6362 - val_accuracy: 0.4365\n",
      "Epoch 6/50\n",
      "50000/50000 [==============================] - 5s 101us/step - loss: 1.4470 - accuracy: 0.4955 - val_loss: 1.5832 - val_accuracy: 0.4496\n",
      "Epoch 7/50\n",
      "50000/50000 [==============================] - 5s 103us/step - loss: 1.4094 - accuracy: 0.5092 - val_loss: 1.5596 - val_accuracy: 0.4505\n",
      "Epoch 8/50\n",
      "50000/50000 [==============================] - 5s 101us/step - loss: 1.3755 - accuracy: 0.5206 - val_loss: 1.5186 - val_accuracy: 0.4674\n",
      "Epoch 9/50\n",
      "50000/50000 [==============================] - 5s 101us/step - loss: 1.3421 - accuracy: 0.5318 - val_loss: 1.4979 - val_accuracy: 0.4744\n",
      "Epoch 10/50\n",
      "50000/50000 [==============================] - 5s 102us/step - loss: 1.3128 - accuracy: 0.5442 - val_loss: 1.4948 - val_accuracy: 0.4702\n",
      "Epoch 11/50\n",
      "50000/50000 [==============================] - 5s 100us/step - loss: 1.2838 - accuracy: 0.5546 - val_loss: 1.4728 - val_accuracy: 0.4827\n",
      "Epoch 12/50\n",
      "50000/50000 [==============================] - 5s 103us/step - loss: 1.2584 - accuracy: 0.5636 - val_loss: 1.4642 - val_accuracy: 0.4833\n",
      "Epoch 13/50\n",
      "50000/50000 [==============================] - 6s 111us/step - loss: 1.2324 - accuracy: 0.5737 - val_loss: 1.4670 - val_accuracy: 0.4848\n",
      "Epoch 14/50\n",
      "50000/50000 [==============================] - 5s 104us/step - loss: 1.2094 - accuracy: 0.5805 - val_loss: 1.4550 - val_accuracy: 0.4835\n",
      "Epoch 15/50\n",
      "50000/50000 [==============================] - 5s 103us/step - loss: 1.1858 - accuracy: 0.5894 - val_loss: 1.4518 - val_accuracy: 0.4864\n",
      "Epoch 16/50\n",
      "50000/50000 [==============================] - 5s 110us/step - loss: 1.1637 - accuracy: 0.5983 - val_loss: 1.4469 - val_accuracy: 0.4911\n",
      "Epoch 17/50\n",
      "50000/50000 [==============================] - 5s 104us/step - loss: 1.1389 - accuracy: 0.6080 - val_loss: 1.4525 - val_accuracy: 0.4897\n",
      "Epoch 18/50\n",
      "50000/50000 [==============================] - 5s 103us/step - loss: 1.1164 - accuracy: 0.6150 - val_loss: 1.4467 - val_accuracy: 0.4966\n",
      "Epoch 19/50\n",
      "50000/50000 [==============================] - 5s 106us/step - loss: 1.0950 - accuracy: 0.6240 - val_loss: 1.4370 - val_accuracy: 0.4923\n",
      "Epoch 20/50\n",
      "50000/50000 [==============================] - 5s 102us/step - loss: 1.0749 - accuracy: 0.6321 - val_loss: 1.4379 - val_accuracy: 0.4918\n",
      "Epoch 21/50\n",
      "50000/50000 [==============================] - 5s 103us/step - loss: 1.0536 - accuracy: 0.6394 - val_loss: 1.4417 - val_accuracy: 0.4990\n",
      "Epoch 22/50\n",
      "50000/50000 [==============================] - 5s 105us/step - loss: 1.0324 - accuracy: 0.6473 - val_loss: 1.4494 - val_accuracy: 0.4960\n",
      "Epoch 23/50\n",
      "50000/50000 [==============================] - 5s 103us/step - loss: 1.0143 - accuracy: 0.6527 - val_loss: 1.4397 - val_accuracy: 0.4964\n",
      "Epoch 24/50\n",
      "50000/50000 [==============================] - 5s 104us/step - loss: 0.9927 - accuracy: 0.6641 - val_loss: 1.4421 - val_accuracy: 0.4914\n",
      "Epoch 25/50\n",
      "50000/50000 [==============================] - 5s 105us/step - loss: 0.9703 - accuracy: 0.6704 - val_loss: 1.4469 - val_accuracy: 0.4951\n",
      "Epoch 26/50\n",
      "50000/50000 [==============================] - 5s 103us/step - loss: 0.9534 - accuracy: 0.6778 - val_loss: 1.4566 - val_accuracy: 0.4970\n",
      "Epoch 27/50\n",
      "50000/50000 [==============================] - 5s 105us/step - loss: 0.9327 - accuracy: 0.6845 - val_loss: 1.4578 - val_accuracy: 0.4956\n",
      "Epoch 28/50\n",
      "50000/50000 [==============================] - 5s 108us/step - loss: 0.9131 - accuracy: 0.6932 - val_loss: 1.4614 - val_accuracy: 0.5003\n",
      "Epoch 29/50\n",
      "50000/50000 [==============================] - 5s 103us/step - loss: 0.8906 - accuracy: 0.7024 - val_loss: 1.4613 - val_accuracy: 0.4948\n",
      "Epoch 30/50\n",
      "50000/50000 [==============================] - 5s 101us/step - loss: 0.8733 - accuracy: 0.7084 - val_loss: 1.4599 - val_accuracy: 0.4944\n",
      "Epoch 31/50\n",
      "50000/50000 [==============================] - 5s 101us/step - loss: 0.8555 - accuracy: 0.7168 - val_loss: 1.4600 - val_accuracy: 0.5026\n",
      "Epoch 32/50\n",
      "50000/50000 [==============================] - 5s 101us/step - loss: 0.8354 - accuracy: 0.7247 - val_loss: 1.4718 - val_accuracy: 0.4983\n",
      "Epoch 33/50\n",
      "50000/50000 [==============================] - 5s 104us/step - loss: 0.8150 - accuracy: 0.7323 - val_loss: 1.4730 - val_accuracy: 0.4991\n",
      "Epoch 34/50\n",
      "50000/50000 [==============================] - 5s 109us/step - loss: 0.7971 - accuracy: 0.7386 - val_loss: 1.4733 - val_accuracy: 0.4968\n",
      "Epoch 35/50\n",
      "50000/50000 [==============================] - 5s 102us/step - loss: 0.7794 - accuracy: 0.7453 - val_loss: 1.4768 - val_accuracy: 0.5007\n",
      "Epoch 36/50\n",
      "50000/50000 [==============================] - 5s 105us/step - loss: 0.7625 - accuracy: 0.7513 - val_loss: 1.5105 - val_accuracy: 0.4955\n",
      "Epoch 37/50\n",
      "50000/50000 [==============================] - 5s 103us/step - loss: 0.7400 - accuracy: 0.7616 - val_loss: 1.5280 - val_accuracy: 0.4948\n",
      "Epoch 38/50\n",
      "50000/50000 [==============================] - 5s 101us/step - loss: 0.7235 - accuracy: 0.7681 - val_loss: 1.5100 - val_accuracy: 0.4944\n",
      "Epoch 39/50\n",
      "50000/50000 [==============================] - 5s 101us/step - loss: 0.7055 - accuracy: 0.7750 - val_loss: 1.5275 - val_accuracy: 0.4985\n",
      "Epoch 40/50\n",
      "50000/50000 [==============================] - 5s 107us/step - loss: 0.6863 - accuracy: 0.7834 - val_loss: 1.5173 - val_accuracy: 0.4977\n",
      "Epoch 41/50\n",
      "50000/50000 [==============================] - 5s 104us/step - loss: 0.6703 - accuracy: 0.7894 - val_loss: 1.5583 - val_accuracy: 0.4925\n",
      "Epoch 42/50\n",
      "50000/50000 [==============================] - 5s 105us/step - loss: 0.6520 - accuracy: 0.7963 - val_loss: 1.5460 - val_accuracy: 0.4975\n",
      "Epoch 43/50\n",
      "50000/50000 [==============================] - 5s 106us/step - loss: 0.6330 - accuracy: 0.8052 - val_loss: 1.5721 - val_accuracy: 0.4947\n",
      "Epoch 44/50\n",
      "50000/50000 [==============================] - 5s 103us/step - loss: 0.6158 - accuracy: 0.8118 - val_loss: 1.5588 - val_accuracy: 0.4985\n",
      "Epoch 45/50\n",
      "50000/50000 [==============================] - 5s 106us/step - loss: 0.6007 - accuracy: 0.8163 - val_loss: 1.6148 - val_accuracy: 0.4884\n",
      "Epoch 46/50\n"
     ]
    },
    {
     "name": "stdout",
     "output_type": "stream",
     "text": [
      "50000/50000 [==============================] - 5s 106us/step - loss: 0.5825 - accuracy: 0.8250 - val_loss: 1.5719 - val_accuracy: 0.4942\n",
      "Epoch 47/50\n",
      "50000/50000 [==============================] - 5s 104us/step - loss: 0.5651 - accuracy: 0.8322 - val_loss: 1.6162 - val_accuracy: 0.4919\n",
      "Epoch 48/50\n",
      "50000/50000 [==============================] - 5s 104us/step - loss: 0.5510 - accuracy: 0.8375 - val_loss: 1.6127 - val_accuracy: 0.4927\n",
      "Epoch 49/50\n",
      "50000/50000 [==============================] - 5s 106us/step - loss: 0.5337 - accuracy: 0.8446 - val_loss: 1.6212 - val_accuracy: 0.4952\n",
      "Epoch 50/50\n",
      "50000/50000 [==============================] - 5s 103us/step - loss: 0.5158 - accuracy: 0.8522 - val_loss: 1.6255 - val_accuracy: 0.4893\n"
     ]
    }
   ],
   "source": [
    "# 載入 Callbacks\n",
    "\"\"\"Code Here\n",
    "設定 callbacks: model checkpoint\n",
    "\"\"\"\n",
    "from keras.callbacks import ModelCheckpoint\n",
    "\n",
    "model_ckpt = ModelCheckpoint(filepath=\"./model_w.h5\", \n",
    "                             monitor=\"val_loss\",save_weights_only=True)\n",
    "\n",
    "\n",
    "results = {}\n",
    "\"\"\"Code Here\n",
    "撰寫你的訓練流程並將結果用 dictionary 紀錄\n",
    "\"\"\"\n",
    "model = build_mlp(input_shape=x_train.shape[1:])\n",
    "model.save('model_s.h5')\n",
    "model.summary()\n",
    "optimizer = keras.optimizers.SGD(lr=LEARNING_RATE, nesterov=True, momentum=MOMENTUM)\n",
    "model.compile(loss=\"categorical_crossentropy\", metrics=[\"accuracy\"], optimizer=optimizer)\n",
    "\n",
    "model.fit(x_train, y_train, \n",
    "          epochs=EPOCHS, \n",
    "          batch_size=BATCH_SIZE, \n",
    "          validation_data=(x_test, y_test), \n",
    "          shuffle=True,\n",
    "          callbacks=[model_ckpt]\n",
    "         )\n",
    "\n",
    "# Collect results\n",
    "train_loss = model.history.history[\"loss\"]\n",
    "valid_loss = model.history.history[\"val_loss\"]\n",
    "train_acc = model.history.history[\"accuracy\"]\n",
    "valid_acc = model.history.history[\"val_accuracy\"]\n"
   ]
  },
  {
   "cell_type": "code",
   "execution_count": 18,
   "metadata": {},
   "outputs": [
    {
     "name": "stdout",
     "output_type": "stream",
     "text": [
      "Model: \"model_3\"\n",
      "_________________________________________________________________\n",
      "Layer (type)                 Output Shape              Param #   \n",
      "=================================================================\n",
      "input_3 (InputLayer)         (None, 3072)              0         \n",
      "_________________________________________________________________\n",
      "hidden_layer1 (Dense)        (None, 512)               1573376   \n",
      "_________________________________________________________________\n",
      "batch_normalization_7 (Batch (None, 512)               2048      \n",
      "_________________________________________________________________\n",
      "hidden_layer2 (Dense)        (None, 256)               131328    \n",
      "_________________________________________________________________\n",
      "batch_normalization_8 (Batch (None, 256)               1024      \n",
      "_________________________________________________________________\n",
      "hidden_layer3 (Dense)        (None, 128)               32896     \n",
      "_________________________________________________________________\n",
      "batch_normalization_9 (Batch (None, 128)               512       \n",
      "_________________________________________________________________\n",
      "output (Dense)               (None, 10)                1290      \n",
      "=================================================================\n",
      "Total params: 1,742,474\n",
      "Trainable params: 1,740,682\n",
      "Non-trainable params: 1,792\n",
      "_________________________________________________________________\n",
      "10000/10000 [==============================] - 1s 89us/step\n"
     ]
    }
   ],
   "source": [
    "# Load back\n",
    "model = keras.models.load_model('model_s.h5')\n",
    "model.summary()\n",
    "model.load_weights('model_w.h5')\n",
    "optimizer = keras.optimizers.SGD(lr=LEARNING_RATE, nesterov=True, momentum=MOMENTUM)\n",
    "model.compile(loss=\"categorical_crossentropy\", metrics=[\"accuracy\"], optimizer=optimizer)\n",
    "loss_loadback, acc_loadback = model.evaluate(x_test, y_test)"
   ]
  },
  {
   "cell_type": "code",
   "execution_count": null,
   "metadata": {},
   "outputs": [],
   "source": []
  },
  {
   "cell_type": "code",
   "execution_count": 19,
   "metadata": {
    "scrolled": true
   },
   "outputs": [
    {
     "data": {
      "image/png": "[encoded data removed]",
      "text/plain": [
       "<Figure size 432x288 with 1 Axes>"
      ]
     },
     "metadata": {
      "needs_background": "light"
     },
     "output_type": "display_data"
    },
    {
     "data": {
      "image/png": "[encoded data removed]",
      "text/plain": [
       "<Figure size 432x288 with 1 Axes>"
      ]
     },
     "metadata": {
      "needs_background": "light"
     },
     "output_type": "display_data"
    }
   ],
   "source": [
    "import matplotlib.pyplot as plt\n",
    "%matplotlib inline\n",
    "\"\"\"Code Here\n",
    "將結果繪出\n",
    "\"\"\"\n",
    "\n",
    "plt.plot(range(len(train_loss)), train_loss, label=\"train loss\")\n",
    "plt.plot(range(len(valid_loss)), valid_loss, label=\"valid loss\")\n",
    "plt.hlines(y=loss_loadback, xmin=0, xmax=len(train_loss), colors='r', linestyles='--')\n",
    "plt.legend()\n",
    "plt.title(\"Loss\")\n",
    "plt.show()\n",
    "\n",
    "plt.plot(range(len(train_acc)), train_acc, label=\"train accuracy\")\n",
    "plt.plot(range(len(valid_acc)), valid_acc, label=\"valid accuracy\")\n",
    "plt.hlines(y=acc_loadback, xmin=0, xmax=len(train_loss), colors='r', linestyles='--')\n",
    "plt.legend()\n",
    "plt.title(\"Accuracy\")\n",
    "plt.show()"
   ]
  },
  {
   "cell_type": "code",
   "execution_count": null,
   "metadata": {},
   "outputs": [],
   "source": []
  }
 ],
 "metadata": {
  "kernelspec": {
   "display_name": "Python 3",
   "language": "python",
   "name": "python3"
  },
  "language_info": {
   "codemirror_mode": {
    "name": "ipython",
    "version": 3
   },
   "file_extension": ".py",
   "mimetype": "text/x-python",
   "name": "python",
   "nbconvert_exporter": "python",
   "pygments_lexer": "ipython3",
   "version": "3.7.6"
  }
 },
 "nbformat": 4,
 "nbformat_minor": 2
}
