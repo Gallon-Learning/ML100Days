{
 "cells": [
  {
   "cell_type": "markdown",
   "metadata": {},
   "source": [
    "## 範例重點\n",
    "* 學習如何在 keras 中加入自定義的 callbacks\n",
    "* 知道 callback function 可以動作的時機"
   ]
  },
  {
   "cell_type": "code",
   "execution_count": 2,
   "metadata": {},
   "outputs": [],
   "source": [
    "import os\n",
    "import keras\n",
    "\n",
    "# 本範例不需使用 GPU, 將 GPU 設定為 \"無\"\n",
    "os.environ[\"CUDA_VISIBLE_DEVICES\"] = \"\""
   ]
  },
  {
   "cell_type": "code",
   "execution_count": 3,
   "metadata": {},
   "outputs": [],
   "source": [
    "train, test = keras.datasets.cifar10.load_data()"
   ]
  },
  {
   "cell_type": "code",
   "execution_count": 4,
   "metadata": {},
   "outputs": [],
   "source": [
    "## 資料前處理\n",
    "def preproc_x(x, flatten=True):\n",
    "    x = x / 255.\n",
    "    if flatten:\n",
    "        x = x.reshape((len(x), -1))\n",
    "    return x\n",
    "\n",
    "def preproc_y(y, num_classes=10):\n",
    "    if y.shape[-1] == 1:\n",
    "        y = keras.utils.to_categorical(y, num_classes)\n",
    "    return y    "
   ]
  },
  {
   "cell_type": "code",
   "execution_count": 5,
   "metadata": {},
   "outputs": [],
   "source": [
    "x_train, y_train = train\n",
    "x_test, y_test = test\n",
    "\n",
    "# 資料前處理 - X 標準化\n",
    "x_train = preproc_x(x_train)\n",
    "x_test = preproc_x(x_test)\n",
    "\n",
    "# 資料前處理 -Y 轉成 onehot\n",
    "y_train = preproc_y(y_train)\n",
    "y_test = preproc_y(y_test)"
   ]
  },
  {
   "cell_type": "code",
   "execution_count": 6,
   "metadata": {},
   "outputs": [],
   "source": [
    "from keras.layers import BatchNormalization\n",
    "\n",
    "\"\"\"\n",
    "建立神經網路，並加入 BN layer\n",
    "\"\"\"\n",
    "def build_mlp(input_shape, output_units=10, num_neurons=[512, 256, 128]):\n",
    "    input_layer = keras.layers.Input(input_shape)\n",
    "    \n",
    "    for i, n_units in enumerate(num_neurons):\n",
    "        if i == 0:\n",
    "            x = keras.layers.Dense(units=n_units, \n",
    "                                   activation=\"relu\", \n",
    "                                   name=\"hidden_layer\"+str(i+1))(input_layer)\n",
    "            x = BatchNormalization()(x)\n",
    "        else:\n",
    "            x = keras.layers.Dense(units=n_units, \n",
    "                                   activation=\"relu\", \n",
    "                                   name=\"hidden_layer\"+str(i+1))(x)\n",
    "            x = BatchNormalization()(x)\n",
    "    \n",
    "    out = keras.layers.Dense(units=output_units, activation=\"softmax\", name=\"output\")(x)\n",
    "    \n",
    "    model = keras.models.Model(inputs=[input_layer], outputs=[out])\n",
    "    return model"
   ]
  },
  {
   "cell_type": "code",
   "execution_count": 7,
   "metadata": {},
   "outputs": [],
   "source": [
    "## 超參數設定\n",
    "LEARNING_RATE = 1e-3\n",
    "EPOCHS = 50\n",
    "BATCH_SIZE = 1024\n",
    "MOMENTUM = 0.95"
   ]
  },
  {
   "cell_type": "code",
   "execution_count": 9,
   "metadata": {},
   "outputs": [],
   "source": [
    "\"\"\"\n",
    "# 載入 Callbacks，撰寫一個 f1 score 的 callback function\n",
    "\"\"\"\n",
    "\n",
    "from keras.callbacks import Callback\n",
    "from sklearn.metrics import f1_score\n",
    "\n",
    "class f1sc(Callback):\n",
    "    def on_train_begin(self, epoch, logs = {}):\n",
    "        logs = logs or {}\n",
    "        record_items = [\"val_auc\", \"val_f1sc\", \"val_fp\", \"val_fn\", \"val_tp\", \"val_tn\"]\n",
    "        for i in record_items:\n",
    "            if i not in self.params['metrics']:\n",
    "                self.params['metrics'].append(i)\n",
    "    \n",
    "    def on_epoch_end(self, epoch, logs = {}, thres=0.5):\n",
    "        logs = logs or {}\n",
    "        y_true = self.validation_data[1].argmax(axis = 1)\n",
    "        y_pred = self.model.predict(self.validation_data[0])\n",
    "        y_pred = (y_pred[:, 1] >= thres) * 1\n",
    "        \n",
    "        logs[\"val_f1sc\"] = f1_score(y_true = y_true, y_pred = y_pred, average=\"weighted\")\n",
    "        \n",
    "log_f1sc = f1sc()"
   ]
  },
  {
   "cell_type": "code",
   "execution_count": 12,
   "metadata": {
    "scrolled": true
   },
   "outputs": [
    {
     "name": "stdout",
     "output_type": "stream",
     "text": [
      "Model: \"model_2\"\n",
      "_________________________________________________________________\n",
      "Layer (type)                 Output Shape              Param #   \n",
      "=================================================================\n",
      "input_2 (InputLayer)         (None, 3072)              0         \n",
      "_________________________________________________________________\n",
      "hidden_layer1 (Dense)        (None, 512)               1573376   \n",
      "_________________________________________________________________\n",
      "batch_normalization_4 (Batch (None, 512)               2048      \n",
      "_________________________________________________________________\n",
      "hidden_layer2 (Dense)        (None, 256)               131328    \n",
      "_________________________________________________________________\n",
      "batch_normalization_5 (Batch (None, 256)               1024      \n",
      "_________________________________________________________________\n",
      "hidden_layer3 (Dense)        (None, 128)               32896     \n",
      "_________________________________________________________________\n",
      "batch_normalization_6 (Batch (None, 128)               512       \n",
      "_________________________________________________________________\n",
      "output (Dense)               (None, 10)                1290      \n",
      "=================================================================\n",
      "Total params: 1,742,474\n",
      "Trainable params: 1,740,682\n",
      "Non-trainable params: 1,792\n",
      "_________________________________________________________________\n",
      "Train on 50000 samples, validate on 10000 samples\n",
      "Epoch 1/50\n",
      "50000/50000 [==============================] - 5s 98us/step - loss: 2.2076 - accuracy: 0.2701 - val_loss: 2.1332 - val_accuracy: 0.2011\n",
      "Epoch 2/50\n",
      "50000/50000 [==============================] - 5s 90us/step - loss: 1.7423 - accuracy: 0.3942 - val_loss: 1.9747 - val_accuracy: 0.3059\n",
      "Epoch 3/50\n",
      "50000/50000 [==============================] - 6s 113us/step - loss: 1.6167 - accuracy: 0.4351 - val_loss: 1.8335 - val_accuracy: 0.3611\n",
      "Epoch 4/50\n",
      "50000/50000 [==============================] - 6s 114us/step - loss: 1.5446 - accuracy: 0.4593 - val_loss: 1.7242 - val_accuracy: 0.4005\n",
      "Epoch 5/50\n",
      "50000/50000 [==============================] - 6s 111us/step - loss: 1.4882 - accuracy: 0.4803 - val_loss: 1.6357 - val_accuracy: 0.4260\n",
      "Epoch 6/50\n",
      "50000/50000 [==============================] - 6s 113us/step - loss: 1.4420 - accuracy: 0.4964 - val_loss: 1.5891 - val_accuracy: 0.4376\n",
      "Epoch 7/50\n",
      "50000/50000 [==============================] - 6s 125us/step - loss: 1.4036 - accuracy: 0.5118 - val_loss: 1.5646 - val_accuracy: 0.4455\n",
      "Epoch 8/50\n",
      "50000/50000 [==============================] - 6s 119us/step - loss: 1.3665 - accuracy: 0.5253 - val_loss: 1.5268 - val_accuracy: 0.4633\n",
      "Epoch 9/50\n",
      "50000/50000 [==============================] - 6s 114us/step - loss: 1.3329 - accuracy: 0.5392 - val_loss: 1.5083 - val_accuracy: 0.4670\n",
      "Epoch 10/50\n",
      "50000/50000 [==============================] - 6s 110us/step - loss: 1.3034 - accuracy: 0.5485 - val_loss: 1.5093 - val_accuracy: 0.4666\n",
      "Epoch 11/50\n",
      "50000/50000 [==============================] - 5s 104us/step - loss: 1.2759 - accuracy: 0.5591 - val_loss: 1.4949 - val_accuracy: 0.4727\n",
      "Epoch 12/50\n",
      "50000/50000 [==============================] - 5s 101us/step - loss: 1.2465 - accuracy: 0.5694 - val_loss: 1.4848 - val_accuracy: 0.4771\n",
      "Epoch 13/50\n",
      "50000/50000 [==============================] - 5s 103us/step - loss: 1.2203 - accuracy: 0.5784 - val_loss: 1.4787 - val_accuracy: 0.4775\n",
      "Epoch 14/50\n",
      "50000/50000 [==============================] - 5s 105us/step - loss: 1.1952 - accuracy: 0.5873 - val_loss: 1.4747 - val_accuracy: 0.4793\n",
      "Epoch 15/50\n",
      "50000/50000 [==============================] - 5s 102us/step - loss: 1.1695 - accuracy: 0.5974 - val_loss: 1.4722 - val_accuracy: 0.4802\n",
      "Epoch 16/50\n",
      "50000/50000 [==============================] - 5s 101us/step - loss: 1.1457 - accuracy: 0.6056 - val_loss: 1.4719 - val_accuracy: 0.4798\n",
      "Epoch 17/50\n",
      "50000/50000 [==============================] - 5s 104us/step - loss: 1.1226 - accuracy: 0.6147 - val_loss: 1.4765 - val_accuracy: 0.4849\n",
      "Epoch 18/50\n",
      "50000/50000 [==============================] - 5s 101us/step - loss: 1.1001 - accuracy: 0.6247 - val_loss: 1.4633 - val_accuracy: 0.4815\n",
      "Epoch 19/50\n",
      "50000/50000 [==============================] - 5s 101us/step - loss: 1.0786 - accuracy: 0.6315 - val_loss: 1.4651 - val_accuracy: 0.4894\n",
      "Epoch 20/50\n",
      "50000/50000 [==============================] - 5s 103us/step - loss: 1.0552 - accuracy: 0.6410 - val_loss: 1.4630 - val_accuracy: 0.4877\n",
      "Epoch 21/50\n",
      "50000/50000 [==============================] - 5s 101us/step - loss: 1.0332 - accuracy: 0.6501 - val_loss: 1.4570 - val_accuracy: 0.4999\n",
      "Epoch 22/50\n",
      "50000/50000 [==============================] - 5s 104us/step - loss: 1.0124 - accuracy: 0.6584 - val_loss: 1.4661 - val_accuracy: 0.4951\n",
      "Epoch 23/50\n",
      "50000/50000 [==============================] - 5s 101us/step - loss: 0.9908 - accuracy: 0.6674 - val_loss: 1.4591 - val_accuracy: 0.4908\n",
      "Epoch 24/50\n",
      "50000/50000 [==============================] - 5s 102us/step - loss: 0.9685 - accuracy: 0.6745 - val_loss: 1.4660 - val_accuracy: 0.4941\n",
      "Epoch 25/50\n",
      "50000/50000 [==============================] - 5s 103us/step - loss: 0.9485 - accuracy: 0.6814 - val_loss: 1.4658 - val_accuracy: 0.4952\n",
      "Epoch 26/50\n",
      "50000/50000 [==============================] - 5s 101us/step - loss: 0.9287 - accuracy: 0.6902 - val_loss: 1.4672 - val_accuracy: 0.4981\n",
      "Epoch 27/50\n",
      "50000/50000 [==============================] - 5s 102us/step - loss: 0.9095 - accuracy: 0.6988 - val_loss: 1.4825 - val_accuracy: 0.4983\n",
      "Epoch 28/50\n",
      "50000/50000 [==============================] - 5s 105us/step - loss: 0.8871 - accuracy: 0.7062 - val_loss: 1.4731 - val_accuracy: 0.5008\n",
      "Epoch 29/50\n",
      "50000/50000 [==============================] - 5s 102us/step - loss: 0.8675 - accuracy: 0.7161 - val_loss: 1.4784 - val_accuracy: 0.4955\n",
      "Epoch 30/50\n",
      "50000/50000 [==============================] - 5s 102us/step - loss: 0.8483 - accuracy: 0.7221 - val_loss: 1.4893 - val_accuracy: 0.4976\n",
      "Epoch 31/50\n",
      "50000/50000 [==============================] - 5s 104us/step - loss: 0.8275 - accuracy: 0.7301 - val_loss: 1.4952 - val_accuracy: 0.4963\n",
      "Epoch 32/50\n",
      "50000/50000 [==============================] - 5s 103us/step - loss: 0.8105 - accuracy: 0.7366 - val_loss: 1.5010 - val_accuracy: 0.4939\n",
      "Epoch 33/50\n",
      "50000/50000 [==============================] - 5s 105us/step - loss: 0.7914 - accuracy: 0.7449 - val_loss: 1.5071 - val_accuracy: 0.4946\n",
      "Epoch 34/50\n",
      "50000/50000 [==============================] - 5s 102us/step - loss: 0.7722 - accuracy: 0.7508 - val_loss: 1.5324 - val_accuracy: 0.4950\n",
      "Epoch 35/50\n",
      "50000/50000 [==============================] - 5s 103us/step - loss: 0.7525 - accuracy: 0.7599 - val_loss: 1.5213 - val_accuracy: 0.4948\n",
      "Epoch 36/50\n",
      "50000/50000 [==============================] - 5s 104us/step - loss: 0.7333 - accuracy: 0.7678 - val_loss: 1.5251 - val_accuracy: 0.4957\n",
      "Epoch 37/50\n",
      "50000/50000 [==============================] - 5s 102us/step - loss: 0.7146 - accuracy: 0.7741 - val_loss: 1.5247 - val_accuracy: 0.5027\n",
      "Epoch 38/50\n",
      "50000/50000 [==============================] - 5s 101us/step - loss: 0.6963 - accuracy: 0.7812 - val_loss: 1.5431 - val_accuracy: 0.4931\n",
      "Epoch 39/50\n",
      "50000/50000 [==============================] - 5s 109us/step - loss: 0.6756 - accuracy: 0.7889 - val_loss: 1.5501 - val_accuracy: 0.4958\n",
      "Epoch 40/50\n",
      "50000/50000 [==============================] - 5s 108us/step - loss: 0.6611 - accuracy: 0.7955 - val_loss: 1.5588 - val_accuracy: 0.4896\n",
      "Epoch 41/50\n",
      "50000/50000 [==============================] - 6s 113us/step - loss: 0.6412 - accuracy: 0.8029 - val_loss: 1.5844 - val_accuracy: 0.4918\n",
      "Epoch 42/50\n",
      "50000/50000 [==============================] - 5s 108us/step - loss: 0.6243 - accuracy: 0.8096 - val_loss: 1.5950 - val_accuracy: 0.4900\n",
      "Epoch 43/50\n",
      "50000/50000 [==============================] - 5s 103us/step - loss: 0.6082 - accuracy: 0.8167 - val_loss: 1.6058 - val_accuracy: 0.4915\n",
      "Epoch 44/50\n",
      "50000/50000 [==============================] - 5s 108us/step - loss: 0.5916 - accuracy: 0.8240 - val_loss: 1.6152 - val_accuracy: 0.4916\n",
      "Epoch 45/50\n",
      "50000/50000 [==============================] - 5s 107us/step - loss: 0.5742 - accuracy: 0.8303 - val_loss: 1.6216 - val_accuracy: 0.4896\n",
      "Epoch 46/50\n"
     ]
    },
    {
     "name": "stdout",
     "output_type": "stream",
     "text": [
      "50000/50000 [==============================] - 5s 108us/step - loss: 0.5582 - accuracy: 0.8367 - val_loss: 1.6288 - val_accuracy: 0.4979\n",
      "Epoch 47/50\n",
      "50000/50000 [==============================] - 5s 110us/step - loss: 0.5417 - accuracy: 0.8430 - val_loss: 1.6357 - val_accuracy: 0.4924\n",
      "Epoch 48/50\n",
      "50000/50000 [==============================] - 5s 103us/step - loss: 0.5272 - accuracy: 0.8484 - val_loss: 1.6455 - val_accuracy: 0.4928\n",
      "Epoch 49/50\n",
      "50000/50000 [==============================] - 5s 109us/step - loss: 0.5065 - accuracy: 0.8575 - val_loss: 1.6839 - val_accuracy: 0.4942\n",
      "Epoch 50/50\n",
      "50000/50000 [==============================] - 5s 106us/step - loss: 0.4923 - accuracy: 0.8614 - val_loss: 1.6780 - val_accuracy: 0.4886\n"
     ]
    }
   ],
   "source": [
    "model = build_mlp(input_shape=x_train.shape[1:])\n",
    "model.summary()\n",
    "optimizer = keras.optimizers.SGD(lr=LEARNING_RATE, nesterov=True, momentum=MOMENTUM)\n",
    "model.compile(loss=\"categorical_crossentropy\", metrics=[\"accuracy\"], optimizer=optimizer)\n",
    "\n",
    "model.fit(x_train, y_train, \n",
    "          epochs=EPOCHS, \n",
    "          batch_size=BATCH_SIZE, \n",
    "          validation_data=(x_test, y_test), \n",
    "          shuffle=True,\n",
    "          callbacks=[log_f1sc]\n",
    "         )\n",
    "\n",
    "# Collect results\n",
    "train_loss = model.history.history[\"loss\"]\n",
    "valid_loss = model.history.history[\"val_loss\"]\n",
    "train_acc = model.history.history[\"accuracy\"]\n",
    "valid_acc = model.history.history[\"val_accuracy\"]\n",
    "\n",
    "# 在訓練後，將 f1sc 紀錄調出\n",
    "valid_f1sc = model.history.history['val_f1sc']"
   ]
  },
  {
   "cell_type": "code",
   "execution_count": 13,
   "metadata": {},
   "outputs": [
    {
     "data": {
      "image/png": "[encoded data removed]",
      "text/plain": [
       "<Figure size 432x288 with 1 Axes>"
      ]
     },
     "metadata": {
      "needs_background": "light"
     },
     "output_type": "display_data"
    },
    {
     "data": {
      "image/png": "[encoded data removed]",
      "text/plain": [
       "<Figure size 432x288 with 1 Axes>"
      ]
     },
     "metadata": {
      "needs_background": "light"
     },
     "output_type": "display_data"
    },
    {
     "data": {
      "image/png": "[encoded data removed]",
      "text/plain": [
       "<Figure size 432x288 with 1 Axes>"
      ]
     },
     "metadata": {
      "needs_background": "light"
     },
     "output_type": "display_data"
    }
   ],
   "source": [
    "import matplotlib.pyplot as plt\n",
    "%matplotlib inline\n",
    "\n",
    "plt.plot(range(len(train_loss)), train_loss, label=\"train loss\")\n",
    "plt.plot(range(len(valid_loss)), valid_loss, label=\"valid loss\")\n",
    "plt.legend()\n",
    "plt.title(\"Loss\")\n",
    "plt.show()\n",
    "\n",
    "plt.plot(range(len(train_acc)), train_acc, label=\"train accuracy\")\n",
    "plt.plot(range(len(valid_acc)), valid_acc, label=\"valid accuracy\")\n",
    "plt.legend()\n",
    "plt.title(\"Accuracy\")\n",
    "plt.show()\n",
    "\n",
    "plt.plot(range(len(valid_f1sc)), valid_f1sc, label=\"valid f1-score\")\n",
    "plt.legend()\n",
    "plt.title(\"F1-score\")\n",
    "plt.show()\n"
   ]
  },
  {
   "cell_type": "markdown",
   "metadata": {},
   "source": [
    "## Work\n",
    "1. 請嘗試寫一個 callback 用來記錄各類別在訓練過程中，對驗證集的 True Positive 與 True Negative"
   ]
  }
 ],
 "metadata": {
  "kernelspec": {
   "display_name": "Python 3",
   "language": "python",
   "name": "python3"
  },
  "language_info": {
   "codemirror_mode": {
    "name": "ipython",
    "version": 3
   },
   "file_extension": ".py",
   "mimetype": "text/x-python",
   "name": "python",
   "nbconvert_exporter": "python",
   "pygments_lexer": "ipython3",
   "version": "3.7.6"
  }
 },
 "nbformat": 4,
 "nbformat_minor": 2
}
