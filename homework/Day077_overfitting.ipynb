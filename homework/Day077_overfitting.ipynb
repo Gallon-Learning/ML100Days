{
 "cells": [
  {
   "cell_type": "markdown",
   "metadata": {},
   "source": [
    "## 範例重點\n",
    "* 學會從 Keras 內建函式取得資料\n",
    "* 能夠建立簡易的深度學習模型\n",
    "* 觀察並了解 Overfit 現象"
   ]
  },
  {
   "cell_type": "code",
   "execution_count": 2,
   "metadata": {},
   "outputs": [],
   "source": [
    "import os\n",
    "import keras\n",
    "\n",
    "# 本範例不需使用 GPU, 將 GPU 設定為 \"無\"\n",
    "os.environ[\"CUDA_VISIBLE_DEVICES\"] = \"\""
   ]
  },
  {
   "cell_type": "code",
   "execution_count": 3,
   "metadata": {},
   "outputs": [],
   "source": [
    "# 從 Keras 的內建功能中，取得 train 與 test 資料集\n",
    "train, test = keras.datasets.cifar10.load_data()"
   ]
  },
  {
   "cell_type": "code",
   "execution_count": 4,
   "metadata": {},
   "outputs": [],
   "source": [
    "# 將 X 與 Y 獨立放進變數\n",
    "x_train, y_train = train\n",
    "x_test, y_test = test\n",
    "# 資料前處理 - 標準化\n",
    "x_train = x_train / 255.\n",
    "x_test = x_test / 255.\n",
    "\n",
    "# 將資料從圖形 (RGB) 轉為向量 (Single Vector)\n",
    "x_train = x_train.reshape((len(x_train), -1))\n",
    "x_test = x_test.reshape((len(x_test), -1))\n",
    "\n",
    "# 將目標轉為 one-hot encoding\n",
    "y_train = keras.utils.to_categorical(y_train, num_classes=10)\n",
    "y_test = keras.utils.to_categorical(y_test, num_classes=10)"
   ]
  },
  {
   "cell_type": "code",
   "execution_count": 5,
   "metadata": {},
   "outputs": [],
   "source": [
    "# 建立一個有三層隱藏層之神經網路\n",
    "def build_mlp():\n",
    "    input_layer = keras.layers.Input([x_train.shape[-1]])\n",
    "    x = keras.layers.Dense(units=512, activation=\"relu\")(input_layer)\n",
    "    x = keras.layers.Dense(units=256, activation=\"relu\")(x)\n",
    "    x = keras.layers.Dense(units=128, activation=\"relu\")(x)\n",
    "    out = keras.layers.Dense(units=10, activation=\"softmax\")(x)\n",
    "    \n",
    "    model = keras.models.Model(inputs=[input_layer], outputs=[out])\n",
    "    return model"
   ]
  },
  {
   "cell_type": "code",
   "execution_count": 6,
   "metadata": {},
   "outputs": [
    {
     "name": "stdout",
     "output_type": "stream",
     "text": [
      "Model: \"model_1\"\n",
      "_________________________________________________________________\n",
      "Layer (type)                 Output Shape              Param #   \n",
      "=================================================================\n",
      "input_1 (InputLayer)         (None, 3072)              0         \n",
      "_________________________________________________________________\n",
      "dense_1 (Dense)              (None, 512)               1573376   \n",
      "_________________________________________________________________\n",
      "dense_2 (Dense)              (None, 256)               131328    \n",
      "_________________________________________________________________\n",
      "dense_3 (Dense)              (None, 128)               32896     \n",
      "_________________________________________________________________\n",
      "dense_4 (Dense)              (None, 10)                1290      \n",
      "=================================================================\n",
      "Total params: 1,738,890\n",
      "Trainable params: 1,738,890\n",
      "Non-trainable params: 0\n",
      "_________________________________________________________________\n"
     ]
    }
   ],
   "source": [
    "model = build_mlp()\n",
    "# 用 Keras 內建方法檢視模型各層參數量\n",
    "model.summary()\n",
    "\n",
    "optimizer = keras.optimizers.Adam(lr=0.001)\n",
    "model.compile(loss=\"categorical_crossentropy\", metrics=[\"accuracy\"], optimizer=optimizer)"
   ]
  },
  {
   "cell_type": "code",
   "execution_count": 7,
   "metadata": {},
   "outputs": [
    {
     "name": "stdout",
     "output_type": "stream",
     "text": [
      "WARNING:tensorflow:From C:\\ProgramData\\Anaconda3\\lib\\site-packages\\keras\\backend\\tensorflow_backend.py:422: The name tf.global_variables is deprecated. Please use tf.compat.v1.global_variables instead.\n",
      "\n",
      "Train on 50000 samples, validate on 10000 samples\n",
      "Epoch 1/100\n",
      "50000/50000 [==============================] - 9s 185us/step - loss: 1.9242 - accuracy: 0.3043 - val_loss: 1.7423 - val_accuracy: 0.3761\n",
      "Epoch 2/100\n",
      "50000/50000 [==============================] - 8s 163us/step - loss: 1.6976 - accuracy: 0.3928 - val_loss: 1.6528 - val_accuracy: 0.4100\n",
      "Epoch 3/100\n",
      "50000/50000 [==============================] - 8s 166us/step - loss: 1.6128 - accuracy: 0.4263 - val_loss: 1.6077 - val_accuracy: 0.4250\n",
      "Epoch 4/100\n",
      "50000/50000 [==============================] - 8s 165us/step - loss: 1.5501 - accuracy: 0.4434 - val_loss: 1.5682 - val_accuracy: 0.4355\n",
      "Epoch 5/100\n",
      "50000/50000 [==============================] - 9s 171us/step - loss: 1.5102 - accuracy: 0.4604 - val_loss: 1.5136 - val_accuracy: 0.4593\n",
      "Epoch 6/100\n",
      "50000/50000 [==============================] - 8s 166us/step - loss: 1.4641 - accuracy: 0.4779 - val_loss: 1.5042 - val_accuracy: 0.4661\n",
      "Epoch 7/100\n",
      "50000/50000 [==============================] - 8s 162us/step - loss: 1.4410 - accuracy: 0.4866 - val_loss: 1.4694 - val_accuracy: 0.4746\n",
      "Epoch 8/100\n",
      "50000/50000 [==============================] - 8s 165us/step - loss: 1.4056 - accuracy: 0.4960 - val_loss: 1.4688 - val_accuracy: 0.4754\n",
      "Epoch 9/100\n",
      "50000/50000 [==============================] - 8s 162us/step - loss: 1.3787 - accuracy: 0.5078 - val_loss: 1.4247 - val_accuracy: 0.4956\n",
      "Epoch 10/100\n",
      "50000/50000 [==============================] - 8s 165us/step - loss: 1.3549 - accuracy: 0.5175 - val_loss: 1.4274 - val_accuracy: 0.4970\n",
      "Epoch 11/100\n",
      "50000/50000 [==============================] - 8s 162us/step - loss: 1.3427 - accuracy: 0.5217 - val_loss: 1.4000 - val_accuracy: 0.5016\n",
      "Epoch 12/100\n",
      "50000/50000 [==============================] - 8s 164us/step - loss: 1.3057 - accuracy: 0.5325 - val_loss: 1.3943 - val_accuracy: 0.5028\n",
      "Epoch 13/100\n",
      "50000/50000 [==============================] - 8s 163us/step - loss: 1.2783 - accuracy: 0.5423 - val_loss: 1.3962 - val_accuracy: 0.5015\n",
      "Epoch 14/100\n",
      "50000/50000 [==============================] - 8s 163us/step - loss: 1.2606 - accuracy: 0.5484 - val_loss: 1.3757 - val_accuracy: 0.5147\n",
      "Epoch 15/100\n",
      "50000/50000 [==============================] - 8s 161us/step - loss: 1.2401 - accuracy: 0.5596 - val_loss: 1.3955 - val_accuracy: 0.5023\n",
      "Epoch 16/100\n",
      "50000/50000 [==============================] - 8s 165us/step - loss: 1.2133 - accuracy: 0.5686 - val_loss: 1.3921 - val_accuracy: 0.5099\n",
      "Epoch 17/100\n",
      "50000/50000 [==============================] - 8s 166us/step - loss: 1.1984 - accuracy: 0.5741 - val_loss: 1.3584 - val_accuracy: 0.5208\n",
      "Epoch 18/100\n",
      "50000/50000 [==============================] - 8s 163us/step - loss: 1.1797 - accuracy: 0.5795 - val_loss: 1.3730 - val_accuracy: 0.5159\n",
      "Epoch 19/100\n",
      "50000/50000 [==============================] - 8s 162us/step - loss: 1.1548 - accuracy: 0.5888 - val_loss: 1.3989 - val_accuracy: 0.5036\n",
      "Epoch 20/100\n",
      "50000/50000 [==============================] - 8s 163us/step - loss: 1.1427 - accuracy: 0.5923 - val_loss: 1.3944 - val_accuracy: 0.5095\n",
      "Epoch 21/100\n",
      "50000/50000 [==============================] - 8s 162us/step - loss: 1.1202 - accuracy: 0.6003 - val_loss: 1.3669 - val_accuracy: 0.5247\n",
      "Epoch 22/100\n",
      "50000/50000 [==============================] - 8s 162us/step - loss: 1.0992 - accuracy: 0.6084 - val_loss: 1.3761 - val_accuracy: 0.5223\n",
      "Epoch 23/100\n",
      "50000/50000 [==============================] - 8s 162us/step - loss: 1.0772 - accuracy: 0.6167 - val_loss: 1.4014 - val_accuracy: 0.5118\n",
      "Epoch 24/100\n",
      "50000/50000 [==============================] - 8s 161us/step - loss: 1.0656 - accuracy: 0.6191 - val_loss: 1.4079 - val_accuracy: 0.5120\n",
      "Epoch 25/100\n",
      "50000/50000 [==============================] - 8s 162us/step - loss: 1.0484 - accuracy: 0.6277 - val_loss: 1.3769 - val_accuracy: 0.5286\n",
      "Epoch 26/100\n",
      "50000/50000 [==============================] - 8s 161us/step - loss: 1.0363 - accuracy: 0.6281 - val_loss: 1.3915 - val_accuracy: 0.5245\n",
      "Epoch 27/100\n",
      "50000/50000 [==============================] - 8s 163us/step - loss: 1.0128 - accuracy: 0.6385 - val_loss: 1.3876 - val_accuracy: 0.5260\n",
      "Epoch 28/100\n",
      "50000/50000 [==============================] - 8s 161us/step - loss: 1.0012 - accuracy: 0.6436 - val_loss: 1.4128 - val_accuracy: 0.5212\n",
      "Epoch 29/100\n",
      "50000/50000 [==============================] - 8s 164us/step - loss: 0.9724 - accuracy: 0.6535 - val_loss: 1.4125 - val_accuracy: 0.5243\n",
      "Epoch 30/100\n",
      "50000/50000 [==============================] - 8s 161us/step - loss: 0.9718 - accuracy: 0.6539 - val_loss: 1.4159 - val_accuracy: 0.5258\n",
      "Epoch 31/100\n",
      "50000/50000 [==============================] - 8s 164us/step - loss: 0.9425 - accuracy: 0.6632 - val_loss: 1.4159 - val_accuracy: 0.5271\n",
      "Epoch 32/100\n",
      "50000/50000 [==============================] - 8s 160us/step - loss: 0.9311 - accuracy: 0.6674 - val_loss: 1.4533 - val_accuracy: 0.5202\n",
      "Epoch 33/100\n",
      "50000/50000 [==============================] - 8s 163us/step - loss: 0.9114 - accuracy: 0.6726 - val_loss: 1.4900 - val_accuracy: 0.5200\n",
      "Epoch 34/100\n",
      "50000/50000 [==============================] - 8s 161us/step - loss: 0.9033 - accuracy: 0.6777 - val_loss: 1.5133 - val_accuracy: 0.5123\n",
      "Epoch 35/100\n",
      "50000/50000 [==============================] - 8s 163us/step - loss: 0.8785 - accuracy: 0.6863 - val_loss: 1.5166 - val_accuracy: 0.5140\n",
      "Epoch 36/100\n",
      "50000/50000 [==============================] - 8s 160us/step - loss: 0.8597 - accuracy: 0.6913 - val_loss: 1.4810 - val_accuracy: 0.5194\n",
      "Epoch 37/100\n",
      "50000/50000 [==============================] - 8s 162us/step - loss: 0.8540 - accuracy: 0.6949 - val_loss: 1.5133 - val_accuracy: 0.5142\n",
      "Epoch 38/100\n",
      "50000/50000 [==============================] - 8s 160us/step - loss: 0.8418 - accuracy: 0.6990 - val_loss: 1.5399 - val_accuracy: 0.5200\n",
      "Epoch 39/100\n",
      "50000/50000 [==============================] - 8s 162us/step - loss: 0.8201 - accuracy: 0.7057 - val_loss: 1.5338 - val_accuracy: 0.5209\n",
      "Epoch 40/100\n",
      "50000/50000 [==============================] - 8s 162us/step - loss: 0.8069 - accuracy: 0.7110 - val_loss: 1.5117 - val_accuracy: 0.5325\n",
      "Epoch 41/100\n",
      "50000/50000 [==============================] - 8s 162us/step - loss: 0.7825 - accuracy: 0.7208 - val_loss: 1.5453 - val_accuracy: 0.5278\n",
      "Epoch 42/100\n",
      "50000/50000 [==============================] - 8s 160us/step - loss: 0.7760 - accuracy: 0.7228 - val_loss: 1.5982 - val_accuracy: 0.5222\n",
      "Epoch 43/100\n",
      "50000/50000 [==============================] - 8s 163us/step - loss: 0.7609 - accuracy: 0.7291 - val_loss: 1.5924 - val_accuracy: 0.5203\n",
      "Epoch 44/100\n",
      "50000/50000 [==============================] - 8s 160us/step - loss: 0.7421 - accuracy: 0.7369 - val_loss: 1.6301 - val_accuracy: 0.5193\n",
      "Epoch 45/100\n",
      "50000/50000 [==============================] - 8s 162us/step - loss: 0.7428 - accuracy: 0.7330 - val_loss: 1.6780 - val_accuracy: 0.5104\n",
      "Epoch 46/100\n",
      "50000/50000 [==============================] - 8s 160us/step - loss: 0.7152 - accuracy: 0.7462 - val_loss: 1.6829 - val_accuracy: 0.5130\n",
      "Epoch 47/100\n",
      "50000/50000 [==============================] - 8s 163us/step - loss: 0.7103 - accuracy: 0.7461 - val_loss: 1.6670 - val_accuracy: 0.5248\n",
      "Epoch 48/100\n",
      "50000/50000 [==============================] - 8s 160us/step - loss: 0.7034 - accuracy: 0.7486 - val_loss: 1.6879 - val_accuracy: 0.5238\n",
      "Epoch 49/100\n",
      "50000/50000 [==============================] - 8s 163us/step - loss: 0.6801 - accuracy: 0.7574 - val_loss: 1.7260 - val_accuracy: 0.5128\n",
      "Epoch 50/100\n",
      "50000/50000 [==============================] - 8s 163us/step - loss: 0.6674 - accuracy: 0.7613 - val_loss: 1.7063 - val_accuracy: 0.5268\n",
      "Epoch 51/100\n",
      "50000/50000 [==============================] - 8s 162us/step - loss: 0.6589 - accuracy: 0.7655 - val_loss: 1.7349 - val_accuracy: 0.5192\n",
      "Epoch 52/100\n",
      "50000/50000 [==============================] - 8s 160us/step - loss: 0.6604 - accuracy: 0.7625 - val_loss: 1.8116 - val_accuracy: 0.5091\n",
      "Epoch 53/100\n",
      "50000/50000 [==============================] - 8s 163us/step - loss: 0.6393 - accuracy: 0.7713 - val_loss: 1.8504 - val_accuracy: 0.5146\n"
     ]
    },
    {
     "name": "stdout",
     "output_type": "stream",
     "text": [
      "Epoch 54/100\n",
      "50000/50000 [==============================] - 8s 160us/step - loss: 0.6295 - accuracy: 0.7742 - val_loss: 1.8347 - val_accuracy: 0.5137\n",
      "Epoch 55/100\n",
      "50000/50000 [==============================] - 8s 162us/step - loss: 0.6057 - accuracy: 0.7849 - val_loss: 1.8668 - val_accuracy: 0.5188\n",
      "Epoch 56/100\n",
      "50000/50000 [==============================] - 8s 161us/step - loss: 0.6214 - accuracy: 0.7774 - val_loss: 1.8153 - val_accuracy: 0.5168\n",
      "Epoch 57/100\n",
      "50000/50000 [==============================] - 8s 164us/step - loss: 0.5862 - accuracy: 0.7909 - val_loss: 1.9011 - val_accuracy: 0.5165\n",
      "Epoch 58/100\n",
      "50000/50000 [==============================] - 8s 161us/step - loss: 0.5786 - accuracy: 0.7931 - val_loss: 1.9819 - val_accuracy: 0.5099\n",
      "Epoch 59/100\n",
      "50000/50000 [==============================] - 8s 164us/step - loss: 0.5718 - accuracy: 0.7969 - val_loss: 1.9668 - val_accuracy: 0.5087\n",
      "Epoch 60/100\n",
      "50000/50000 [==============================] - 8s 161us/step - loss: 0.5562 - accuracy: 0.8028 - val_loss: 2.0147 - val_accuracy: 0.5108\n",
      "Epoch 61/100\n",
      "50000/50000 [==============================] - 8s 164us/step - loss: 0.5585 - accuracy: 0.7995 - val_loss: 1.9865 - val_accuracy: 0.5074\n",
      "Epoch 62/100\n",
      "50000/50000 [==============================] - 8s 161us/step - loss: 0.5508 - accuracy: 0.8026 - val_loss: 2.0348 - val_accuracy: 0.5061\n",
      "Epoch 63/100\n",
      "50000/50000 [==============================] - 8s 163us/step - loss: 0.5364 - accuracy: 0.8079 - val_loss: 2.0702 - val_accuracy: 0.5112\n",
      "Epoch 64/100\n",
      "50000/50000 [==============================] - 8s 162us/step - loss: 0.5146 - accuracy: 0.8165 - val_loss: 2.0560 - val_accuracy: 0.5124\n",
      "Epoch 65/100\n",
      "50000/50000 [==============================] - 8s 164us/step - loss: 0.5134 - accuracy: 0.8172 - val_loss: 2.0901 - val_accuracy: 0.5138\n",
      "Epoch 66/100\n",
      "50000/50000 [==============================] - 8s 160us/step - loss: 0.5057 - accuracy: 0.8182 - val_loss: 2.0954 - val_accuracy: 0.5175\n",
      "Epoch 67/100\n",
      "50000/50000 [==============================] - 8s 161us/step - loss: 0.5165 - accuracy: 0.8146 - val_loss: 2.1588 - val_accuracy: 0.5071\n",
      "Epoch 68/100\n",
      "50000/50000 [==============================] - 8s 159us/step - loss: 0.4887 - accuracy: 0.8244 - val_loss: 2.1874 - val_accuracy: 0.5067\n",
      "Epoch 69/100\n",
      "50000/50000 [==============================] - 8s 162us/step - loss: 0.4766 - accuracy: 0.8302 - val_loss: 2.1812 - val_accuracy: 0.5132\n",
      "Epoch 70/100\n",
      "50000/50000 [==============================] - 8s 161us/step - loss: 0.4878 - accuracy: 0.8245 - val_loss: 2.2266 - val_accuracy: 0.5108\n",
      "Epoch 71/100\n",
      "50000/50000 [==============================] - 8s 163us/step - loss: 0.4590 - accuracy: 0.8377 - val_loss: 2.2574 - val_accuracy: 0.5085\n",
      "Epoch 72/100\n",
      "50000/50000 [==============================] - 8s 160us/step - loss: 0.4597 - accuracy: 0.8349 - val_loss: 2.2799 - val_accuracy: 0.5046\n",
      "Epoch 73/100\n",
      "50000/50000 [==============================] - 8s 162us/step - loss: 0.4609 - accuracy: 0.8339 - val_loss: 2.3084 - val_accuracy: 0.5081\n",
      "Epoch 74/100\n",
      "50000/50000 [==============================] - 8s 164us/step - loss: 0.4539 - accuracy: 0.8369 - val_loss: 2.3863 - val_accuracy: 0.5001\n",
      "Epoch 75/100\n",
      "50000/50000 [==============================] - 8s 162us/step - loss: 0.4276 - accuracy: 0.8477 - val_loss: 2.5157 - val_accuracy: 0.5029\n",
      "Epoch 76/100\n",
      "50000/50000 [==============================] - 8s 160us/step - loss: 0.4353 - accuracy: 0.8438 - val_loss: 2.4103 - val_accuracy: 0.5060\n",
      "Epoch 77/100\n",
      "50000/50000 [==============================] - 8s 164us/step - loss: 0.4243 - accuracy: 0.8471 - val_loss: 2.4538 - val_accuracy: 0.5055\n",
      "Epoch 78/100\n",
      "50000/50000 [==============================] - 8s 160us/step - loss: 0.4265 - accuracy: 0.8484 - val_loss: 2.4618 - val_accuracy: 0.5115\n",
      "Epoch 79/100\n",
      "50000/50000 [==============================] - 8s 164us/step - loss: 0.4150 - accuracy: 0.8505 - val_loss: 2.5270 - val_accuracy: 0.5081\n",
      "Epoch 80/100\n",
      "50000/50000 [==============================] - 8s 161us/step - loss: 0.3929 - accuracy: 0.8584 - val_loss: 2.5442 - val_accuracy: 0.5022\n",
      "Epoch 81/100\n",
      "50000/50000 [==============================] - 8s 162us/step - loss: 0.4003 - accuracy: 0.8560 - val_loss: 2.5573 - val_accuracy: 0.5084\n",
      "Epoch 82/100\n",
      "50000/50000 [==============================] - 8s 160us/step - loss: 0.4052 - accuracy: 0.8549 - val_loss: 2.5050 - val_accuracy: 0.5035\n",
      "Epoch 83/100\n",
      "50000/50000 [==============================] - 8s 162us/step - loss: 0.4000 - accuracy: 0.8564 - val_loss: 2.6529 - val_accuracy: 0.5105\n",
      "Epoch 84/100\n",
      "50000/50000 [==============================] - 8s 161us/step - loss: 0.3768 - accuracy: 0.8650 - val_loss: 2.7018 - val_accuracy: 0.4987\n",
      "Epoch 85/100\n",
      "50000/50000 [==============================] - 8s 166us/step - loss: 0.3671 - accuracy: 0.8689 - val_loss: 2.6719 - val_accuracy: 0.5087\n",
      "Epoch 86/100\n",
      "50000/50000 [==============================] - 8s 161us/step - loss: 0.3693 - accuracy: 0.8666 - val_loss: 2.7286 - val_accuracy: 0.5054\n",
      "Epoch 87/100\n",
      "50000/50000 [==============================] - 8s 162us/step - loss: 0.3613 - accuracy: 0.8699 - val_loss: 2.8199 - val_accuracy: 0.5008\n",
      "Epoch 88/100\n",
      "50000/50000 [==============================] - 8s 160us/step - loss: 0.3477 - accuracy: 0.8748 - val_loss: 2.7163 - val_accuracy: 0.5113\n",
      "Epoch 89/100\n",
      "50000/50000 [==============================] - 8s 162us/step - loss: 0.3424 - accuracy: 0.8778 - val_loss: 2.8036 - val_accuracy: 0.5057\n",
      "Epoch 90/100\n",
      "50000/50000 [==============================] - 8s 159us/step - loss: 0.3495 - accuracy: 0.8748 - val_loss: 2.8236 - val_accuracy: 0.5069\n",
      "Epoch 91/100\n",
      "50000/50000 [==============================] - 8s 163us/step - loss: 0.3338 - accuracy: 0.8801 - val_loss: 2.8086 - val_accuracy: 0.5129\n",
      "Epoch 92/100\n",
      "50000/50000 [==============================] - 8s 160us/step - loss: 0.3536 - accuracy: 0.8722 - val_loss: 2.8994 - val_accuracy: 0.5071\n",
      "Epoch 93/100\n",
      "50000/50000 [==============================] - 8s 163us/step - loss: 0.3618 - accuracy: 0.8699 - val_loss: 2.9043 - val_accuracy: 0.5030\n",
      "Epoch 94/100\n",
      "50000/50000 [==============================] - 8s 159us/step - loss: 0.3360 - accuracy: 0.8791 - val_loss: 2.9177 - val_accuracy: 0.5063\n",
      "Epoch 95/100\n",
      "50000/50000 [==============================] - 8s 164us/step - loss: 0.3427 - accuracy: 0.8764 - val_loss: 3.0047 - val_accuracy: 0.5057\n",
      "Epoch 96/100\n",
      "50000/50000 [==============================] - 8s 160us/step - loss: 0.3284 - accuracy: 0.8809 - val_loss: 2.9420 - val_accuracy: 0.5032\n",
      "Epoch 97/100\n",
      "50000/50000 [==============================] - 8s 163us/step - loss: 0.3259 - accuracy: 0.8822 - val_loss: 2.9683 - val_accuracy: 0.5052\n",
      "Epoch 98/100\n",
      "50000/50000 [==============================] - 8s 163us/step - loss: 0.3131 - accuracy: 0.8879 - val_loss: 2.9376 - val_accuracy: 0.4997\n",
      "Epoch 99/100\n",
      "50000/50000 [==============================] - 8s 163us/step - loss: 0.3130 - accuracy: 0.8864 - val_loss: 3.0244 - val_accuracy: 0.5061\n",
      "Epoch 100/100\n",
      "50000/50000 [==============================] - 8s 160us/step - loss: 0.3230 - accuracy: 0.8846 - val_loss: 3.0934 - val_accuracy: 0.5044\n"
     ]
    },
    {
     "data": {
      "text/plain": [
       "<keras.callbacks.callbacks.History at 0x2488dc4f408>"
      ]
     },
     "execution_count": 7,
     "metadata": {},
     "output_type": "execute_result"
    }
   ],
   "source": [
    "# 訓練模型並檢視驗證集的結果\n",
    "model.fit(x_train, y_train, \n",
    "          epochs=100, \n",
    "          batch_size=256, \n",
    "          validation_data=(x_test, y_test), \n",
    "          shuffle=True)"
   ]
  },
  {
   "cell_type": "code",
   "execution_count": 8,
   "metadata": {},
   "outputs": [
    {
     "data": {
      "image/png": "[encoded data removed]",
      "text/plain": [
       "<Figure size 432x288 with 1 Axes>"
      ]
     },
     "metadata": {
      "needs_background": "light"
     },
     "output_type": "display_data"
    },
    {
     "data": {
      "image/png": "[encoded data removed]",
      "text/plain": [
       "<Figure size 432x288 with 1 Axes>"
      ]
     },
     "metadata": {
      "needs_background": "light"
     },
     "output_type": "display_data"
    }
   ],
   "source": [
    "# 以視覺畫方式檢視訓練過程\n",
    "import matplotlib.pyplot as plt\n",
    "train_loss = model.history.history[\"loss\"]\n",
    "valid_loss = model.history.history[\"val_loss\"]\n",
    "\n",
    "train_acc = model.history.history[\"accuracy\"]\n",
    "valid_acc = model.history.history[\"val_accuracy\"]\n",
    "\n",
    "plt.plot(range(len(train_loss)), train_loss, label=\"train loss\")\n",
    "plt.plot(range(len(valid_loss)), valid_loss, label=\"valid loss\")\n",
    "plt.legend()\n",
    "plt.title(\"Loss\")\n",
    "plt.show()\n",
    "\n",
    "plt.plot(range(len(train_acc)), train_acc, label=\"train accuracy\")\n",
    "plt.plot(range(len(valid_acc)), valid_acc, label=\"valid accuracy\")\n",
    "plt.legend()\n",
    "plt.title(\"Accuracy\")\n",
    "plt.show()"
   ]
  },
  {
   "cell_type": "markdown",
   "metadata": {},
   "source": [
    "## 作業\n",
    "1. 請將 Epoch 加到 500 個，並觀察 learning curve 的走勢\n",
    "2. 請將 Optimizer 換成 SGD，並觀察 learning curve 的走勢"
   ]
  }
 ],
 "metadata": {
  "kernelspec": {
   "display_name": "Python 3",
   "language": "python",
   "name": "python3"
  },
  "language_info": {
   "codemirror_mode": {
    "name": "ipython",
    "version": 3
   },
   "file_extension": ".py",
   "mimetype": "text/x-python",
   "name": "python",
   "nbconvert_exporter": "python",
   "pygments_lexer": "ipython3",
   "version": "3.7.6"
  }
 },
 "nbformat": 4,
 "nbformat_minor": 2
}
