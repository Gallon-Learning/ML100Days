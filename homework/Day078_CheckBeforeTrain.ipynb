{
 "cells": [
  {
   "cell_type": "markdown",
   "metadata": {},
   "source": [
    "## 範例重點\n",
    "### 學習在模型開始前檢查各個環節\n",
    "1. 是否有 GPU 資源\n",
    "2. 將前處理轉為函式，統一處理訓練、驗證與測試集\n",
    "3. 將超參數變數化，易於重複使用函式、模型等"
   ]
  },
  {
   "cell_type": "code",
   "execution_count": null,
   "metadata": {},
   "outputs": [],
   "source": [
    "## 確認硬體資源 (如果你是在 Linux, 若是在 Windows, 請參考 https://blog.csdn.net/idwtwt/article/details/78017565)\n",
    "!nvidia-smi"
   ]
  },
  {
   "cell_type": "code",
   "execution_count": 2,
   "metadata": {},
   "outputs": [],
   "source": [
    "import os\n",
    "import keras\n",
    "\n",
    "# 本範例不需使用 GPU, 將 GPU 設定為 \"無\"\n",
    "os.environ[\"CUDA_VISIBLE_DEVICES\"] = \"\""
   ]
  },
  {
   "cell_type": "code",
   "execution_count": 3,
   "metadata": {},
   "outputs": [],
   "source": [
    "# 從 Keras 的內建功能中，取得 train 與 test 資料集\n",
    "train, test = keras.datasets.cifar10.load_data()"
   ]
  },
  {
   "cell_type": "code",
   "execution_count": 15,
   "metadata": {},
   "outputs": [],
   "source": [
    "## 資料前處理\n",
    "def preproc_x(x, flatten=True):\n",
    "    x = x / 255.\n",
    "    if flatten:\n",
    "        x = x.reshape((len(x), -1))\n",
    "    return x\n",
    "\n",
    "def preproc_y(y, num_classes=10):\n",
    "    if y.shape[-1] == 1:\n",
    "        y = keras.utils.to_categorical(y, num_classes)\n",
    "    return y    "
   ]
  },
  {
   "cell_type": "code",
   "execution_count": 16,
   "metadata": {},
   "outputs": [
    {
     "ename": "NameError",
     "evalue": "name 'np' is not defined",
     "output_type": "error",
     "traceback": [
      "\u001b[1;31m---------------------------------------------------------------------------\u001b[0m",
      "\u001b[1;31mNameError\u001b[0m                                 Traceback (most recent call last)",
      "\u001b[1;32m<ipython-input-16-518cf2855962>\u001b[0m in \u001b[0;36m<module>\u001b[1;34m\u001b[0m\n\u001b[0;32m      3\u001b[0m \u001b[1;33m\u001b[0m\u001b[0m\n\u001b[0;32m      4\u001b[0m \u001b[1;31m# 資料前處理 - X 標準化\u001b[0m\u001b[1;33m\u001b[0m\u001b[1;33m\u001b[0m\u001b[1;33m\u001b[0m\u001b[0m\n\u001b[1;32m----> 5\u001b[1;33m \u001b[0mx_train\u001b[0m \u001b[1;33m=\u001b[0m \u001b[0mpreproc_x\u001b[0m\u001b[1;33m(\u001b[0m\u001b[0mx_train\u001b[0m\u001b[1;33m)\u001b[0m\u001b[1;33m\u001b[0m\u001b[1;33m\u001b[0m\u001b[0m\n\u001b[0m\u001b[0;32m      6\u001b[0m \u001b[0mx_test\u001b[0m \u001b[1;33m=\u001b[0m \u001b[0mpreproc_x\u001b[0m\u001b[1;33m(\u001b[0m\u001b[0mx_test\u001b[0m\u001b[1;33m)\u001b[0m\u001b[1;33m\u001b[0m\u001b[1;33m\u001b[0m\u001b[0m\n\u001b[0;32m      7\u001b[0m \u001b[1;33m\u001b[0m\u001b[0m\n",
      "\u001b[1;32m<ipython-input-15-d7e3169e5f73>\u001b[0m in \u001b[0;36mpreproc_x\u001b[1;34m(x, flatten)\u001b[0m\n\u001b[0;32m      3\u001b[0m     \u001b[0mx\u001b[0m \u001b[1;33m=\u001b[0m \u001b[0mx\u001b[0m \u001b[1;33m/\u001b[0m \u001b[1;36m255.\u001b[0m\u001b[1;33m\u001b[0m\u001b[1;33m\u001b[0m\u001b[0m\n\u001b[0;32m      4\u001b[0m     \u001b[1;32mif\u001b[0m \u001b[0mflatten\u001b[0m\u001b[1;33m:\u001b[0m\u001b[1;33m\u001b[0m\u001b[1;33m\u001b[0m\u001b[0m\n\u001b[1;32m----> 5\u001b[1;33m         \u001b[0mx\u001b[0m \u001b[1;33m=\u001b[0m \u001b[0mnp\u001b[0m\u001b[1;33m.\u001b[0m\u001b[0marray\u001b[0m\u001b[1;33m(\u001b[0m\u001b[0mx\u001b[0m\u001b[1;33m)\u001b[0m\u001b[1;33m.\u001b[0m\u001b[0mreshape\u001b[0m\u001b[1;33m(\u001b[0m\u001b[1;33m(\u001b[0m\u001b[0mlen\u001b[0m\u001b[1;33m(\u001b[0m\u001b[0mx\u001b[0m\u001b[1;33m)\u001b[0m\u001b[1;33m,\u001b[0m \u001b[1;33m-\u001b[0m\u001b[1;36m1\u001b[0m\u001b[1;33m)\u001b[0m\u001b[1;33m)\u001b[0m\u001b[1;33m\u001b[0m\u001b[1;33m\u001b[0m\u001b[0m\n\u001b[0m\u001b[0;32m      6\u001b[0m     \u001b[1;32mreturn\u001b[0m \u001b[0mx\u001b[0m\u001b[1;33m\u001b[0m\u001b[1;33m\u001b[0m\u001b[0m\n\u001b[0;32m      7\u001b[0m \u001b[1;33m\u001b[0m\u001b[0m\n",
      "\u001b[1;31mNameError\u001b[0m: name 'np' is not defined"
     ]
    }
   ],
   "source": [
    "x_train, y_train = train\n",
    "x_test, y_test = test\n",
    "\n",
    "# 資料前處理 - X 標準化\n",
    "x_train = preproc_x(x_train)\n",
    "x_test = preproc_x(x_test)\n",
    "\n",
    "# 資料前處理 -Y 轉成 onehot\n",
    "y_train = preproc_y(y_train)\n",
    "y_test = preproc_y(y_test)"
   ]
  },
  {
   "cell_type": "code",
   "execution_count": 8,
   "metadata": {},
   "outputs": [],
   "source": [
    "def build_mlp(input_shape, output_units=10, num_neurons=[512, 256, 128]):\n",
    "    input_layer = keras.layers.Input(input_shape)\n",
    "    \n",
    "    for i, n_units in enumerate(num_neurons):\n",
    "        if i == 0:\n",
    "            x = keras.layers.Dense(units=n_units, activation=\"relu\", name=\"hidden_layer\"+str(i+1))(input_layer)\n",
    "        else:\n",
    "            x = keras.layers.Dense(units=n_units, activation=\"relu\", name=\"hidden_layer\"+str(i+1))(x)\n",
    "    \n",
    "    out = keras.layers.Dense(units=output_units, activation=\"softmax\", name=\"output\")(x)\n",
    "    \n",
    "    model = keras.models.Model(inputs=[input_layer], outputs=[out])\n",
    "    return model"
   ]
  },
  {
   "cell_type": "code",
   "execution_count": 9,
   "metadata": {},
   "outputs": [
    {
     "name": "stdout",
     "output_type": "stream",
     "text": [
      "Model: \"model_1\"\n",
      "_________________________________________________________________\n",
      "Layer (type)                 Output Shape              Param #   \n",
      "=================================================================\n",
      "input_1 (InputLayer)         (None, 3072)              0         \n",
      "_________________________________________________________________\n",
      "hidden_layer1 (Dense)        (None, 512)               1573376   \n",
      "_________________________________________________________________\n",
      "hidden_layer2 (Dense)        (None, 256)               131328    \n",
      "_________________________________________________________________\n",
      "hidden_layer3 (Dense)        (None, 128)               32896     \n",
      "_________________________________________________________________\n",
      "output (Dense)               (None, 10)                1290      \n",
      "=================================================================\n",
      "Total params: 1,738,890\n",
      "Trainable params: 1,738,890\n",
      "Non-trainable params: 0\n",
      "_________________________________________________________________\n"
     ]
    }
   ],
   "source": [
    "model = build_mlp(input_shape=x_train.shape[1:])\n",
    "model.summary()"
   ]
  },
  {
   "cell_type": "code",
   "execution_count": 10,
   "metadata": {},
   "outputs": [],
   "source": [
    "## 超參數設定\n",
    "LEARNING_RATE = 0.001\n",
    "EPOCHS = 100\n",
    "BATCH_SIZE = 256"
   ]
  },
  {
   "cell_type": "code",
   "execution_count": 11,
   "metadata": {},
   "outputs": [],
   "source": [
    "optimizer = keras.optimizers.Adam(lr=LEARNING_RATE)\n",
    "model.compile(loss=\"categorical_crossentropy\", metrics=[\"accuracy\"], optimizer=optimizer)"
   ]
  },
  {
   "cell_type": "code",
   "execution_count": 12,
   "metadata": {},
   "outputs": [
    {
     "name": "stdout",
     "output_type": "stream",
     "text": [
      "WARNING:tensorflow:From C:\\ProgramData\\Anaconda3\\lib\\site-packages\\keras\\backend\\tensorflow_backend.py:422: The name tf.global_variables is deprecated. Please use tf.compat.v1.global_variables instead.\n",
      "\n",
      "Train on 50000 samples, validate on 10000 samples\n",
      "Epoch 1/100\n",
      "50000/50000 [==============================] - 9s 173us/step - loss: 1.9103 - accuracy: 0.3052 - val_loss: 1.7787 - val_accuracy: 0.3618\n",
      "Epoch 2/100\n",
      "50000/50000 [==============================] - 8s 161us/step - loss: 1.7057 - accuracy: 0.3881 - val_loss: 1.6228 - val_accuracy: 0.4253\n",
      "Epoch 3/100\n",
      "50000/50000 [==============================] - 8s 168us/step - loss: 1.6062 - accuracy: 0.4236 - val_loss: 1.5907 - val_accuracy: 0.4339\n",
      "Epoch 4/100\n",
      "50000/50000 [==============================] - 8s 165us/step - loss: 1.5442 - accuracy: 0.4484 - val_loss: 1.5123 - val_accuracy: 0.4576\n",
      "Epoch 5/100\n",
      "50000/50000 [==============================] - 9s 179us/step - loss: 1.4933 - accuracy: 0.4654 - val_loss: 1.5215 - val_accuracy: 0.4549\n",
      "Epoch 6/100\n",
      "50000/50000 [==============================] - 8s 165us/step - loss: 1.4572 - accuracy: 0.4822 - val_loss: 1.4520 - val_accuracy: 0.4861\n",
      "Epoch 7/100\n",
      "50000/50000 [==============================] - 8s 169us/step - loss: 1.4187 - accuracy: 0.4925 - val_loss: 1.4350 - val_accuracy: 0.4838\n",
      "Epoch 8/100\n",
      "50000/50000 [==============================] - 8s 166us/step - loss: 1.3917 - accuracy: 0.5061 - val_loss: 1.4176 - val_accuracy: 0.4987\n",
      "Epoch 9/100\n",
      "50000/50000 [==============================] - 8s 168us/step - loss: 1.3716 - accuracy: 0.5105 - val_loss: 1.4297 - val_accuracy: 0.4837\n",
      "Epoch 10/100\n",
      "50000/50000 [==============================] - 8s 168us/step - loss: 1.3460 - accuracy: 0.5199 - val_loss: 1.4143 - val_accuracy: 0.4992\n",
      "Epoch 11/100\n",
      "50000/50000 [==============================] - 8s 170us/step - loss: 1.3090 - accuracy: 0.5358 - val_loss: 1.4088 - val_accuracy: 0.4993\n",
      "Epoch 12/100\n",
      "50000/50000 [==============================] - 8s 167us/step - loss: 1.2926 - accuracy: 0.5397 - val_loss: 1.4006 - val_accuracy: 0.4980\n",
      "Epoch 13/100\n",
      "50000/50000 [==============================] - 8s 165us/step - loss: 1.2712 - accuracy: 0.5462 - val_loss: 1.3808 - val_accuracy: 0.5100\n",
      "Epoch 14/100\n",
      "50000/50000 [==============================] - 8s 167us/step - loss: 1.2604 - accuracy: 0.5511 - val_loss: 1.3701 - val_accuracy: 0.5208\n",
      "Epoch 15/100\n",
      "50000/50000 [==============================] - 8s 164us/step - loss: 1.2266 - accuracy: 0.5615 - val_loss: 1.3733 - val_accuracy: 0.5178\n",
      "Epoch 16/100\n",
      "50000/50000 [==============================] - 8s 167us/step - loss: 1.2041 - accuracy: 0.5723 - val_loss: 1.3903 - val_accuracy: 0.5128\n",
      "Epoch 17/100\n",
      "50000/50000 [==============================] - 8s 164us/step - loss: 1.1823 - accuracy: 0.5776 - val_loss: 1.3679 - val_accuracy: 0.5153\n",
      "Epoch 18/100\n",
      "50000/50000 [==============================] - 8s 170us/step - loss: 1.1687 - accuracy: 0.5807 - val_loss: 1.3729 - val_accuracy: 0.5247\n",
      "Epoch 19/100\n",
      "50000/50000 [==============================] - 8s 164us/step - loss: 1.1583 - accuracy: 0.5863 - val_loss: 1.3677 - val_accuracy: 0.5223\n",
      "Epoch 20/100\n",
      "50000/50000 [==============================] - 8s 167us/step - loss: 1.1277 - accuracy: 0.5972 - val_loss: 1.3932 - val_accuracy: 0.5132\n",
      "Epoch 21/100\n",
      "50000/50000 [==============================] - 8s 164us/step - loss: 1.1125 - accuracy: 0.6032 - val_loss: 1.3822 - val_accuracy: 0.5196\n",
      "Epoch 22/100\n",
      "50000/50000 [==============================] - 8s 167us/step - loss: 1.0874 - accuracy: 0.6126 - val_loss: 1.4260 - val_accuracy: 0.5104\n",
      "Epoch 23/100\n",
      "50000/50000 [==============================] - 8s 164us/step - loss: 1.0786 - accuracy: 0.6144 - val_loss: 1.4161 - val_accuracy: 0.5118\n",
      "Epoch 24/100\n",
      "50000/50000 [==============================] - 8s 170us/step - loss: 1.0489 - accuracy: 0.6259 - val_loss: 1.4171 - val_accuracy: 0.5171\n",
      "Epoch 25/100\n",
      "50000/50000 [==============================] - 8s 166us/step - loss: 1.0431 - accuracy: 0.6267 - val_loss: 1.3849 - val_accuracy: 0.5224\n",
      "Epoch 26/100\n",
      "50000/50000 [==============================] - 9s 172us/step - loss: 1.0160 - accuracy: 0.6364 - val_loss: 1.3827 - val_accuracy: 0.5283\n",
      "Epoch 27/100\n",
      "50000/50000 [==============================] - 8s 166us/step - loss: 1.0019 - accuracy: 0.6414 - val_loss: 1.4284 - val_accuracy: 0.5158\n",
      "Epoch 28/100\n",
      "50000/50000 [==============================] - 8s 167us/step - loss: 0.9760 - accuracy: 0.6529 - val_loss: 1.4137 - val_accuracy: 0.5212\n",
      "Epoch 29/100\n",
      "50000/50000 [==============================] - 8s 168us/step - loss: 0.9645 - accuracy: 0.6524 - val_loss: 1.4238 - val_accuracy: 0.5296\n",
      "Epoch 30/100\n",
      "50000/50000 [==============================] - 9s 170us/step - loss: 0.9476 - accuracy: 0.6605 - val_loss: 1.4484 - val_accuracy: 0.5246\n",
      "Epoch 31/100\n",
      "50000/50000 [==============================] - 8s 164us/step - loss: 0.9222 - accuracy: 0.6703 - val_loss: 1.4357 - val_accuracy: 0.5273\n",
      "Epoch 32/100\n",
      "50000/50000 [==============================] - 8s 169us/step - loss: 0.9026 - accuracy: 0.6790 - val_loss: 1.4423 - val_accuracy: 0.5276\n",
      "Epoch 33/100\n",
      "50000/50000 [==============================] - 8s 166us/step - loss: 0.8994 - accuracy: 0.6778 - val_loss: 1.4701 - val_accuracy: 0.5195\n",
      "Epoch 34/100\n",
      "50000/50000 [==============================] - 8s 167us/step - loss: 0.8666 - accuracy: 0.6913 - val_loss: 1.5026 - val_accuracy: 0.5217\n",
      "Epoch 35/100\n",
      "50000/50000 [==============================] - 8s 165us/step - loss: 0.8550 - accuracy: 0.6937 - val_loss: 1.5041 - val_accuracy: 0.5286\n",
      "Epoch 36/100\n",
      "50000/50000 [==============================] - 8s 167us/step - loss: 0.8421 - accuracy: 0.6990 - val_loss: 1.5264 - val_accuracy: 0.5228\n",
      "Epoch 37/100\n",
      "50000/50000 [==============================] - 8s 167us/step - loss: 0.8242 - accuracy: 0.7068 - val_loss: 1.5315 - val_accuracy: 0.5164\n",
      "Epoch 38/100\n",
      "50000/50000 [==============================] - 8s 165us/step - loss: 0.8081 - accuracy: 0.7113 - val_loss: 1.5720 - val_accuracy: 0.5171\n",
      "Epoch 39/100\n",
      "50000/50000 [==============================] - 8s 166us/step - loss: 0.7897 - accuracy: 0.7186 - val_loss: 1.5870 - val_accuracy: 0.5215\n",
      "Epoch 40/100\n",
      "50000/50000 [==============================] - 8s 164us/step - loss: 0.7798 - accuracy: 0.7214 - val_loss: 1.5969 - val_accuracy: 0.5204\n",
      "Epoch 41/100\n",
      "50000/50000 [==============================] - 8s 168us/step - loss: 0.7594 - accuracy: 0.7294 - val_loss: 1.5853 - val_accuracy: 0.5245\n",
      "Epoch 42/100\n",
      "50000/50000 [==============================] - 8s 168us/step - loss: 0.7489 - accuracy: 0.7324 - val_loss: 1.6362 - val_accuracy: 0.5190\n",
      "Epoch 43/100\n",
      "50000/50000 [==============================] - 9s 176us/step - loss: 0.7412 - accuracy: 0.7335 - val_loss: 1.6227 - val_accuracy: 0.5132\n",
      "Epoch 44/100\n",
      "50000/50000 [==============================] - 9s 171us/step - loss: 0.7195 - accuracy: 0.7411 - val_loss: 1.6915 - val_accuracy: 0.5146\n",
      "Epoch 45/100\n",
      "50000/50000 [==============================] - 9s 175us/step - loss: 0.7015 - accuracy: 0.7502 - val_loss: 1.6950 - val_accuracy: 0.5178\n",
      "Epoch 46/100\n",
      "50000/50000 [==============================] - 9s 186us/step - loss: 0.6938 - accuracy: 0.7525 - val_loss: 1.7210 - val_accuracy: 0.5111\n",
      "Epoch 47/100\n",
      "50000/50000 [==============================] - 9s 179us/step - loss: 0.6763 - accuracy: 0.7577 - val_loss: 1.7163 - val_accuracy: 0.5211\n",
      "Epoch 48/100\n",
      "50000/50000 [==============================] - 9s 179us/step - loss: 0.6656 - accuracy: 0.7616 - val_loss: 1.7659 - val_accuracy: 0.5147\n",
      "Epoch 49/100\n",
      "50000/50000 [==============================] - 9s 180us/step - loss: 0.6604 - accuracy: 0.7617 - val_loss: 1.8053 - val_accuracy: 0.5085\n",
      "Epoch 50/100\n",
      "50000/50000 [==============================] - 8s 167us/step - loss: 0.6369 - accuracy: 0.7723 - val_loss: 1.7675 - val_accuracy: 0.5153\n",
      "Epoch 51/100\n",
      "50000/50000 [==============================] - 8s 164us/step - loss: 0.6343 - accuracy: 0.7708 - val_loss: 1.8311 - val_accuracy: 0.5176\n",
      "Epoch 52/100\n",
      "50000/50000 [==============================] - 8s 166us/step - loss: 0.6242 - accuracy: 0.7771 - val_loss: 1.7782 - val_accuracy: 0.5210\n",
      "Epoch 53/100\n",
      "50000/50000 [==============================] - 8s 163us/step - loss: 0.6139 - accuracy: 0.7796 - val_loss: 1.8262 - val_accuracy: 0.5198\n"
     ]
    },
    {
     "name": "stdout",
     "output_type": "stream",
     "text": [
      "Epoch 54/100\n",
      "50000/50000 [==============================] - 8s 167us/step - loss: 0.6047 - accuracy: 0.7836 - val_loss: 1.8445 - val_accuracy: 0.5172\n",
      "Epoch 55/100\n",
      "50000/50000 [==============================] - 8s 163us/step - loss: 0.5899 - accuracy: 0.7879 - val_loss: 1.9107 - val_accuracy: 0.5169\n",
      "Epoch 56/100\n",
      "50000/50000 [==============================] - 8s 166us/step - loss: 0.5780 - accuracy: 0.7927 - val_loss: 1.9130 - val_accuracy: 0.5209\n",
      "Epoch 57/100\n",
      "50000/50000 [==============================] - 8s 163us/step - loss: 0.5620 - accuracy: 0.7976 - val_loss: 1.9402 - val_accuracy: 0.5087\n",
      "Epoch 58/100\n",
      "50000/50000 [==============================] - 8s 167us/step - loss: 0.5470 - accuracy: 0.8037 - val_loss: 1.9408 - val_accuracy: 0.5157\n",
      "Epoch 59/100\n",
      "50000/50000 [==============================] - 8s 167us/step - loss: 0.5370 - accuracy: 0.8071 - val_loss: 2.0481 - val_accuracy: 0.5131\n",
      "Epoch 60/100\n",
      "50000/50000 [==============================] - 8s 167us/step - loss: 0.5431 - accuracy: 0.8045 - val_loss: 2.0708 - val_accuracy: 0.5067\n",
      "Epoch 61/100\n",
      "50000/50000 [==============================] - 8s 164us/step - loss: 0.5370 - accuracy: 0.8058 - val_loss: 2.0436 - val_accuracy: 0.5141\n",
      "Epoch 62/100\n",
      "50000/50000 [==============================] - 8s 167us/step - loss: 0.5082 - accuracy: 0.8184 - val_loss: 2.0843 - val_accuracy: 0.5069\n",
      "Epoch 63/100\n",
      "50000/50000 [==============================] - 8s 164us/step - loss: 0.5142 - accuracy: 0.8141 - val_loss: 2.1938 - val_accuracy: 0.5093\n",
      "Epoch 64/100\n",
      "50000/50000 [==============================] - 8s 169us/step - loss: 0.4963 - accuracy: 0.8217 - val_loss: 2.0866 - val_accuracy: 0.5118\n",
      "Epoch 65/100\n",
      "50000/50000 [==============================] - 8s 164us/step - loss: 0.4866 - accuracy: 0.8241 - val_loss: 2.1464 - val_accuracy: 0.5166\n",
      "Epoch 66/100\n",
      "50000/50000 [==============================] - 8s 166us/step - loss: 0.4818 - accuracy: 0.8282 - val_loss: 2.1501 - val_accuracy: 0.5076\n",
      "Epoch 67/100\n",
      "50000/50000 [==============================] - 8s 163us/step - loss: 0.4789 - accuracy: 0.8267 - val_loss: 2.2409 - val_accuracy: 0.5123\n",
      "Epoch 68/100\n",
      "50000/50000 [==============================] - 8s 166us/step - loss: 0.4624 - accuracy: 0.8339 - val_loss: 2.3200 - val_accuracy: 0.5100\n",
      "Epoch 69/100\n",
      "50000/50000 [==============================] - 8s 164us/step - loss: 0.4523 - accuracy: 0.8380 - val_loss: 2.2198 - val_accuracy: 0.5131\n",
      "Epoch 70/100\n",
      "50000/50000 [==============================] - 8s 166us/step - loss: 0.4351 - accuracy: 0.8433 - val_loss: 2.2958 - val_accuracy: 0.5187\n",
      "Epoch 71/100\n",
      "50000/50000 [==============================] - 8s 165us/step - loss: 0.4400 - accuracy: 0.8408 - val_loss: 2.3481 - val_accuracy: 0.5085\n",
      "Epoch 72/100\n",
      "50000/50000 [==============================] - 8s 167us/step - loss: 0.4336 - accuracy: 0.8450 - val_loss: 2.3788 - val_accuracy: 0.5094\n",
      "Epoch 73/100\n",
      "50000/50000 [==============================] - 8s 165us/step - loss: 0.4191 - accuracy: 0.8496 - val_loss: 2.3671 - val_accuracy: 0.5158\n",
      "Epoch 74/100\n",
      "50000/50000 [==============================] - 8s 168us/step - loss: 0.4169 - accuracy: 0.8505 - val_loss: 2.4096 - val_accuracy: 0.5067\n",
      "Epoch 75/100\n",
      "50000/50000 [==============================] - 8s 165us/step - loss: 0.4238 - accuracy: 0.8475 - val_loss: 2.5537 - val_accuracy: 0.5083\n",
      "Epoch 76/100\n",
      "50000/50000 [==============================] - 8s 167us/step - loss: 0.4032 - accuracy: 0.8551 - val_loss: 2.5018 - val_accuracy: 0.5065\n",
      "Epoch 77/100\n",
      "50000/50000 [==============================] - 8s 166us/step - loss: 0.3982 - accuracy: 0.8577 - val_loss: 2.5868 - val_accuracy: 0.5033\n",
      "Epoch 78/100\n",
      "50000/50000 [==============================] - 8s 166us/step - loss: 0.4102 - accuracy: 0.8524 - val_loss: 2.5646 - val_accuracy: 0.5040\n",
      "Epoch 79/100\n",
      "50000/50000 [==============================] - 8s 166us/step - loss: 0.3841 - accuracy: 0.8624 - val_loss: 2.7033 - val_accuracy: 0.5025\n",
      "Epoch 80/100\n",
      "50000/50000 [==============================] - 9s 171us/step - loss: 0.3768 - accuracy: 0.8647 - val_loss: 2.7081 - val_accuracy: 0.5080\n",
      "Epoch 81/100\n",
      "50000/50000 [==============================] - 8s 166us/step - loss: 0.3691 - accuracy: 0.8682 - val_loss: 2.6790 - val_accuracy: 0.5098\n",
      "Epoch 82/100\n",
      "50000/50000 [==============================] - 8s 163us/step - loss: 0.3663 - accuracy: 0.8697 - val_loss: 2.6363 - val_accuracy: 0.5031\n",
      "Epoch 83/100\n",
      "50000/50000 [==============================] - 8s 167us/step - loss: 0.3789 - accuracy: 0.8638 - val_loss: 2.8367 - val_accuracy: 0.4964\n",
      "Epoch 84/100\n",
      "50000/50000 [==============================] - 8s 165us/step - loss: 0.3763 - accuracy: 0.8648 - val_loss: 2.8727 - val_accuracy: 0.5040\n",
      "Epoch 85/100\n",
      "50000/50000 [==============================] - 8s 168us/step - loss: 0.3402 - accuracy: 0.8790 - val_loss: 2.7774 - val_accuracy: 0.5038\n",
      "Epoch 86/100\n",
      "50000/50000 [==============================] - 8s 163us/step - loss: 0.3443 - accuracy: 0.8765 - val_loss: 2.7605 - val_accuracy: 0.5069\n",
      "Epoch 87/100\n",
      "50000/50000 [==============================] - 8s 167us/step - loss: 0.3298 - accuracy: 0.8803 - val_loss: 2.7735 - val_accuracy: 0.5052\n",
      "Epoch 88/100\n",
      "50000/50000 [==============================] - 8s 166us/step - loss: 0.3384 - accuracy: 0.8777 - val_loss: 2.9071 - val_accuracy: 0.5001\n",
      "Epoch 89/100\n",
      "50000/50000 [==============================] - 9s 186us/step - loss: 0.3546 - accuracy: 0.8714 - val_loss: 2.8884 - val_accuracy: 0.5025\n",
      "Epoch 90/100\n",
      "50000/50000 [==============================] - 8s 164us/step - loss: 0.3284 - accuracy: 0.8813 - val_loss: 3.0010 - val_accuracy: 0.4976\n",
      "Epoch 91/100\n",
      "50000/50000 [==============================] - 8s 168us/step - loss: 0.3044 - accuracy: 0.8921 - val_loss: 3.0005 - val_accuracy: 0.5046\n",
      "Epoch 92/100\n",
      "50000/50000 [==============================] - 8s 167us/step - loss: 0.3449 - accuracy: 0.8762 - val_loss: 3.0546 - val_accuracy: 0.5014\n",
      "Epoch 93/100\n",
      "50000/50000 [==============================] - 8s 166us/step - loss: 0.3218 - accuracy: 0.8837 - val_loss: 3.1556 - val_accuracy: 0.5027\n",
      "Epoch 94/100\n",
      "50000/50000 [==============================] - 8s 163us/step - loss: 0.3055 - accuracy: 0.8917 - val_loss: 3.1310 - val_accuracy: 0.5008\n",
      "Epoch 95/100\n",
      "50000/50000 [==============================] - 8s 167us/step - loss: 0.3256 - accuracy: 0.8830 - val_loss: 3.0870 - val_accuracy: 0.5000\n",
      "Epoch 96/100\n",
      "50000/50000 [==============================] - 8s 163us/step - loss: 0.3093 - accuracy: 0.8898 - val_loss: 3.0941 - val_accuracy: 0.5035\n",
      "Epoch 97/100\n",
      "50000/50000 [==============================] - 9s 171us/step - loss: 0.3081 - accuracy: 0.8881 - val_loss: 3.2193 - val_accuracy: 0.4980\n",
      "Epoch 98/100\n",
      "50000/50000 [==============================] - 8s 169us/step - loss: 0.2986 - accuracy: 0.8922 - val_loss: 3.1406 - val_accuracy: 0.4957\n",
      "Epoch 99/100\n",
      "50000/50000 [==============================] - 8s 166us/step - loss: 0.3045 - accuracy: 0.8885 - val_loss: 3.2734 - val_accuracy: 0.5042\n",
      "Epoch 100/100\n",
      "50000/50000 [==============================] - 8s 165us/step - loss: 0.2919 - accuracy: 0.8950 - val_loss: 3.2985 - val_accuracy: 0.4968\n"
     ]
    },
    {
     "data": {
      "text/plain": [
       "<keras.callbacks.callbacks.History at 0x21a4a362fc8>"
      ]
     },
     "execution_count": 12,
     "metadata": {},
     "output_type": "execute_result"
    }
   ],
   "source": [
    "model.fit(x_train, y_train, \n",
    "          epochs=EPOCHS, \n",
    "          batch_size=BATCH_SIZE, \n",
    "          validation_data=(x_test, y_test), \n",
    "          shuffle=True)"
   ]
  },
  {
   "cell_type": "code",
   "execution_count": 14,
   "metadata": {},
   "outputs": [
    {
     "data": {
      "image/png": "[encoded data removed]",
      "text/plain": [
       "<Figure size 432x288 with 1 Axes>"
      ]
     },
     "metadata": {
      "needs_background": "light"
     },
     "output_type": "display_data"
    },
    {
     "data": {
      "image/png": "[encoded data removed]",
      "text/plain": [
       "<Figure size 432x288 with 1 Axes>"
      ]
     },
     "metadata": {
      "needs_background": "light"
     },
     "output_type": "display_data"
    }
   ],
   "source": [
    "# 訓練模型並檢視驗證集的結果\n",
    "import matplotlib.pyplot as plt\n",
    "\n",
    "train_loss = model.history.history[\"loss\"]\n",
    "valid_loss = model.history.history[\"val_loss\"]\n",
    "\n",
    "train_acc = model.history.history[\"accuracy\"]\n",
    "valid_acc = model.history.history[\"val_accuracy\"]\n",
    "\n",
    "plt.plot(range(len(train_loss)), train_loss, label=\"train loss\")\n",
    "plt.plot(range(len(valid_loss)), valid_loss, label=\"valid loss\")\n",
    "plt.legend()\n",
    "plt.title(\"Loss\")\n",
    "plt.show()\n",
    "\n",
    "plt.plot(range(len(train_acc)), train_acc, label=\"train accuracy\")\n",
    "plt.plot(range(len(valid_acc)), valid_acc, label=\"valid accuracy\")\n",
    "plt.legend()\n",
    "plt.title(\"Accuracy\")\n",
    "plt.show()"
   ]
  },
  {
   "cell_type": "markdown",
   "metadata": {},
   "source": [
    "## Work\n",
    "1. 請嘗試將 preproc_x 替換成以每筆資料的 min/max 進行標準化至 -1 ~ 1 間，再進行訓練\n",
    "2. 請嘗試將 mlp 疊更深 (e.g 5~10 層)，進行訓練後觀察 learning curve 的走勢\n",
    "3. (optional) 請改用 GPU 進行訓練 (如果你有 GPU 的話)，比較使用 CPU 與 GPU 的訓練速度"
   ]
  }
 ],
 "metadata": {
  "kernelspec": {
   "display_name": "Python 3",
   "language": "python",
   "name": "python3"
  },
  "language_info": {
   "codemirror_mode": {
    "name": "ipython",
    "version": 3
   },
   "file_extension": ".py",
   "mimetype": "text/x-python",
   "name": "python",
   "nbconvert_exporter": "python",
   "pygments_lexer": "ipython3",
   "version": "3.7.6"
  }
 },
 "nbformat": 4,
 "nbformat_minor": 2
}
