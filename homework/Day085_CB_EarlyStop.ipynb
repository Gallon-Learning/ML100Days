{
 "cells": [
  {
   "cell_type": "markdown",
   "metadata": {},
   "source": [
    "## 範例重點\n",
    "* 學習如何在 keras 中加入 EarlyStop\n",
    "* 知道如何設定監控目標\n",
    "* 比較有無 earlystopping 對 validation 的影響"
   ]
  },
  {
   "cell_type": "code",
   "execution_count": 2,
   "metadata": {},
   "outputs": [],
   "source": [
    "import os\n",
    "import keras\n",
    "\n",
    "# 本範例不需使用 GPU, 將 GPU 設定為 \"無\"\n",
    "os.environ[\"CUDA_VISIBLE_DEVICES\"] = \"\""
   ]
  },
  {
   "cell_type": "code",
   "execution_count": 3,
   "metadata": {},
   "outputs": [],
   "source": [
    "train, test = keras.datasets.cifar10.load_data()"
   ]
  },
  {
   "cell_type": "code",
   "execution_count": 4,
   "metadata": {},
   "outputs": [],
   "source": [
    "## 資料前處理\n",
    "def preproc_x(x, flatten=True):\n",
    "    x = x / 255.\n",
    "    if flatten:\n",
    "        x = x.reshape((len(x), -1))\n",
    "    return x\n",
    "\n",
    "def preproc_y(y, num_classes=10):\n",
    "    if y.shape[-1] == 1:\n",
    "        y = keras.utils.to_categorical(y, num_classes)\n",
    "    return y    "
   ]
  },
  {
   "cell_type": "code",
   "execution_count": 5,
   "metadata": {},
   "outputs": [],
   "source": [
    "x_train, y_train = train\n",
    "x_test, y_test = test\n",
    "\n",
    "# 資料前處理 - X 標準化\n",
    "x_train = preproc_x(x_train)\n",
    "x_test = preproc_x(x_test)\n",
    "\n",
    "# 資料前處理 -Y 轉成 onehot\n",
    "y_train = preproc_y(y_train)\n",
    "y_test = preproc_y(y_test)"
   ]
  },
  {
   "cell_type": "code",
   "execution_count": 6,
   "metadata": {},
   "outputs": [],
   "source": [
    "from keras.layers import BatchNormalization\n",
    "\n",
    "\"\"\"\n",
    "建立神經網路，並加入 BN layer\n",
    "\"\"\"\n",
    "def build_mlp(input_shape, output_units=10, num_neurons=[512, 256, 128]):\n",
    "    input_layer = keras.layers.Input(input_shape)\n",
    "    \n",
    "    for i, n_units in enumerate(num_neurons):\n",
    "        if i == 0:\n",
    "            x = keras.layers.Dense(units=n_units, \n",
    "                                   activation=\"relu\", \n",
    "                                   name=\"hidden_layer\"+str(i+1))(input_layer)\n",
    "            x = BatchNormalization()(x)\n",
    "        else:\n",
    "            x = keras.layers.Dense(units=n_units, \n",
    "                                   activation=\"relu\", \n",
    "                                   name=\"hidden_layer\"+str(i+1))(x)\n",
    "            x = BatchNormalization()(x)\n",
    "    \n",
    "    out = keras.layers.Dense(units=output_units, activation=\"softmax\", name=\"output\")(x)\n",
    "    \n",
    "    model = keras.models.Model(inputs=[input_layer], outputs=[out])\n",
    "    return model"
   ]
  },
  {
   "cell_type": "code",
   "execution_count": 7,
   "metadata": {},
   "outputs": [],
   "source": [
    "## 超參數設定\n",
    "LEARNING_RATE = 1e-3\n",
    "EPOCHS = 50\n",
    "BATCH_SIZE = 1024\n",
    "MOMENTUM = 0.95"
   ]
  },
  {
   "cell_type": "code",
   "execution_count": 8,
   "metadata": {},
   "outputs": [],
   "source": [
    "\"\"\"\n",
    "# 載入 Callbacks, 並將 monitor 設定為監控 validation loss\n",
    "\"\"\"\n",
    "from keras.callbacks import EarlyStopping\n",
    "\n",
    "earlystop = EarlyStopping(monitor=\"val_loss\", \n",
    "                          patience=5, \n",
    "                          verbose=1\n",
    "                          )"
   ]
  },
  {
   "cell_type": "code",
   "execution_count": 9,
   "metadata": {
    "scrolled": true
   },
   "outputs": [
    {
     "name": "stdout",
     "output_type": "stream",
     "text": [
      "Model: \"model_1\"\n",
      "_________________________________________________________________\n",
      "Layer (type)                 Output Shape              Param #   \n",
      "=================================================================\n",
      "input_1 (InputLayer)         (None, 3072)              0         \n",
      "_________________________________________________________________\n",
      "hidden_layer1 (Dense)        (None, 512)               1573376   \n",
      "_________________________________________________________________\n",
      "batch_normalization_1 (Batch (None, 512)               2048      \n",
      "_________________________________________________________________\n",
      "hidden_layer2 (Dense)        (None, 256)               131328    \n",
      "_________________________________________________________________\n",
      "batch_normalization_2 (Batch (None, 256)               1024      \n",
      "_________________________________________________________________\n",
      "hidden_layer3 (Dense)        (None, 128)               32896     \n",
      "_________________________________________________________________\n",
      "batch_normalization_3 (Batch (None, 128)               512       \n",
      "_________________________________________________________________\n",
      "output (Dense)               (None, 10)                1290      \n",
      "=================================================================\n",
      "Total params: 1,742,474\n",
      "Trainable params: 1,740,682\n",
      "Non-trainable params: 1,792\n",
      "_________________________________________________________________\n",
      "WARNING:tensorflow:From C:\\ProgramData\\Anaconda3\\lib\\site-packages\\keras\\backend\\tensorflow_backend.py:422: The name tf.global_variables is deprecated. Please use tf.compat.v1.global_variables instead.\n",
      "\n",
      "Train on 50000 samples, validate on 10000 samples\n",
      "Epoch 1/50\n",
      "50000/50000 [==============================] - 5s 103us/step - loss: 2.2036 - accuracy: 0.2660 - val_loss: 2.1198 - val_accuracy: 0.2396\n",
      "Epoch 2/50\n",
      "50000/50000 [==============================] - 4s 88us/step - loss: 1.7488 - accuracy: 0.3869 - val_loss: 1.9667 - val_accuracy: 0.3117\n",
      "Epoch 3/50\n",
      "50000/50000 [==============================] - 4s 83us/step - loss: 1.6218 - accuracy: 0.4314 - val_loss: 1.8250 - val_accuracy: 0.3679\n",
      "Epoch 4/50\n",
      "50000/50000 [==============================] - 5s 103us/step - loss: 1.5467 - accuracy: 0.4581 - val_loss: 1.7277 - val_accuracy: 0.3892\n",
      "Epoch 5/50\n",
      "50000/50000 [==============================] - 5s 107us/step - loss: 1.4902 - accuracy: 0.4791 - val_loss: 1.6399 - val_accuracy: 0.4266\n",
      "Epoch 6/50\n",
      "50000/50000 [==============================] - 5s 109us/step - loss: 1.4428 - accuracy: 0.4966 - val_loss: 1.5894 - val_accuracy: 0.4412\n",
      "Epoch 7/50\n",
      "50000/50000 [==============================] - 6s 116us/step - loss: 1.4049 - accuracy: 0.5100 - val_loss: 1.5450 - val_accuracy: 0.4549\n",
      "Epoch 8/50\n",
      "50000/50000 [==============================] - 5s 104us/step - loss: 1.3704 - accuracy: 0.5220 - val_loss: 1.5291 - val_accuracy: 0.4586\n",
      "Epoch 9/50\n",
      "50000/50000 [==============================] - 5s 100us/step - loss: 1.3366 - accuracy: 0.5361 - val_loss: 1.5013 - val_accuracy: 0.4682\n",
      "Epoch 10/50\n",
      "50000/50000 [==============================] - 5s 102us/step - loss: 1.3064 - accuracy: 0.5484 - val_loss: 1.5043 - val_accuracy: 0.4643\n",
      "Epoch 11/50\n",
      "50000/50000 [==============================] - 5s 100us/step - loss: 1.2780 - accuracy: 0.5555 - val_loss: 1.4866 - val_accuracy: 0.4733\n",
      "Epoch 12/50\n",
      "50000/50000 [==============================] - 5s 100us/step - loss: 1.2502 - accuracy: 0.5674 - val_loss: 1.4706 - val_accuracy: 0.4795\n",
      "Epoch 13/50\n",
      "50000/50000 [==============================] - 5s 102us/step - loss: 1.2270 - accuracy: 0.5760 - val_loss: 1.4714 - val_accuracy: 0.4826\n",
      "Epoch 14/50\n",
      "50000/50000 [==============================] - 5s 101us/step - loss: 1.2004 - accuracy: 0.5846 - val_loss: 1.4681 - val_accuracy: 0.4871\n",
      "Epoch 15/50\n",
      "50000/50000 [==============================] - 5s 101us/step - loss: 1.1761 - accuracy: 0.5941 - val_loss: 1.4719 - val_accuracy: 0.4805\n",
      "Epoch 16/50\n",
      "50000/50000 [==============================] - 5s 103us/step - loss: 1.1526 - accuracy: 0.6034 - val_loss: 1.4641 - val_accuracy: 0.4874\n",
      "Epoch 17/50\n",
      "50000/50000 [==============================] - 5s 102us/step - loss: 1.1299 - accuracy: 0.6104 - val_loss: 1.4742 - val_accuracy: 0.4858\n",
      "Epoch 18/50\n",
      "50000/50000 [==============================] - 5s 101us/step - loss: 1.1075 - accuracy: 0.6193 - val_loss: 1.4569 - val_accuracy: 0.4888\n",
      "Epoch 19/50\n",
      "50000/50000 [==============================] - 5s 102us/step - loss: 1.0844 - accuracy: 0.6284 - val_loss: 1.4765 - val_accuracy: 0.4869\n",
      "Epoch 20/50\n",
      "50000/50000 [==============================] - 5s 99us/step - loss: 1.0637 - accuracy: 0.6357 - val_loss: 1.4537 - val_accuracy: 0.4937\n",
      "Epoch 21/50\n",
      "50000/50000 [==============================] - 5s 99us/step - loss: 1.0404 - accuracy: 0.6465 - val_loss: 1.4652 - val_accuracy: 0.4918\n",
      "Epoch 22/50\n",
      "50000/50000 [==============================] - 5s 101us/step - loss: 1.0208 - accuracy: 0.6530 - val_loss: 1.4646 - val_accuracy: 0.4907\n",
      "Epoch 23/50\n",
      "50000/50000 [==============================] - 5s 102us/step - loss: 0.9996 - accuracy: 0.6614 - val_loss: 1.4672 - val_accuracy: 0.4946\n",
      "Epoch 24/50\n",
      "50000/50000 [==============================] - 5s 99us/step - loss: 0.9790 - accuracy: 0.6691 - val_loss: 1.4568 - val_accuracy: 0.4996\n",
      "Epoch 25/50\n",
      "50000/50000 [==============================] - 5s 99us/step - loss: 0.9581 - accuracy: 0.6784 - val_loss: 1.4797 - val_accuracy: 0.4863\n",
      "Epoch 00025: early stopping\n"
     ]
    }
   ],
   "source": [
    "model = build_mlp(input_shape=x_train.shape[1:])\n",
    "model.summary()\n",
    "optimizer = keras.optimizers.SGD(lr=LEARNING_RATE, nesterov=True, momentum=MOMENTUM)\n",
    "model.compile(loss=\"categorical_crossentropy\", metrics=[\"accuracy\"], optimizer=optimizer)\n",
    "\n",
    "model.fit(x_train, y_train, \n",
    "          epochs=EPOCHS, \n",
    "          batch_size=BATCH_SIZE, \n",
    "          validation_data=(x_test, y_test), \n",
    "          shuffle=True,\n",
    "          callbacks=[earlystop]\n",
    "         )\n",
    "\n",
    "# Collect results\n",
    "train_loss = model.history.history[\"loss\"]\n",
    "valid_loss = model.history.history[\"val_loss\"]\n",
    "train_acc = model.history.history[\"accuracy\"]\n",
    "valid_acc = model.history.history[\"val_accuracy\"]"
   ]
  },
  {
   "cell_type": "code",
   "execution_count": 10,
   "metadata": {},
   "outputs": [
    {
     "data": {
      "image/png": "[encoded data removed]",
      "text/plain": [
       "<Figure size 432x288 with 1 Axes>"
      ]
     },
     "metadata": {
      "needs_background": "light"
     },
     "output_type": "display_data"
    },
    {
     "data": {
      "image/png": "[encoded data removed]",
      "text/plain": [
       "<Figure size 432x288 with 1 Axes>"
      ]
     },
     "metadata": {
      "needs_background": "light"
     },
     "output_type": "display_data"
    }
   ],
   "source": [
    "import matplotlib.pyplot as plt\n",
    "%matplotlib inline\n",
    "\n",
    "plt.plot(range(len(train_loss)), train_loss, label=\"train loss\")\n",
    "plt.plot(range(len(valid_loss)), valid_loss, label=\"valid loss\")\n",
    "plt.legend()\n",
    "plt.title(\"Loss\")\n",
    "plt.show()\n",
    "\n",
    "plt.plot(range(len(train_acc)), train_acc, label=\"train accuracy\")\n",
    "plt.plot(range(len(valid_acc)), valid_acc, label=\"valid accuracy\")\n",
    "plt.legend()\n",
    "plt.title(\"Accuracy\")\n",
    "plt.show()"
   ]
  },
  {
   "cell_type": "markdown",
   "metadata": {},
   "source": [
    "## Work\n",
    "1. 試改變 monitor \"Validation Accuracy\" 並比較結果\n",
    "2. 調整 earlystop 的等待次數至 10, 25 並比較結果"
   ]
  }
 ],
 "metadata": {
  "kernelspec": {
   "display_name": "Python 3",
   "language": "python",
   "name": "python3"
  },
  "language_info": {
   "codemirror_mode": {
    "name": "ipython",
    "version": 3
   },
   "file_extension": ".py",
   "mimetype": "text/x-python",
   "name": "python",
   "nbconvert_exporter": "python",
   "pygments_lexer": "ipython3",
   "version": "3.7.6"
  }
 },
 "nbformat": 4,
 "nbformat_minor": 2
}
